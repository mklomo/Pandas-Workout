{
 "cells": [
  {
   "cell_type": "code",
   "execution_count": 1,
   "metadata": {},
   "outputs": [],
   "source": [
    "import pandas as pd\n",
    "import string"
   ]
  },
  {
   "cell_type": "code",
   "execution_count": 2,
   "metadata": {},
   "outputs": [
    {
     "data": {
      "text/plain": [
       "0           ï»¿The\n",
       "1          Project\n",
       "2        Gutenberg\n",
       "3            EBook\n",
       "4               of\n",
       "           ...    \n",
       "12758           to\n",
       "12759         hear\n",
       "12760        about\n",
       "12761          new\n",
       "12762      eBooks.\n",
       "Length: 12763, dtype: object"
      ]
     },
     "execution_count": 2,
     "metadata": {},
     "output_type": "execute_result"
    }
   ],
   "source": [
    "data_url = 'data/alice-in-wonderland.txt'\n",
    "\n",
    "alice_series = pd.Series(open(data_url).read().split())\n",
    "\n",
    "alice_series"
   ]
  },
  {
   "cell_type": "markdown",
   "metadata": {},
   "source": [
    "> The read method returns a string containing the contents of the file. What if\n",
    "the file contains several terabytes of data? I suggest that people not read an entire file into memory at once, instead iterating over its lines. In this particular case, I know that the\n",
    "file is small, and that there won’t be any issues with reading it all at once."
   ]
  },
  {
   "cell_type": "code",
   "execution_count": 3,
   "metadata": {},
   "outputs": [
    {
     "data": {
      "text/plain": [
       "the    807\n",
       "and    404\n",
       "a      328\n",
       "to     327\n",
       "of     318\n",
       "she    237\n",
       "in     227\n",
       "it     183\n",
       "you    171\n",
       "was    168\n",
       "dtype: int64"
      ]
     },
     "execution_count": 3,
     "metadata": {},
     "output_type": "execute_result"
    }
   ],
   "source": [
    "# What are the 10 most common words in the book?\n",
    "(\n",
    "    alice_series\n",
    "    # lowercase the entire series\n",
    "    .str.lower()\n",
    "    # Strip all punctuations\n",
    "    .str.strip(string.punctuation)\n",
    "    # Now count the top 10 words\n",
    "    .value_counts()[:10]\n",
    ")"
   ]
  },
  {
   "cell_type": "code",
   "execution_count": 4,
   "metadata": {},
   "outputs": [
    {
     "data": {
      "text/plain": [
       "1686"
      ]
     },
     "execution_count": 4,
     "metadata": {},
     "output_type": "execute_result"
    }
   ],
   "source": [
    "# count the number of capitalized words in the book\n",
    "\n",
    "(\n",
    "    alice_series[\n",
    "    (alice_series.str.strip(string.punctuation)\n",
    "    .str.contains('^[A-Z]\\w*$', regex=True)\n",
    "    )\n",
    "    ]\n",
    ").count()"
   ]
  },
  {
   "cell_type": "markdown",
   "metadata": {},
   "source": [
    "> The value will be True whenever the word starts with a capital letter (anchored to the start of the string with ^) and contains zero or more alphanumeric characters (\\w*) through the end of the word."
   ]
  },
  {
   "cell_type": "markdown",
   "metadata": {},
   "source": [
    "> Count the number of vowels (a, e, i, o, and u) in each word. What is the average number\n",
    "of vowels per word?"
   ]
  },
  {
   "cell_type": "code",
   "execution_count": 5,
   "metadata": {},
   "outputs": [],
   "source": [
    "def count_vowels(one_word):\n",
    "    total = 0\n",
    "    for one_letter in one_word.lower():\n",
    "        if one_letter in 'aeiou':\n",
    "            total += 1\n",
    "    return total"
   ]
  },
  {
   "cell_type": "code",
   "execution_count": 6,
   "metadata": {},
   "outputs": [
    {
     "data": {
      "text/plain": [
       "1.66379377889211"
      ]
     },
     "execution_count": 6,
     "metadata": {},
     "output_type": "execute_result"
    }
   ],
   "source": [
    "alice_series.apply(count_vowels).mean()"
   ]
  },
  {
   "cell_type": "code",
   "execution_count": 7,
   "metadata": {},
   "outputs": [
    {
     "data": {
      "text/html": [
       "<div>\n",
       "<style scoped>\n",
       "    .dataframe tbody tr th:only-of-type {\n",
       "        vertical-align: middle;\n",
       "    }\n",
       "\n",
       "    .dataframe tbody tr th {\n",
       "        vertical-align: top;\n",
       "    }\n",
       "\n",
       "    .dataframe thead th {\n",
       "        text-align: right;\n",
       "    }\n",
       "</style>\n",
       "<table border=\"1\" class=\"dataframe\">\n",
       "  <thead>\n",
       "    <tr style=\"text-align: right;\">\n",
       "      <th></th>\n",
       "      <th>country</th>\n",
       "      <th>description</th>\n",
       "      <th>province</th>\n",
       "      <th>variety</th>\n",
       "    </tr>\n",
       "  </thead>\n",
       "  <tbody>\n",
       "    <tr>\n",
       "      <th>0</th>\n",
       "      <td>US</td>\n",
       "      <td>This tremendous 100% varietal wine hails from ...</td>\n",
       "      <td>California</td>\n",
       "      <td>Cabernet Sauvignon</td>\n",
       "    </tr>\n",
       "    <tr>\n",
       "      <th>1</th>\n",
       "      <td>Spain</td>\n",
       "      <td>Ripe aromas of fig, blackberry and cassis are ...</td>\n",
       "      <td>Northern Spain</td>\n",
       "      <td>Tinta de Toro</td>\n",
       "    </tr>\n",
       "    <tr>\n",
       "      <th>2</th>\n",
       "      <td>US</td>\n",
       "      <td>Mac Watson honors the memory of a wine once ma...</td>\n",
       "      <td>California</td>\n",
       "      <td>Sauvignon Blanc</td>\n",
       "    </tr>\n",
       "    <tr>\n",
       "      <th>3</th>\n",
       "      <td>US</td>\n",
       "      <td>This spent 20 months in 30% new French oak, an...</td>\n",
       "      <td>Oregon</td>\n",
       "      <td>Pinot Noir</td>\n",
       "    </tr>\n",
       "    <tr>\n",
       "      <th>4</th>\n",
       "      <td>France</td>\n",
       "      <td>This is the top wine from La Bégude, named aft...</td>\n",
       "      <td>Provence</td>\n",
       "      <td>Provence red blend</td>\n",
       "    </tr>\n",
       "  </tbody>\n",
       "</table>\n",
       "</div>"
      ],
      "text/plain": [
       "  country                                        description        province  \\\n",
       "0      US  This tremendous 100% varietal wine hails from ...      California   \n",
       "1   Spain  Ripe aromas of fig, blackberry and cassis are ...  Northern Spain   \n",
       "2      US  Mac Watson honors the memory of a wine once ma...      California   \n",
       "3      US  This spent 20 months in 30% new French oak, an...          Oregon   \n",
       "4  France  This is the top wine from La Bégude, named aft...        Provence   \n",
       "\n",
       "              variety  \n",
       "0  Cabernet Sauvignon  \n",
       "1       Tinta de Toro  \n",
       "2     Sauvignon Blanc  \n",
       "3          Pinot Noir  \n",
       "4  Provence red blend  "
      ]
     },
     "execution_count": 7,
     "metadata": {},
     "output_type": "execute_result"
    }
   ],
   "source": [
    "wine_url = 'data/winemag-150k-reviews.csv'\n",
    "\n",
    "wine_df = pd.read_csv(wine_url, usecols=['country', 'province', 'description', 'variety'])\n",
    "\n",
    "# Preview the data\n",
    "wine_df.head()"
   ]
  },
  {
   "cell_type": "code",
   "execution_count": 8,
   "metadata": {},
   "outputs": [
    {
     "data": {
      "text/plain": [
       "0    tremendous\n",
       "0      varietal\n",
       "0         hails\n",
       "0      oakville\n",
       "0         three\n",
       "0         years\n",
       "0         juicy\n",
       "0    red-cherry\n",
       "0         fruit\n",
       "0    compelling\n",
       "Name: description, dtype: object"
      ]
     },
     "execution_count": 8,
     "metadata": {},
     "output_type": "execute_result"
    }
   ],
   "source": [
    "common_wine_words = ['flavors', 'aromas', 'finish', 'drink', 'palate']\n",
    "\n",
    "(\n",
    "    wine_df['description']\n",
    "    # Turn to lowercase\n",
    "    .str.lower()\n",
    "    # Split each word in the sentence into individual words\n",
    "    .str.split()\n",
    "    # return a new series  one in which each object has its own row whilst maintaining the index\n",
    "    .explode()\n",
    "    # Remove all punctuations\n",
    "    .str.strip(string.punctuation)\n",
    "    # Remove words with length < 5 and common words\n",
    "    .loc[(lambda _: (_.str.len() >= 5) & ~(_.isin(common_wine_words)))]\n",
    ")[:10]"
   ]
  },
  {
   "cell_type": "code",
   "execution_count": 9,
   "metadata": {},
   "outputs": [
    {
     "data": {
      "text/plain": [
       "0    tremendous\n",
       "0      varietal\n",
       "0         hails\n",
       "0      oakville\n",
       "0         three\n",
       "0         years\n",
       "0         juicy\n",
       "0    red-cherry\n",
       "0         fruit\n",
       "0    compelling\n",
       "Name: description, dtype: object"
      ]
     },
     "execution_count": 9,
     "metadata": {},
     "output_type": "execute_result"
    }
   ],
   "source": [
    "def top_10_words(series: pd.Series):\n",
    "    common_wine_words = ['flavors', 'aromas', 'finish', 'drink', 'palate']\n",
    "\n",
    "    return (\n",
    "                series\n",
    "                # Turn to lowercase\n",
    "                .str.lower()\n",
    "                # Split each word in the sentence into individual words\n",
    "                .str.split()\n",
    "                # return a new series  one in which each object has its own row whilst maintaining the index\n",
    "                .explode()\n",
    "                # Remove all punctuations\n",
    "                .str.strip(string.punctuation)\n",
    "                # Remove words with length < 5 and common words\n",
    "                .loc[(lambda _: (_.str.len() >= 5) & ~(_.isin(common_wine_words)))]\n",
    "                # Return the top 10\n",
    "                [:10]\n",
    "          )\n",
    "    \n",
    "top_10_words(wine_df['description'])"
   ]
  },
  {
   "cell_type": "code",
   "execution_count": 10,
   "metadata": {},
   "outputs": [
    {
     "data": {
      "text/plain": [
       "4          bégude\n",
       "4           named\n",
       "4           after\n",
       "4         highest\n",
       "4           point\n",
       "4        vineyard\n",
       "4       structure\n",
       "4         density\n",
       "4    considerable\n",
       "4         acidity\n",
       "Name: description, dtype: object"
      ]
     },
     "execution_count": 10,
     "metadata": {},
     "output_type": "execute_result"
    }
   ],
   "source": [
    "# 10 most common words used in French wine reviews\n",
    "\n",
    "top_10_words(series = wine_df.loc[(wine_df['country'] == 'France'), 'description'])"
   ]
  },
  {
   "cell_type": "markdown",
   "metadata": {},
   "source": [
    "Tasks\n",
    "\n",
    "- Open the file so_2021_survey_results.csv, and read it into a data frame. We only\n",
    "need the columns LanguageHaveWorkedWith, LanguageWantToWorkWith, Country,\n",
    "and CompTotal.\n",
    "- What are the different programming languages that developers currently use?\n",
    "- What are the 10 programming languages most commonly used today?\n",
    "- What are the 10 programming languages people most want to use?\n",
    "- What languages are on both top-10 lists?\n",
    "- What languages in the top 10 have people worked with, but don’t want to work with in\n",
    "the future?\n",
    "- What is the most popular (current) language used by people in each country?\n",
    "- What is the mean number of languages used in the last year?\n",
    "- What is the greatest number of languages people listed as having used in the last year?\n",
    "- How many people chose that largest number?\n",
    "- How many people in the survey claim salaries of $2m or above?\n",
    "- Remove rows in which salaries are below $2m\n",
    "- Turn the 'LanguageHaveWorkedWith' column into \"dummy\" columns in df, such that\n",
    "each language is its own column.\n",
    "- If you want to maximize your salary, and have to choose two languages from Python,\n",
    "JavaScript, and Java, then what combination would be best?"
   ]
  },
  {
   "cell_type": "code",
   "execution_count": 11,
   "metadata": {},
   "outputs": [
    {
     "data": {
      "text/html": [
       "<div>\n",
       "<style scoped>\n",
       "    .dataframe tbody tr th:only-of-type {\n",
       "        vertical-align: middle;\n",
       "    }\n",
       "\n",
       "    .dataframe tbody tr th {\n",
       "        vertical-align: top;\n",
       "    }\n",
       "\n",
       "    .dataframe thead th {\n",
       "        text-align: right;\n",
       "    }\n",
       "</style>\n",
       "<table border=\"1\" class=\"dataframe\">\n",
       "  <thead>\n",
       "    <tr style=\"text-align: right;\">\n",
       "      <th></th>\n",
       "      <th>Country</th>\n",
       "      <th>CompTotal</th>\n",
       "      <th>LanguageHaveWorkedWith</th>\n",
       "      <th>LanguageWantToWorkWith</th>\n",
       "    </tr>\n",
       "  </thead>\n",
       "  <tbody>\n",
       "    <tr>\n",
       "      <th>0</th>\n",
       "      <td>Slovakia</td>\n",
       "      <td>4800.0</td>\n",
       "      <td>C++;HTML/CSS;JavaScript;Objective-C;PHP;Swift</td>\n",
       "      <td>Swift</td>\n",
       "    </tr>\n",
       "    <tr>\n",
       "      <th>1</th>\n",
       "      <td>Netherlands</td>\n",
       "      <td>NaN</td>\n",
       "      <td>JavaScript;Python</td>\n",
       "      <td>NaN</td>\n",
       "    </tr>\n",
       "    <tr>\n",
       "      <th>2</th>\n",
       "      <td>Russian Federation</td>\n",
       "      <td>NaN</td>\n",
       "      <td>Assembly;C;Python;R;Rust</td>\n",
       "      <td>Julia;Python;Rust</td>\n",
       "    </tr>\n",
       "    <tr>\n",
       "      <th>3</th>\n",
       "      <td>Austria</td>\n",
       "      <td>NaN</td>\n",
       "      <td>JavaScript;TypeScript</td>\n",
       "      <td>JavaScript;TypeScript</td>\n",
       "    </tr>\n",
       "    <tr>\n",
       "      <th>4</th>\n",
       "      <td>United Kingdom of Great Britain and Northern I...</td>\n",
       "      <td>NaN</td>\n",
       "      <td>Bash/Shell;HTML/CSS;Python;SQL</td>\n",
       "      <td>Bash/Shell;HTML/CSS;Python;SQL</td>\n",
       "    </tr>\n",
       "  </tbody>\n",
       "</table>\n",
       "</div>"
      ],
      "text/plain": [
       "                                             Country  CompTotal  \\\n",
       "0                                           Slovakia     4800.0   \n",
       "1                                        Netherlands        NaN   \n",
       "2                                 Russian Federation        NaN   \n",
       "3                                            Austria        NaN   \n",
       "4  United Kingdom of Great Britain and Northern I...        NaN   \n",
       "\n",
       "                          LanguageHaveWorkedWith  \\\n",
       "0  C++;HTML/CSS;JavaScript;Objective-C;PHP;Swift   \n",
       "1                              JavaScript;Python   \n",
       "2                       Assembly;C;Python;R;Rust   \n",
       "3                          JavaScript;TypeScript   \n",
       "4                 Bash/Shell;HTML/CSS;Python;SQL   \n",
       "\n",
       "           LanguageWantToWorkWith  \n",
       "0                           Swift  \n",
       "1                             NaN  \n",
       "2               Julia;Python;Rust  \n",
       "3           JavaScript;TypeScript  \n",
       "4  Bash/Shell;HTML/CSS;Python;SQL  "
      ]
     },
     "execution_count": 11,
     "metadata": {},
     "output_type": "execute_result"
    }
   ],
   "source": [
    "data_url = 'data/so_2021_survey_results.csv'\n",
    "\n",
    "so_df = pd.read_csv(data_url, usecols=['LanguageHaveWorkedWith', 'LanguageWantToWorkWith', 'Country', 'CompTotal'])\n",
    "\n",
    "so_df.head()"
   ]
  },
  {
   "cell_type": "code",
   "execution_count": 18,
   "metadata": {},
   "outputs": [],
   "source": [
    "# What different programming languages programmers use\n",
    "\n",
    "have_worked_with = (\n",
    "    so_df['LanguageHaveWorkedWith']\n",
    "    # Access the string and split on the separator\n",
    "    .str.split(';')\n",
    "    # Now, Expand this selection\n",
    "    .explode()\n",
    "    # Lets count the occurrence\n",
    "    .value_counts()\n",
    "    # Select the top 10\n",
    "    [:10]\n",
    "    # Get the names of the languages\n",
    "    .index\n",
    ")"
   ]
  },
  {
   "cell_type": "code",
   "execution_count": 19,
   "metadata": {},
   "outputs": [],
   "source": [
    "want_to_work_with = (\n",
    "    so_df['LanguageWantToWorkWith']\n",
    "    # Access the string and split on the separator\n",
    "    .str.split(';')\n",
    "    # Now, Expand this selection\n",
    "    .explode()\n",
    "    # Lets count the occurrence\n",
    "    .value_counts()\n",
    "    # Select the top 10\n",
    "    [:10]\n",
    "    # Get the names of the languages\n",
    "    .index\n",
    ")"
   ]
  },
  {
   "cell_type": "code",
   "execution_count": 21,
   "metadata": {},
   "outputs": [
    {
     "data": {
      "text/plain": [
       "Index(['JavaScript', 'Python', 'HTML/CSS', 'TypeScript', 'SQL', 'Node.js',\n",
       "       'C#', 'Java'],\n",
       "      dtype='object')"
      ]
     },
     "execution_count": 21,
     "metadata": {},
     "output_type": "execute_result"
    }
   ],
   "source": [
    "# what languages are on both top-10 lists\n",
    "\n",
    "want_to_work_with.intersection(have_worked_with)"
   ]
  },
  {
   "cell_type": "code",
   "execution_count": 23,
   "metadata": {},
   "outputs": [
    {
     "data": {
      "text/plain": [
       "Index(['Bash/Shell', 'C++'], dtype='object')"
      ]
     },
     "execution_count": 23,
     "metadata": {},
     "output_type": "execute_result"
    }
   ],
   "source": [
    "# What languages in the top 10 have people worked with, but don’t want\n",
    "# to work with in the coming year?\n",
    "\n",
    "have_worked_with[~(have_worked_with.isin(want_to_work_with))]"
   ]
  },
  {
   "cell_type": "code",
   "execution_count": 24,
   "metadata": {},
   "outputs": [],
   "source": [
    "# which language is most popular in each country\n",
    "\n",
    "all_languages = (\n",
    "    so_df['LanguageHaveWorkedWith']\n",
    "    # Access the string and split on the separator\n",
    "    .str.split(';')\n",
    "    # Now, Expand this selection\n",
    "    .explode()\n",
    ")\n",
    "\n",
    "\n"
   ]
  },
  {
   "cell_type": "code",
   "execution_count": 33,
   "metadata": {},
   "outputs": [
    {
     "data": {
      "text/html": [
       "<div>\n",
       "<style scoped>\n",
       "    .dataframe tbody tr th:only-of-type {\n",
       "        vertical-align: middle;\n",
       "    }\n",
       "\n",
       "    .dataframe tbody tr th {\n",
       "        vertical-align: top;\n",
       "    }\n",
       "\n",
       "    .dataframe thead th {\n",
       "        text-align: right;\n",
       "    }\n",
       "</style>\n",
       "<table border=\"1\" class=\"dataframe\">\n",
       "  <thead>\n",
       "    <tr style=\"text-align: right;\">\n",
       "      <th></th>\n",
       "      <th>LanguageHaveWorkedWith</th>\n",
       "    </tr>\n",
       "    <tr>\n",
       "      <th>Country</th>\n",
       "      <th></th>\n",
       "    </tr>\n",
       "  </thead>\n",
       "  <tbody>\n",
       "    <tr>\n",
       "      <th>Afghanistan</th>\n",
       "      <td>JavaScript</td>\n",
       "    </tr>\n",
       "    <tr>\n",
       "      <th>Albania</th>\n",
       "      <td>JavaScript</td>\n",
       "    </tr>\n",
       "    <tr>\n",
       "      <th>Algeria</th>\n",
       "      <td>JavaScript</td>\n",
       "    </tr>\n",
       "    <tr>\n",
       "      <th>Andorra</th>\n",
       "      <td>JavaScript</td>\n",
       "    </tr>\n",
       "    <tr>\n",
       "      <th>Angola</th>\n",
       "      <td>[HTML/CSS, JavaScript]</td>\n",
       "    </tr>\n",
       "    <tr>\n",
       "      <th>...</th>\n",
       "      <td>...</td>\n",
       "    </tr>\n",
       "    <tr>\n",
       "      <th>Venezuela, Bolivarian Republic of...</th>\n",
       "      <td>JavaScript</td>\n",
       "    </tr>\n",
       "    <tr>\n",
       "      <th>Viet Nam</th>\n",
       "      <td>JavaScript</td>\n",
       "    </tr>\n",
       "    <tr>\n",
       "      <th>Yemen</th>\n",
       "      <td>[C#, HTML/CSS]</td>\n",
       "    </tr>\n",
       "    <tr>\n",
       "      <th>Zambia</th>\n",
       "      <td>HTML/CSS</td>\n",
       "    </tr>\n",
       "    <tr>\n",
       "      <th>Zimbabwe</th>\n",
       "      <td>JavaScript</td>\n",
       "    </tr>\n",
       "  </tbody>\n",
       "</table>\n",
       "<p>181 rows × 1 columns</p>\n",
       "</div>"
      ],
      "text/plain": [
       "                                      LanguageHaveWorkedWith\n",
       "Country                                                     \n",
       "Afghanistan                                       JavaScript\n",
       "Albania                                           JavaScript\n",
       "Algeria                                           JavaScript\n",
       "Andorra                                           JavaScript\n",
       "Angola                                [HTML/CSS, JavaScript]\n",
       "...                                                      ...\n",
       "Venezuela, Bolivarian Republic of...              JavaScript\n",
       "Viet Nam                                          JavaScript\n",
       "Yemen                                         [C#, HTML/CSS]\n",
       "Zambia                                              HTML/CSS\n",
       "Zimbabwe                                          JavaScript\n",
       "\n",
       "[181 rows x 1 columns]"
      ]
     },
     "execution_count": 33,
     "metadata": {},
     "output_type": "execute_result"
    }
   ],
   "source": [
    "(\n",
    "    so_df[['Country']]\n",
    "    # Join with the all languages series\n",
    "    .join(all_languages)\n",
    "    # Groupby the country column\n",
    "    .groupby('Country')\n",
    "    # Agg\n",
    "    .agg(pd.Series.mode) \n",
    ")"
   ]
  },
  {
   "cell_type": "code",
   "execution_count": 35,
   "metadata": {},
   "outputs": [
    {
     "data": {
      "text/plain": [
       "5.373678011583714"
      ]
     },
     "execution_count": 35,
     "metadata": {},
     "output_type": "execute_result"
    }
   ],
   "source": [
    "# find the mean number of languages that developers used in the last year\n",
    "\n",
    "(\n",
    "    so_df['LanguageHaveWorkedWith']\n",
    "    # Split text \n",
    "    .str.split(';')\n",
    "    # Determine the length of the list\n",
    "    .str.len()\n",
    "    # Find the mean\n",
    "    .mean()\n",
    ")"
   ]
  },
  {
   "cell_type": "code",
   "execution_count": 38,
   "metadata": {},
   "outputs": [
    {
     "data": {
      "text/plain": [
       "38.0"
      ]
     },
     "execution_count": 38,
     "metadata": {},
     "output_type": "execute_result"
    }
   ],
   "source": [
    "# find out the greatest number of languages anyone had indicated they used in the last year\n",
    "\n",
    "(\n",
    "    so_df['LanguageHaveWorkedWith']\n",
    "    # Split text\n",
    "    .str.split(';')\n",
    "    .str.len()\n",
    "    # Find the max\n",
    "    .max()\n",
    ")"
   ]
  },
  {
   "cell_type": "code",
   "execution_count": 41,
   "metadata": {},
   "outputs": [
    {
     "data": {
      "text/plain": [
       "2369"
      ]
     },
     "execution_count": 41,
     "metadata": {},
     "output_type": "execute_result"
    }
   ],
   "source": [
    "(\n",
    "    so_df['CompTotal']\n",
    "    .loc[(so_df['CompTotal'] >= 2_000_000)]\n",
    "    .count()\n",
    ")"
   ]
  },
  {
   "cell_type": "markdown",
   "metadata": {},
   "source": [
    "> I want to take the LanguageHaveWorkedWith\n",
    "column, and turn it into multiple columns. That’ll allow us to more easily analyze the individual\n",
    "languages. Doing this is known as creating \"dummy columns.\""
   ]
  },
  {
   "cell_type": "code",
   "execution_count": 43,
   "metadata": {},
   "outputs": [],
   "source": [
    "so_df = so_df.loc[(so_df['CompTotal'] < 2_000_000)]\n",
    "\n",
    "\n",
    "dummy_lang = (\n",
    "    so_df['LanguageHaveWorkedWith']\n",
    "    .str.get_dummies(sep=';')\n",
    ")\n",
    "\n",
    "\n",
    "so_df = pd.concat([dummy_lang, so_df], axis='columns')"
   ]
  },
  {
   "cell_type": "code",
   "execution_count": 45,
   "metadata": {},
   "outputs": [
    {
     "data": {
      "text/plain": [
       "126817.99470235605"
      ]
     },
     "execution_count": 45,
     "metadata": {},
     "output_type": "execute_result"
    }
   ],
   "source": [
    "# First, what was the average salary of someone who knows Python and JavaScript, but not Java\n",
    "(\n",
    "    so_df['CompTotal'].loc[(\n",
    "                        (so_df['Python'] == 1) &\n",
    "                        (so_df['JavaScript'] == 1) &\n",
    "                        (so_df['Java'] == 0)\n",
    "                      )]\n",
    "    .mean()\n",
    ")"
   ]
  },
  {
   "cell_type": "code",
   "execution_count": 46,
   "metadata": {},
   "outputs": [
    {
     "data": {
      "text/plain": [
       "162737.10379596677"
      ]
     },
     "execution_count": 46,
     "metadata": {},
     "output_type": "execute_result"
    }
   ],
   "source": [
    "# What about someone who knows Python and Java, but not JavaScript?\n",
    "\n",
    "(\n",
    "    so_df['CompTotal'].loc[(\n",
    "                        (so_df['Python'] == 1) &\n",
    "                        (so_df['JavaScript'] == 0) &\n",
    "                        (so_df['Java'] == 1)\n",
    "                      )]\n",
    "    .mean()\n",
    ")"
   ]
  },
  {
   "cell_type": "code",
   "execution_count": 47,
   "metadata": {},
   "outputs": [
    {
     "data": {
      "text/plain": [
       "140867.65981559738"
      ]
     },
     "execution_count": 47,
     "metadata": {},
     "output_type": "execute_result"
    }
   ],
   "source": [
    "# what about someone who knows Java and JavaScript, but not Python\n",
    "\n",
    "(\n",
    "    so_df['CompTotal'].loc[(\n",
    "                        (so_df['Python'] == 0) &\n",
    "                        (so_df['JavaScript'] == 1) &\n",
    "                        (so_df['Java'] == 1)\n",
    "                      )]\n",
    "    .mean()\n",
    ")"
   ]
  }
 ],
 "metadata": {
  "kernelspec": {
   "display_name": "Python 3.9.7 ('pandas_workout_env')",
   "language": "python",
   "name": "python3"
  },
  "language_info": {
   "codemirror_mode": {
    "name": "ipython",
    "version": 3
   },
   "file_extension": ".py",
   "mimetype": "text/x-python",
   "name": "python",
   "nbconvert_exporter": "python",
   "pygments_lexer": "ipython3",
   "version": "3.9.7"
  },
  "orig_nbformat": 4,
  "vscode": {
   "interpreter": {
    "hash": "0543464cf5946af87ce57781b31ba03f0f2093332ce5d077919adfc38f017c4c"
   }
  }
 },
 "nbformat": 4,
 "nbformat_minor": 2
}
