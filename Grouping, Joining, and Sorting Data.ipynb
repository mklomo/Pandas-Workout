{
 "cells": [
  {
   "cell_type": "markdown",
   "metadata": {},
   "source": [
    "### Grouping, Joining and Sorting \n",
    "\n",
    "A company might want to find out its total sales in the last quarter. But it might want to find out which countries have done particularly well (or poorly). Or perhaps the head of sales would like to see how much each individual salesperson has brought in, or how much each product has contributed to the company’s income.\n",
    "\n",
    "These types of questions can be answered using a technique known as \"grouping.\" Much like the GROUP BY clause in an SQL query, we can use grouping in pandas to ask the same question for various subsets of our data.\n",
    "\n",
    "Another common technique, also encountered when working with SQL databases, is that of \"joining.\" What happens if the data you want to analyze is split across two separate data frames? For example, one data frame lists each sales region and that region’s manager, while a second data frame contains this quarter’s regional sales results. If you want to show the manager’s name alongside the sales results, you’ll want to join the data frames together, then\n",
    "\n"
   ]
  },
  {
   "cell_type": "markdown",
   "metadata": {},
   "source": [
    "TODO: \n",
    "- Load the CSV file into a data frame, using only the columns passenger_count, trip_distance, and total_amount.\n",
    "- Using a descending sort, find the average cost of the 20 longest (in distance) taxi rides in January 2019.\n",
    "- Now using an ascending sort, find the average cost of the 20 longest (in distance) taxi rides in January 2019. Specify \"mergesort\" as the sorting algorithm. Are the results any different?\n",
    "- Sort by ascending passenger count and descending trip distance. (So we’ll start with the longest trip with 0 passengers and end with the shortest trip with 6 passengers.) What is the average price paid for the top 50 rides?"
   ]
  },
  {
   "cell_type": "code",
   "execution_count": 76,
   "metadata": {},
   "outputs": [
    {
     "data": {
      "text/html": [
       "<div>\n",
       "<style scoped>\n",
       "    .dataframe tbody tr th:only-of-type {\n",
       "        vertical-align: middle;\n",
       "    }\n",
       "\n",
       "    .dataframe tbody tr th {\n",
       "        vertical-align: top;\n",
       "    }\n",
       "\n",
       "    .dataframe thead th {\n",
       "        text-align: right;\n",
       "    }\n",
       "</style>\n",
       "<table border=\"1\" class=\"dataframe\">\n",
       "  <thead>\n",
       "    <tr style=\"text-align: right;\">\n",
       "      <th></th>\n",
       "      <th>passenger_count</th>\n",
       "      <th>trip_distance</th>\n",
       "      <th>total_amount</th>\n",
       "    </tr>\n",
       "  </thead>\n",
       "  <tbody>\n",
       "    <tr>\n",
       "      <th>0</th>\n",
       "      <td>1.0</td>\n",
       "      <td>1.2</td>\n",
       "      <td>11.27</td>\n",
       "    </tr>\n",
       "    <tr>\n",
       "      <th>1</th>\n",
       "      <td>1.0</td>\n",
       "      <td>1.2</td>\n",
       "      <td>12.30</td>\n",
       "    </tr>\n",
       "    <tr>\n",
       "      <th>2</th>\n",
       "      <td>1.0</td>\n",
       "      <td>0.6</td>\n",
       "      <td>10.80</td>\n",
       "    </tr>\n",
       "    <tr>\n",
       "      <th>3</th>\n",
       "      <td>1.0</td>\n",
       "      <td>0.8</td>\n",
       "      <td>8.16</td>\n",
       "    </tr>\n",
       "    <tr>\n",
       "      <th>4</th>\n",
       "      <td>1.0</td>\n",
       "      <td>0.0</td>\n",
       "      <td>4.80</td>\n",
       "    </tr>\n",
       "  </tbody>\n",
       "</table>\n",
       "</div>"
      ],
      "text/plain": [
       "   passenger_count  trip_distance  total_amount\n",
       "0              1.0            1.2         11.27\n",
       "1              1.0            1.2         12.30\n",
       "2              1.0            0.6         10.80\n",
       "3              1.0            0.8          8.16\n",
       "4              1.0            0.0          4.80"
      ]
     },
     "execution_count": 76,
     "metadata": {},
     "output_type": "execute_result"
    }
   ],
   "source": [
    "import pandas as pd\n",
    "\n",
    "taxi_df = pd.read_csv('data/nyc_taxi_2020-01.csv', usecols = ['passenger_count', 'total_amount', 'trip_distance'])\n",
    "\n",
    "taxi_df.head()"
   ]
  },
  {
   "cell_type": "markdown",
   "metadata": {},
   "source": [
    "In this exercise, we again want to sort the rows of our data frame—but we want to do it based on the values in a particular column, rather than the index. You could argue that there isn’t really much difference between the two; we could take a column, temporarily make it the index, sort by the index, and then return the column back to the data frame. But the difference between sort_index and sort_values isn’t just technical. We’re thinking about our data, and how we want to access it, in different ways.\n",
    "\n",
    "sort_values is also different from sort_index in another way, namely that we can sort by any number of columns. Imagine, once again, that your data frame contains sales data. You might want to sort it by price, by region, or by salesperson—or even by a combination of these. When we sort by the index, by contrast, we’re effectively sorting by a single column."
   ]
  },
  {
   "cell_type": "code",
   "execution_count": 17,
   "metadata": {},
   "outputs": [
    {
     "data": {
      "text/plain": [
       "10650.013000000003"
      ]
     },
     "execution_count": 17,
     "metadata": {},
     "output_type": "execute_result"
    }
   ],
   "source": [
    "# Sort and find the mean of the top 20 rides in January\n",
    "\n",
    "taxi_df.sort_values(by = 'trip_distance', ascending = False)[\"trip_distance\"].iloc[:20].mean()"
   ]
  },
  {
   "cell_type": "code",
   "execution_count": 16,
   "metadata": {},
   "outputs": [
    {
     "data": {
      "text/plain": [
       "10650.013"
      ]
     },
     "execution_count": 16,
     "metadata": {},
     "output_type": "execute_result"
    }
   ],
   "source": [
    "# Using mergesort to sort data\n",
    "taxi_df.sort_values(by = 'trip_distance', kind = 'mergesort')[\"trip_distance\"].iloc[ -20: ].mean() "
   ]
  },
  {
   "cell_type": "code",
   "execution_count": 18,
   "metadata": {},
   "outputs": [
    {
     "data": {
      "text/plain": [
       "147.06880000000004"
      ]
     },
     "execution_count": 18,
     "metadata": {},
     "output_type": "execute_result"
    }
   ],
   "source": [
    "# Sort by passenger_count in ascending and trip_distance in descending order\n",
    "\n",
    "taxi_df.sort_values(by = ['passenger_count', 'trip_distance'], ascending = [True, False])[\"total_amount\"].iloc[:50].mean()"
   ]
  },
  {
   "cell_type": "markdown",
   "metadata": {},
   "source": [
    "TODO\n",
    "- In which five rides did people pay the most per mile? How far did people go on those trips?"
   ]
  },
  {
   "cell_type": "code",
   "execution_count": 73,
   "metadata": {},
   "outputs": [
    {
     "data": {
      "text/html": [
       "<div>\n",
       "<style scoped>\n",
       "    .dataframe tbody tr th:only-of-type {\n",
       "        vertical-align: middle;\n",
       "    }\n",
       "\n",
       "    .dataframe tbody tr th {\n",
       "        vertical-align: top;\n",
       "    }\n",
       "\n",
       "    .dataframe thead th {\n",
       "        text-align: right;\n",
       "    }\n",
       "</style>\n",
       "<table border=\"1\" class=\"dataframe\">\n",
       "  <thead>\n",
       "    <tr style=\"text-align: right;\">\n",
       "      <th></th>\n",
       "      <th>cost_per_mile</th>\n",
       "      <th>total_amount</th>\n",
       "      <th>trip_distance</th>\n",
       "    </tr>\n",
       "  </thead>\n",
       "  <tbody>\n",
       "    <tr>\n",
       "      <th>3802387</th>\n",
       "      <td>14496.0</td>\n",
       "      <td>144.96</td>\n",
       "      <td>0.01</td>\n",
       "    </tr>\n",
       "    <tr>\n",
       "      <th>3837826</th>\n",
       "      <td>13296.0</td>\n",
       "      <td>132.96</td>\n",
       "      <td>0.01</td>\n",
       "    </tr>\n",
       "    <tr>\n",
       "      <th>6046285</th>\n",
       "      <td>12096.0</td>\n",
       "      <td>120.96</td>\n",
       "      <td>0.01</td>\n",
       "    </tr>\n",
       "    <tr>\n",
       "      <th>5176322</th>\n",
       "      <td>11556.0</td>\n",
       "      <td>115.56</td>\n",
       "      <td>0.01</td>\n",
       "    </tr>\n",
       "    <tr>\n",
       "      <th>6008074</th>\n",
       "      <td>11436.0</td>\n",
       "      <td>114.36</td>\n",
       "      <td>0.01</td>\n",
       "    </tr>\n",
       "  </tbody>\n",
       "</table>\n",
       "</div>"
      ],
      "text/plain": [
       "         cost_per_mile  total_amount  trip_distance\n",
       "3802387        14496.0        144.96           0.01\n",
       "3837826        13296.0        132.96           0.01\n",
       "6046285        12096.0        120.96           0.01\n",
       "5176322        11556.0        115.56           0.01\n",
       "6008074        11436.0        114.36           0.01"
      ]
     },
     "execution_count": 73,
     "metadata": {},
     "output_type": "execute_result"
    }
   ],
   "source": [
    "import numpy as np\n",
    "\n",
    "# Drop NAs \n",
    "cost_df = taxi_df[['trip_distance', \"total_amount\", \"passenger_count\"]].dropna()\n",
    "\n",
    "# Remove 0's from Trip Distance and Total Amount \n",
    "cost_df = cost_df.loc[((cost_df['trip_distance'] > 0) & (cost_df['total_amount'] > 0) & (cost_df['passenger_count'] > 1))]\n",
    "\n",
    "# Create the cost_per_mile column\n",
    "cost_df[\"cost_per_mile\"] = (cost_df[\"total_amount\"] / cost_df[\"trip_distance\"])\n",
    "\n",
    "# Sort Values by cost_per_mile and \n",
    "cost_df.sort_values(by = 'cost_per_mile', ascending = False)[[\"cost_per_mile\", \"total_amount\", \"trip_distance\"]].iloc[:5]"
   ]
  },
  {
   "cell_type": "markdown",
   "metadata": {},
   "source": [
    "TODO \n",
    "- Let’s assume that multi-passenger rides are split evenly among the passengers. Given that assumption, in which 10 multi-passenger rides did each individual pay the greatest amount?"
   ]
  },
  {
   "cell_type": "code",
   "execution_count": 74,
   "metadata": {},
   "outputs": [
    {
     "data": {
      "text/html": [
       "<div>\n",
       "<style scoped>\n",
       "    .dataframe tbody tr th:only-of-type {\n",
       "        vertical-align: middle;\n",
       "    }\n",
       "\n",
       "    .dataframe tbody tr th {\n",
       "        vertical-align: top;\n",
       "    }\n",
       "\n",
       "    .dataframe thead th {\n",
       "        text-align: right;\n",
       "    }\n",
       "</style>\n",
       "<table border=\"1\" class=\"dataframe\">\n",
       "  <thead>\n",
       "    <tr style=\"text-align: right;\">\n",
       "      <th></th>\n",
       "      <th>cost_per_mile_per_passenger</th>\n",
       "      <th>cost_per_mile</th>\n",
       "      <th>passenger_count</th>\n",
       "      <th>total_amount</th>\n",
       "      <th>trip_distance</th>\n",
       "    </tr>\n",
       "  </thead>\n",
       "  <tbody>\n",
       "    <tr>\n",
       "      <th>3802387</th>\n",
       "      <td>7248.0</td>\n",
       "      <td>14496.0</td>\n",
       "      <td>2.0</td>\n",
       "      <td>144.96</td>\n",
       "      <td>0.01</td>\n",
       "    </tr>\n",
       "    <tr>\n",
       "      <th>3837826</th>\n",
       "      <td>6648.0</td>\n",
       "      <td>13296.0</td>\n",
       "      <td>2.0</td>\n",
       "      <td>132.96</td>\n",
       "      <td>0.01</td>\n",
       "    </tr>\n",
       "    <tr>\n",
       "      <th>1141997</th>\n",
       "      <td>5418.0</td>\n",
       "      <td>10836.0</td>\n",
       "      <td>2.0</td>\n",
       "      <td>108.36</td>\n",
       "      <td>0.01</td>\n",
       "    </tr>\n",
       "    <tr>\n",
       "      <th>5202479</th>\n",
       "      <td>5115.0</td>\n",
       "      <td>10230.0</td>\n",
       "      <td>2.0</td>\n",
       "      <td>102.30</td>\n",
       "      <td>0.01</td>\n",
       "    </tr>\n",
       "    <tr>\n",
       "      <th>4642308</th>\n",
       "      <td>5065.0</td>\n",
       "      <td>10130.0</td>\n",
       "      <td>2.0</td>\n",
       "      <td>101.30</td>\n",
       "      <td>0.01</td>\n",
       "    </tr>\n",
       "    <tr>\n",
       "      <th>1977319</th>\n",
       "      <td>4902.5</td>\n",
       "      <td>9805.0</td>\n",
       "      <td>2.0</td>\n",
       "      <td>98.05</td>\n",
       "      <td>0.01</td>\n",
       "    </tr>\n",
       "    <tr>\n",
       "      <th>4969553</th>\n",
       "      <td>4848.0</td>\n",
       "      <td>9696.0</td>\n",
       "      <td>2.0</td>\n",
       "      <td>96.96</td>\n",
       "      <td>0.01</td>\n",
       "    </tr>\n",
       "    <tr>\n",
       "      <th>5310851</th>\n",
       "      <td>4790.0</td>\n",
       "      <td>9580.0</td>\n",
       "      <td>2.0</td>\n",
       "      <td>95.80</td>\n",
       "      <td>0.01</td>\n",
       "    </tr>\n",
       "    <tr>\n",
       "      <th>6000206</th>\n",
       "      <td>4668.0</td>\n",
       "      <td>9336.0</td>\n",
       "      <td>2.0</td>\n",
       "      <td>93.36</td>\n",
       "      <td>0.01</td>\n",
       "    </tr>\n",
       "    <tr>\n",
       "      <th>123669</th>\n",
       "      <td>4548.0</td>\n",
       "      <td>9096.0</td>\n",
       "      <td>2.0</td>\n",
       "      <td>90.96</td>\n",
       "      <td>0.01</td>\n",
       "    </tr>\n",
       "  </tbody>\n",
       "</table>\n",
       "</div>"
      ],
      "text/plain": [
       "         cost_per_mile_per_passenger  cost_per_mile  passenger_count  \\\n",
       "3802387                       7248.0        14496.0              2.0   \n",
       "3837826                       6648.0        13296.0              2.0   \n",
       "1141997                       5418.0        10836.0              2.0   \n",
       "5202479                       5115.0        10230.0              2.0   \n",
       "4642308                       5065.0        10130.0              2.0   \n",
       "1977319                       4902.5         9805.0              2.0   \n",
       "4969553                       4848.0         9696.0              2.0   \n",
       "5310851                       4790.0         9580.0              2.0   \n",
       "6000206                       4668.0         9336.0              2.0   \n",
       "123669                        4548.0         9096.0              2.0   \n",
       "\n",
       "         total_amount  trip_distance  \n",
       "3802387        144.96           0.01  \n",
       "3837826        132.96           0.01  \n",
       "1141997        108.36           0.01  \n",
       "5202479        102.30           0.01  \n",
       "4642308        101.30           0.01  \n",
       "1977319         98.05           0.01  \n",
       "4969553         96.96           0.01  \n",
       "5310851         95.80           0.01  \n",
       "6000206         93.36           0.01  \n",
       "123669          90.96           0.01  "
      ]
     },
     "execution_count": 74,
     "metadata": {},
     "output_type": "execute_result"
    }
   ],
   "source": [
    "# Calculate the cost_per_mile_per_passenger\n",
    "cost_df[\"cost_per_mile_per_passenger\"] = (cost_df[\"cost_per_mile\"] / cost_df[\"passenger_count\"])\n",
    "\n",
    "# Sort in descending order of multi-passenger rides\n",
    "cost_df.sort_values(by = 'cost_per_mile_per_passenger', ascending = False)[[\"cost_per_mile_per_passenger\", \"cost_per_mile\", \"passenger_count\",\"total_amount\", \"trip_distance\"]].iloc[:10]"
   ]
  },
  {
   "cell_type": "markdown",
   "metadata": {},
   "source": [
    "## Grouping\n",
    "\n",
    "The core of grouping is a simple idea, but it has profound implications. It means that we can measure different parts of our data in a single query, producing a data frame that can itself then be analyzed, sorted, and displayed. "
   ]
  },
  {
   "cell_type": "markdown",
   "metadata": {},
   "source": [
    "TODO \n",
    "- For each number of passengers, find the mean cost of a taxi ride. Sort this result from lowest (i.e., cheapest) to highest (i.e., most expensive)."
   ]
  },
  {
   "cell_type": "code",
   "execution_count": 78,
   "metadata": {},
   "outputs": [
    {
     "data": {
      "text/plain": [
       "passenger_count\n",
       "9.0    81.244211\n",
       "7.0    71.143103\n",
       "8.0    58.197059\n",
       "4.0    19.128092\n",
       "2.0    19.050504\n",
       "3.0    18.736862\n",
       "6.0    18.367962\n",
       "1.0    18.343110\n",
       "5.0    18.234443\n",
       "0.0    18.059724\n",
       "Name: total_amount, dtype: float64"
      ]
     },
     "execution_count": 78,
     "metadata": {},
     "output_type": "execute_result"
    }
   ],
   "source": [
    "taxi_df.groupby('passenger_count').mean()[\"total_amount\"].sort_values(ascending = False)"
   ]
  },
  {
   "cell_type": "markdown",
   "metadata": {},
   "source": [
    "TODO\n",
    "- Sort the results once again, in increasing number of passengers."
   ]
  },
  {
   "cell_type": "code",
   "execution_count": 79,
   "metadata": {},
   "outputs": [
    {
     "data": {
      "text/plain": [
       "passenger_count\n",
       "0.0    2.689548\n",
       "1.0    2.811050\n",
       "2.0    3.001117\n",
       "3.0    2.930363\n",
       "4.0    2.980372\n",
       "5.0    2.850356\n",
       "6.0    2.906041\n",
       "7.0    3.589655\n",
       "8.0    2.960000\n",
       "9.0    3.314737\n",
       "Name: trip_distance, dtype: float64"
      ]
     },
     "execution_count": 79,
     "metadata": {},
     "output_type": "execute_result"
    }
   ],
   "source": [
    "taxi_df.groupby('passenger_count').mean()[\"trip_distance\"].sort_index()"
   ]
  },
  {
   "cell_type": "markdown",
   "metadata": {},
   "source": [
    "TODO\n",
    "- Now create a new column, `trip_distance_group`, in which the values will be short (< 2 miles), medium (>= 2 miles and ⇐ 10 miles), or long (> 10 miles). What was the average number of passengers per trip length category? Sort this result from highest (greatest number of passengers) to lowest (smallest number of passengers)."
   ]
  },
  {
   "cell_type": "code",
   "execution_count": 82,
   "metadata": {},
   "outputs": [
    {
     "data": {
      "text/plain": [
       "trip_distance_group\n",
       "long      1.547586\n",
       "medium    1.532448\n",
       "short     1.503263\n",
       "Name: passenger_count, dtype: float64"
      ]
     },
     "execution_count": 82,
     "metadata": {},
     "output_type": "execute_result"
    }
   ],
   "source": [
    "taxi_df[\"trip_distance_group\"] = pd.cut(taxi_df[\"trip_distance\"], bins = [taxi_df[\"trip_distance\"].min(), 2, 10, taxi_df[\"trip_distance\"].max()], labels = [\"short\", \"medium\", \"long\"])\n",
    "\n",
    "# Now that we have a new column lets group by this\n",
    "taxi_df.groupby('trip_distance_group')[\"passenger_count\"].mean().sort_values(ascending = False)"
   ]
  },
  {
   "cell_type": "markdown",
   "metadata": {},
   "source": [
    "TODO\n",
    "- Create a single data frame containing rides from both January 2019 and January 2020, with a column year indicating which year it came from. Use groupby to compare the average cost of a taxi in January of each of these two years."
   ]
  },
  {
   "cell_type": "code",
   "execution_count": 95,
   "metadata": {},
   "outputs": [
    {
     "data": {
      "text/plain": [
       "year_month\n",
       "2020-02    30.836000\n",
       "2008-12    25.504545\n",
       "2009-01    22.575000\n",
       "2020-08    21.380000\n",
       "2020-06    20.300000\n",
       "2020-01    18.663096\n",
       "2020-07    18.631421\n",
       "2020-05    18.220000\n",
       "2019-12    17.802977\n",
       "2021-01    15.920000\n",
       "2020-03    14.900000\n",
       "2020-04    10.560000\n",
       "2003-01     0.000000\n",
       "Freq: M, Name: total_amount, dtype: float64"
      ]
     },
     "execution_count": 95,
     "metadata": {},
     "output_type": "execute_result"
    }
   ],
   "source": [
    "# Load the data 2020-01 data file\n",
    "taxi_df_1 = pd.read_csv('data/nyc_taxi_2020-01.csv', usecols = ['total_amount', 'trip_distance', \"tpep_pickup_datetime\"], parse_dates = ['tpep_pickup_datetime'])\n",
    "\n",
    "# Create an new year_month column from the date\n",
    "taxi_df_1[\"year_month\"] = taxi_df_1[\"tpep_pickup_datetime\"].dt.to_period(\"M\")\n",
    "\n",
    "\n",
    "# Load the data 2020-07 data file\n",
    "taxi_df_2 = pd.read_csv('data/nyc_taxi_2020-07.csv', usecols = ['total_amount', 'trip_distance', \"tpep_pickup_datetime\"], parse_dates = ['tpep_pickup_datetime'])\n",
    "\n",
    "# Create an new year_month column from the date\n",
    "taxi_df_2[\"year_month\"] = taxi_df_2[\"tpep_pickup_datetime\"].dt.to_period(\"M\")\n",
    "\n",
    "\n",
    "# Join the 2 dataframes\n",
    "main_taxi_df = pd.concat([taxi_df_1, taxi_df_2]) \n",
    "\n",
    "# Now Group by the year-month and compare average taxi fare\n",
    "main_taxi_df.groupby('year_month')[\"total_amount\"].mean().sort_values(ascending = False)"
   ]
  },
  {
   "cell_type": "markdown",
   "metadata": {},
   "source": [
    "## Joining\n",
    "\n",
    "Like grouping, joining is a concept that you might have encountered previously, when working with relational databases. The joining functionality in pandas is quite similar to that sort of database, although the syntax is quite different.\n",
    "\n",
    "Separating your data into two or more pieces, so that each piece of information appears only a single time, is known as \"normalization.\" There are all sorts of formal theories and descriptions of normalization, but it all boils down to keeping the information in separate places, and joining data frames when necessary.\n",
    "\n",
    "Sometimes, you’ll normalize your own data. But sometimes, you’ll receive data that has been normalized, and then separated into separate pieces. For example, many data sets are distributed in separate CSV file, which almost always means that you’ll need to join two or more data frames together in order to analyze the information. Other times, you might want to normalize the data yourself, in order to gain flexibility or performance."
   ]
  },
  {
   "cell_type": "markdown",
   "metadata": {},
   "source": [
    "TODO\n",
    "\n",
    "- Load the OECD tourism data (from oecd_tourism.oecd) into a data frame. We’re interested in the following columns:\n",
    "\n",
    "    -   LOCATION, a three-letter abbreviation for the country name\n",
    "    -   SUBJECT, either INT_REC (for tourist funds received) or INT-EXP (for tourist expenses).\n",
    "    -   TIME, a year (integer)\n",
    "    -   Value, a float indicating thousands of dollars.\n",
    "\n",
    "- Find the five countries that received the greatest amount of tourist dollars, on average, accross years in the data set."
   ]
  },
  {
   "cell_type": "code",
   "execution_count": 101,
   "metadata": {},
   "outputs": [
    {
     "data": {
      "text/plain": [
       "LOCATION\n",
       "USA    201613.500000\n",
       "ESP     69655.817364\n",
       "FRA     65063.335727\n",
       "DEU     53408.570636\n",
       "GBR     51752.090909\n",
       "Name: Value, dtype: float64"
      ]
     },
     "execution_count": 101,
     "metadata": {},
     "output_type": "execute_result"
    }
   ],
   "source": [
    "\n",
    "oecd_df = pd.read_csv('data/oecd_tourism.csv', usecols = ['LOCATION', 'SUBJECT', \"TIME\", \"Value\"])\n",
    "\n",
    "\n",
    "oecd_df.loc[(oecd_df[\"SUBJECT\"] == \"INT_REC\")].groupby(\"LOCATION\")[\"Value\"].mean().sort_values(ascending = False).iloc[:5]"
   ]
  },
  {
   "cell_type": "markdown",
   "metadata": {},
   "source": [
    "TODO\n",
    "- Find the first five countries whose citizens spent the least amount of tourist dollars, on average, across years "
   ]
  },
  {
   "cell_type": "code",
   "execution_count": 103,
   "metadata": {},
   "outputs": [
    {
     "data": {
      "text/plain": [
       "LOCATION\n",
       "MLT     387.801667\n",
       "CRI     867.075000\n",
       "LVA     919.545455\n",
       "ISL    1072.819636\n",
       "HRV    1115.628083\n",
       "Name: Value, dtype: float64"
      ]
     },
     "execution_count": 103,
     "metadata": {},
     "output_type": "execute_result"
    }
   ],
   "source": [
    "oecd_df.loc[(oecd_df[\"SUBJECT\"] == \"INT-EXP\")].groupby(\"LOCATION\")[\"Value\"].mean().sort_values(ascending = True).iloc[:5]"
   ]
  },
  {
   "cell_type": "code",
   "execution_count": 106,
   "metadata": {},
   "outputs": [
    {
     "data": {
      "text/html": [
       "<div>\n",
       "<style scoped>\n",
       "    .dataframe tbody tr th:only-of-type {\n",
       "        vertical-align: middle;\n",
       "    }\n",
       "\n",
       "    .dataframe tbody tr th {\n",
       "        vertical-align: top;\n",
       "    }\n",
       "\n",
       "    .dataframe thead th {\n",
       "        text-align: right;\n",
       "    }\n",
       "</style>\n",
       "<table border=\"1\" class=\"dataframe\">\n",
       "  <thead>\n",
       "    <tr style=\"text-align: right;\">\n",
       "      <th></th>\n",
       "      <th>Country</th>\n",
       "    </tr>\n",
       "    <tr>\n",
       "      <th>Country_Code</th>\n",
       "      <th></th>\n",
       "    </tr>\n",
       "  </thead>\n",
       "  <tbody>\n",
       "    <tr>\n",
       "      <th>AUS</th>\n",
       "      <td>Australia</td>\n",
       "    </tr>\n",
       "    <tr>\n",
       "      <th>AUT</th>\n",
       "      <td>Austria</td>\n",
       "    </tr>\n",
       "    <tr>\n",
       "      <th>BEL</th>\n",
       "      <td>Belgium</td>\n",
       "    </tr>\n",
       "    <tr>\n",
       "      <th>CAN</th>\n",
       "      <td>Canada</td>\n",
       "    </tr>\n",
       "    <tr>\n",
       "      <th>DNK</th>\n",
       "      <td>Denmark</td>\n",
       "    </tr>\n",
       "  </tbody>\n",
       "</table>\n",
       "</div>"
      ],
      "text/plain": [
       "                Country\n",
       "Country_Code           \n",
       "AUS           Australia\n",
       "AUT             Austria\n",
       "BEL             Belgium\n",
       "CAN              Canada\n",
       "DNK             Denmark"
      ]
     },
     "execution_count": 106,
     "metadata": {},
     "output_type": "execute_result"
    }
   ],
   "source": [
    "oecd_locations = pd.read_csv('data/oecd_locations.csv', header = None ,names = [\"Country_Code\", \"Country\"], index_col = \"Country_Code\")\n",
    "\n",
    "oecd_locations.head()"
   ]
  },
  {
   "cell_type": "markdown",
   "metadata": {},
   "source": [
    "Now we’ll bring this all together: I’ll create a new data frame, the result of joining locations_df and tourism_df. The problem is that while the three-letter abbreviation (i.e., LOCATION) is the index of locations_df, it’s just a plain ol' column in tourism_df. And yes, you can join on non-index columns in pandas, but it makes the code a bit shorter and clearer to have the data frames share index values."
   ]
  },
  {
   "cell_type": "code",
   "execution_count": 107,
   "metadata": {},
   "outputs": [
    {
     "data": {
      "text/html": [
       "<div>\n",
       "<style scoped>\n",
       "    .dataframe tbody tr th:only-of-type {\n",
       "        vertical-align: middle;\n",
       "    }\n",
       "\n",
       "    .dataframe tbody tr th {\n",
       "        vertical-align: top;\n",
       "    }\n",
       "\n",
       "    .dataframe thead th {\n",
       "        text-align: right;\n",
       "    }\n",
       "</style>\n",
       "<table border=\"1\" class=\"dataframe\">\n",
       "  <thead>\n",
       "    <tr style=\"text-align: right;\">\n",
       "      <th></th>\n",
       "      <th>SUBJECT</th>\n",
       "      <th>TIME</th>\n",
       "      <th>Value</th>\n",
       "      <th>Country</th>\n",
       "    </tr>\n",
       "  </thead>\n",
       "  <tbody>\n",
       "    <tr>\n",
       "      <th>AUS</th>\n",
       "      <td>INT_REC</td>\n",
       "      <td>2008</td>\n",
       "      <td>31159.8</td>\n",
       "      <td>Australia</td>\n",
       "    </tr>\n",
       "    <tr>\n",
       "      <th>AUS</th>\n",
       "      <td>INT_REC</td>\n",
       "      <td>2009</td>\n",
       "      <td>29980.7</td>\n",
       "      <td>Australia</td>\n",
       "    </tr>\n",
       "    <tr>\n",
       "      <th>AUS</th>\n",
       "      <td>INT_REC</td>\n",
       "      <td>2010</td>\n",
       "      <td>35165.5</td>\n",
       "      <td>Australia</td>\n",
       "    </tr>\n",
       "    <tr>\n",
       "      <th>AUS</th>\n",
       "      <td>INT_REC</td>\n",
       "      <td>2011</td>\n",
       "      <td>38710.1</td>\n",
       "      <td>Australia</td>\n",
       "    </tr>\n",
       "    <tr>\n",
       "      <th>AUS</th>\n",
       "      <td>INT_REC</td>\n",
       "      <td>2012</td>\n",
       "      <td>38003.7</td>\n",
       "      <td>Australia</td>\n",
       "    </tr>\n",
       "  </tbody>\n",
       "</table>\n",
       "</div>"
      ],
      "text/plain": [
       "     SUBJECT  TIME    Value    Country\n",
       "AUS  INT_REC  2008  31159.8  Australia\n",
       "AUS  INT_REC  2009  29980.7  Australia\n",
       "AUS  INT_REC  2010  35165.5  Australia\n",
       "AUS  INT_REC  2011  38710.1  Australia\n",
       "AUS  INT_REC  2012  38003.7  Australia"
      ]
     },
     "execution_count": 107,
     "metadata": {},
     "output_type": "execute_result"
    }
   ],
   "source": [
    "oecd_full_df = oecd_df.set_index(\"LOCATION\").join(oecd_locations)\n",
    "\n",
    "oecd_full_df.head()"
   ]
  },
  {
   "cell_type": "markdown",
   "metadata": {},
   "source": [
    "## Multi-city Temperatures\n",
    "\n",
    "Take the eight CSV files containing weather data that provided, from eight different cities (spanning four states), and turn them into a data frame:\n",
    "\n",
    "- The files are: san+francisco,ca.csv, new+york,ny.csv, springfield,ma.csv, boston,ma.csv, springfield,il.csv, albany,ny.csv, los+angeles,ca.csv, and chicago,il.csv.\n",
    "- We are only interested in the first three columns from each CSV file, namely the `date and time`, the `max temperature`, and the `min temperature`.\n",
    "- Add `city` and `state` columns, which will contain the city and state from the filename, and will allow us to distinguish between rows"
   ]
  },
  {
   "cell_type": "code",
   "execution_count": 15,
   "metadata": {},
   "outputs": [
    {
     "name": "stdout",
     "output_type": "stream",
     "text": [
      "Loading data\\albany,ny.csv\n",
      "Loading data\\boston,ma.csv\n",
      "Loading data\\chicago,il.csv\n",
      "Loading data\\los+angeles,ca.csv\n",
      "Loading data\\new+york,ny.csv\n",
      "Loading data\\san+francisco,ca.csv\n",
      "Loading data\\springfield,il.csv\n",
      "Loading data\\springfield,ma.csv\n"
     ]
    },
    {
     "data": {
      "text/html": [
       "<div>\n",
       "<style scoped>\n",
       "    .dataframe tbody tr th:only-of-type {\n",
       "        vertical-align: middle;\n",
       "    }\n",
       "\n",
       "    .dataframe tbody tr th {\n",
       "        vertical-align: top;\n",
       "    }\n",
       "\n",
       "    .dataframe thead th {\n",
       "        text-align: right;\n",
       "    }\n",
       "</style>\n",
       "<table border=\"1\" class=\"dataframe\">\n",
       "  <thead>\n",
       "    <tr style=\"text-align: right;\">\n",
       "      <th></th>\n",
       "      <th>date_time</th>\n",
       "      <th>max_temp</th>\n",
       "      <th>min_temp</th>\n",
       "      <th>city</th>\n",
       "      <th>state</th>\n",
       "    </tr>\n",
       "  </thead>\n",
       "  <tbody>\n",
       "    <tr>\n",
       "      <th>0</th>\n",
       "      <td>2018-12-11 00:00:00</td>\n",
       "      <td>-2</td>\n",
       "      <td>-8</td>\n",
       "      <td>albany</td>\n",
       "      <td>NY</td>\n",
       "    </tr>\n",
       "    <tr>\n",
       "      <th>1</th>\n",
       "      <td>2018-12-11 03:00:00</td>\n",
       "      <td>-2</td>\n",
       "      <td>-8</td>\n",
       "      <td>albany</td>\n",
       "      <td>NY</td>\n",
       "    </tr>\n",
       "    <tr>\n",
       "      <th>2</th>\n",
       "      <td>2018-12-11 06:00:00</td>\n",
       "      <td>-2</td>\n",
       "      <td>-8</td>\n",
       "      <td>albany</td>\n",
       "      <td>NY</td>\n",
       "    </tr>\n",
       "    <tr>\n",
       "      <th>3</th>\n",
       "      <td>2018-12-11 09:00:00</td>\n",
       "      <td>-2</td>\n",
       "      <td>-8</td>\n",
       "      <td>albany</td>\n",
       "      <td>NY</td>\n",
       "    </tr>\n",
       "    <tr>\n",
       "      <th>4</th>\n",
       "      <td>2018-12-11 12:00:00</td>\n",
       "      <td>-2</td>\n",
       "      <td>-8</td>\n",
       "      <td>albany</td>\n",
       "      <td>NY</td>\n",
       "    </tr>\n",
       "  </tbody>\n",
       "</table>\n",
       "</div>"
      ],
      "text/plain": [
       "             date_time  max_temp  min_temp    city state\n",
       "0  2018-12-11 00:00:00        -2        -8  albany    NY\n",
       "1  2018-12-11 03:00:00        -2        -8  albany    NY\n",
       "2  2018-12-11 06:00:00        -2        -8  albany    NY\n",
       "3  2018-12-11 09:00:00        -2        -8  albany    NY\n",
       "4  2018-12-11 12:00:00        -2        -8  albany    NY"
      ]
     },
     "execution_count": 15,
     "metadata": {},
     "output_type": "execute_result"
    }
   ],
   "source": [
    "import glob\n",
    "\n",
    "import pandas as pd\n",
    "\n",
    "all_dfs = []\n",
    "\n",
    "\n",
    "for one_file in glob.glob(\"data/*,*.csv\"):\n",
    "    print(f\"Loading {one_file}\")\n",
    "    # Grab the city and state from the filename\n",
    "    city, state = one_file.removeprefix(\"data\\\\\").removesuffix(\".csv\").split(\",\")\n",
    "    # Read the csv file and add the city and state to the dataframe\n",
    "    one_df = pd.read_csv(one_file, usecols = [0,1,2], names = [\"date_time\", \"max_temp\", \"min_temp\"], header = 0)\n",
    "    one_df['city'] = city.replace(\"+\", \" \")\n",
    "    one_df['state'] = state.upper()\n",
    "    all_dfs.append(one_df)\n",
    "\n",
    "# Combine all the dfs\n",
    "df = pd.concat(all_dfs)\n",
    "\n",
    "df.head()"
   ]
  },
  {
   "cell_type": "markdown",
   "metadata": {},
   "source": [
    "- Does the data for each city and state start at roughly the same time?\n",
    " "
   ]
  },
  {
   "cell_type": "code",
   "execution_count": 17,
   "metadata": {},
   "outputs": [
    {
     "data": {
      "text/plain": [
       "state  city         \n",
       "CA     los angeles      2018-12-11 00:00:00\n",
       "       san francisco    2018-12-11 00:00:00\n",
       "IL     chicago          2018-12-11 00:00:00\n",
       "       springfield      2018-12-11 00:00:00\n",
       "MA     boston           2018-12-11 00:00:00\n",
       "       springfield      2018-12-11 00:00:00\n",
       "NY     albany           2018-12-11 00:00:00\n",
       "       new york         2018-12-11 00:00:00\n",
       "Name: date_time, dtype: object"
      ]
     },
     "execution_count": 17,
     "metadata": {},
     "output_type": "execute_result"
    }
   ],
   "source": [
    "df.groupby([\"state\", \"city\"])[\"date_time\"].min().sort_values()"
   ]
  },
  {
   "cell_type": "markdown",
   "metadata": {},
   "source": [
    "> In the above code, I tell pandas that I want to get the minimum value of date_time for each distinct combination of state and city. I then want to sort the values, so that I can easily find the earliest one—as well as find out if they’re all from the same period of time. I can similarly run max on the values, to find the highest one:"
   ]
  },
  {
   "cell_type": "code",
   "execution_count": 18,
   "metadata": {},
   "outputs": [
    {
     "data": {
      "text/plain": [
       "state  city         \n",
       "CA     los angeles      2019-03-11 21:00:00\n",
       "       san francisco    2019-03-11 21:00:00\n",
       "IL     chicago          2019-03-11 21:00:00\n",
       "       springfield      2019-03-11 21:00:00\n",
       "MA     boston           2019-03-11 21:00:00\n",
       "       springfield      2019-03-11 21:00:00\n",
       "NY     albany           2019-03-11 21:00:00\n",
       "       new york         2019-03-11 21:00:00\n",
       "Name: date_time, dtype: object"
      ]
     },
     "execution_count": 18,
     "metadata": {},
     "output_type": "execute_result"
    }
   ],
   "source": [
    "df.groupby([\"state\", \"city\"])[\"date_time\"].max().sort_values()"
   ]
  },
  {
   "cell_type": "markdown",
   "metadata": {},
   "source": [
    "- Find the lowest minimum temperature recorded for each city in our data set. "
   ]
  },
  {
   "cell_type": "code",
   "execution_count": 19,
   "metadata": {},
   "outputs": [
    {
     "data": {
      "text/plain": [
       "state  city         \n",
       "IL     chicago         -28\n",
       "       springfield     -25\n",
       "MA     springfield     -20\n",
       "NY     albany          -19\n",
       "MA     boston          -14\n",
       "NY     new york        -14\n",
       "CA     san francisco     3\n",
       "       los angeles       4\n",
       "Name: min_temp, dtype: int64"
      ]
     },
     "execution_count": 19,
     "metadata": {},
     "output_type": "execute_result"
    }
   ],
   "source": [
    "df.groupby([\"state\", \"city\"])[\"min_temp\"].min().sort_values()"
   ]
  },
  {
   "cell_type": "markdown",
   "metadata": {},
   "source": [
    "- Find the highest maximum temperature recorded during this period, but on a per-state basis."
   ]
  },
  {
   "cell_type": "code",
   "execution_count": 20,
   "metadata": {},
   "outputs": [
    {
     "data": {
      "text/plain": [
       "state\n",
       "NY    15\n",
       "IL    16\n",
       "MA    17\n",
       "CA    23\n",
       "Name: max_temp, dtype: int64"
      ]
     },
     "execution_count": 20,
     "metadata": {},
     "output_type": "execute_result"
    }
   ],
   "source": [
    "df.groupby([\"state\"])[\"max_temp\"].max().sort_values()"
   ]
  },
  {
   "cell_type": "markdown",
   "metadata": {},
   "source": [
    "### Window Functions \n",
    "\n"
   ]
  },
  {
   "cell_type": "code",
   "execution_count": 22,
   "metadata": {},
   "outputs": [
    {
     "data": {
      "text/html": [
       "<div>\n",
       "<style scoped>\n",
       "    .dataframe tbody tr th:only-of-type {\n",
       "        vertical-align: middle;\n",
       "    }\n",
       "\n",
       "    .dataframe tbody tr th {\n",
       "        vertical-align: top;\n",
       "    }\n",
       "\n",
       "    .dataframe thead th {\n",
       "        text-align: right;\n",
       "    }\n",
       "</style>\n",
       "<table border=\"1\" class=\"dataframe\">\n",
       "  <thead>\n",
       "    <tr style=\"text-align: right;\">\n",
       "      <th></th>\n",
       "      <th>sales</th>\n",
       "      <th>quarters</th>\n",
       "    </tr>\n",
       "  </thead>\n",
       "  <tbody>\n",
       "    <tr>\n",
       "      <th>0</th>\n",
       "      <td>100</td>\n",
       "      <td>Q1</td>\n",
       "    </tr>\n",
       "    <tr>\n",
       "      <th>1</th>\n",
       "      <td>150</td>\n",
       "      <td>Q2</td>\n",
       "    </tr>\n",
       "    <tr>\n",
       "      <th>2</th>\n",
       "      <td>200</td>\n",
       "      <td>Q3</td>\n",
       "    </tr>\n",
       "    <tr>\n",
       "      <th>3</th>\n",
       "      <td>250</td>\n",
       "      <td>Q4</td>\n",
       "    </tr>\n",
       "    <tr>\n",
       "      <th>4</th>\n",
       "      <td>200</td>\n",
       "      <td>Q1</td>\n",
       "    </tr>\n",
       "  </tbody>\n",
       "</table>\n",
       "</div>"
      ],
      "text/plain": [
       "   sales quarters\n",
       "0    100       Q1\n",
       "1    150       Q2\n",
       "2    200       Q3\n",
       "3    250       Q4\n",
       "4    200       Q1"
      ]
     },
     "execution_count": 22,
     "metadata": {},
     "output_type": "execute_result"
    }
   ],
   "source": [
    "df = pd.DataFrame({'sales':[100, 150, 200, 250,\n",
    "                200, 150, 300, 400,\n",
    "                500, 100, 300, 200],\n",
    "              'quarters':'Q1 Q2 Q3 Q4'.split() * 3})\n",
    "\n",
    "df.head()"
   ]
  },
  {
   "cell_type": "markdown",
   "metadata": {},
   "source": [
    "But what if we want to find out how much we sold, total, through the current quarter? That is, I want to know how much we sold in Q1. Then in Q1+Q2. Then Q1+Q2+Q3. And so on, until the final result will be df['sales'].sum().\n",
    "\n",
    "To perform this kind of operation, pandas provides us with \"window functions.\" There are several different types of window functions, but the basic idea is that they allow us to run an aggregate function, such as mean, on subsections of our data frame.\n",
    "\n",
    "What I described earlier, that we would like to know, for each quarter, how much we revenue we had through that quarter, is a classic example of a window function. This is known as an \"expanding window,\" because we run the function with an ever-expanding number of lines—first one line, then two, then three… all the way up to the entire data frame."
   ]
  },
  {
   "cell_type": "code",
   "execution_count": 23,
   "metadata": {},
   "outputs": [
    {
     "data": {
      "text/plain": [
       "0      100.0\n",
       "1      250.0\n",
       "2      450.0\n",
       "3      700.0\n",
       "4      900.0\n",
       "5     1050.0\n",
       "6     1350.0\n",
       "7     1750.0\n",
       "8     2250.0\n",
       "9     2350.0\n",
       "10    2650.0\n",
       "11    2850.0\n",
       "Name: sales, dtype: float64"
      ]
     },
     "execution_count": 23,
     "metadata": {},
     "output_type": "execute_result"
    }
   ],
   "source": [
    "df[\"sales\"].expanding().sum()"
   ]
  },
  {
   "cell_type": "markdown",
   "metadata": {},
   "source": [
    "This returns a series whose values are the cumulative sum of values in sales up to that point. Since the first four values in the sales column are 100, 150, 200, and 250, the output of our call to expanding will be 100, 250, 450, and 700.\n",
    "\n",
    "Perhaps we don’t want to get a cumulative total, but rather want to get a running average of how much we’ve sold per quarter. We can run mean, or any other aggregation method:"
   ]
  },
  {
   "cell_type": "code",
   "execution_count": 24,
   "metadata": {},
   "outputs": [
    {
     "data": {
      "text/plain": [
       "0     100.000000\n",
       "1     125.000000\n",
       "2     150.000000\n",
       "3     175.000000\n",
       "4     180.000000\n",
       "5     175.000000\n",
       "6     192.857143\n",
       "7     218.750000\n",
       "8     250.000000\n",
       "9     235.000000\n",
       "10    240.909091\n",
       "11    237.500000\n",
       "Name: sales, dtype: float64"
      ]
     },
     "execution_count": 24,
     "metadata": {},
     "output_type": "execute_result"
    }
   ],
   "source": [
    "df[\"sales\"].expanding().mean()"
   ]
  },
  {
   "cell_type": "markdown",
   "metadata": {},
   "source": [
    "In this case, the output from expanding will be 100, 125, 150, and 175.\n",
    "\n",
    "We can also use a \"rolling\" window function. In this case, we determine how many rows will be considered to be part of the window. For example, if the window size is 3, then we’ll run the aggregation function on row index 0-2, then 1-3, then 2-4, etc., until we get to the end of the data frame. For example, if you want to find out the mean of rows that are close to one another, you can do it as follows:"
   ]
  },
  {
   "cell_type": "code",
   "execution_count": 26,
   "metadata": {},
   "outputs": [
    {
     "data": {
      "text/plain": [
       "0            NaN\n",
       "1            NaN\n",
       "2     150.000000\n",
       "3     200.000000\n",
       "4     216.666667\n",
       "5     200.000000\n",
       "6     216.666667\n",
       "7     283.333333\n",
       "8     400.000000\n",
       "9     333.333333\n",
       "10    300.000000\n",
       "11    200.000000\n",
       "Name: sales, dtype: float64"
      ]
     },
     "execution_count": 26,
     "metadata": {},
     "output_type": "execute_result"
    }
   ],
   "source": [
    "df[\"sales\"].rolling(3).mean()"
   ]
  },
  {
   "cell_type": "markdown",
   "metadata": {},
   "source": [
    "In the above code, rolling is how I indicate that I want to run a rolling window function, and the argument 3 indicates that I want to have three rows in each window. We’ll thus invoke mean on rows 0-2, then 1-3, then 2-4, then 3-5, etc. The series that we get back from this call will put the result of mean in the same location as the third (and final) row in our rolling window. This means that row indexes 0 and 1 will have NaN values."
   ]
  },
  {
   "cell_type": "markdown",
   "metadata": {},
   "source": [
    "> A third type of window function is `pct_change`. When we run this on a series, we get back a new series, with NaN at row index 0. The remaining rows indicate the percentage change from the previous row to the current one:"
   ]
  },
  {
   "cell_type": "code",
   "execution_count": 27,
   "metadata": {},
   "outputs": [
    {
     "data": {
      "text/plain": [
       "0          NaN\n",
       "1     0.500000\n",
       "2     0.333333\n",
       "3     0.250000\n",
       "4    -0.200000\n",
       "5    -0.250000\n",
       "6     1.000000\n",
       "7     0.333333\n",
       "8     0.250000\n",
       "9    -0.800000\n",
       "10    2.000000\n",
       "11   -0.333333\n",
       "Name: sales, dtype: float64"
      ]
     },
     "execution_count": 27,
     "metadata": {},
     "output_type": "execute_result"
    }
   ],
   "source": [
    "df[\"sales\"].pct_change()"
   ]
  },
  {
   "cell_type": "markdown",
   "metadata": {},
   "source": [
    "The result is calculated as (later_row - earlier_row) / earlier_row:\n",
    "\n",
    "index 0 is always NaN\n",
    "index 1 is the result of calculating (150 - 100) / 100\n",
    "index 2 is the result of calculating (200 - 150) / 150\n",
    "index 3 is the result of calculating (250 - 200) / 200\n",
    "pct_change is great for finding how much your values have gone up, or down, from row to row"
   ]
  },
  {
   "cell_type": "code",
   "execution_count": 2,
   "metadata": {},
   "outputs": [
    {
     "data": {
      "text/html": [
       "<div>\n",
       "<style scoped>\n",
       "    .dataframe tbody tr th:only-of-type {\n",
       "        vertical-align: middle;\n",
       "    }\n",
       "\n",
       "    .dataframe tbody tr th {\n",
       "        vertical-align: top;\n",
       "    }\n",
       "\n",
       "    .dataframe thead th {\n",
       "        text-align: right;\n",
       "    }\n",
       "</style>\n",
       "<table border=\"1\" class=\"dataframe\">\n",
       "  <thead>\n",
       "    <tr style=\"text-align: right;\">\n",
       "      <th></th>\n",
       "      <th>Year</th>\n",
       "      <th>State.Code</th>\n",
       "      <th>Total.Math</th>\n",
       "      <th>Family Income.Between 20-40k.Math</th>\n",
       "      <th>Family Income.Between 40-60k.Math</th>\n",
       "      <th>Family Income.Between 60-80k.Math</th>\n",
       "      <th>Family Income.Between 80-100k.Math</th>\n",
       "      <th>Family Income.Less than 20k.Math</th>\n",
       "      <th>Family Income.More than 100k.Math</th>\n",
       "    </tr>\n",
       "  </thead>\n",
       "  <tbody>\n",
       "    <tr>\n",
       "      <th>0</th>\n",
       "      <td>2005</td>\n",
       "      <td>AL</td>\n",
       "      <td>559</td>\n",
       "      <td>513</td>\n",
       "      <td>539</td>\n",
       "      <td>550</td>\n",
       "      <td>566</td>\n",
       "      <td>462</td>\n",
       "      <td>588</td>\n",
       "    </tr>\n",
       "    <tr>\n",
       "      <th>1</th>\n",
       "      <td>2005</td>\n",
       "      <td>AK</td>\n",
       "      <td>519</td>\n",
       "      <td>492</td>\n",
       "      <td>517</td>\n",
       "      <td>513</td>\n",
       "      <td>528</td>\n",
       "      <td>464</td>\n",
       "      <td>541</td>\n",
       "    </tr>\n",
       "    <tr>\n",
       "      <th>2</th>\n",
       "      <td>2005</td>\n",
       "      <td>AZ</td>\n",
       "      <td>530</td>\n",
       "      <td>498</td>\n",
       "      <td>520</td>\n",
       "      <td>524</td>\n",
       "      <td>534</td>\n",
       "      <td>485</td>\n",
       "      <td>554</td>\n",
       "    </tr>\n",
       "    <tr>\n",
       "      <th>3</th>\n",
       "      <td>2005</td>\n",
       "      <td>AR</td>\n",
       "      <td>552</td>\n",
       "      <td>513</td>\n",
       "      <td>543</td>\n",
       "      <td>553</td>\n",
       "      <td>570</td>\n",
       "      <td>489</td>\n",
       "      <td>572</td>\n",
       "    </tr>\n",
       "    <tr>\n",
       "      <th>4</th>\n",
       "      <td>2005</td>\n",
       "      <td>CA</td>\n",
       "      <td>522</td>\n",
       "      <td>477</td>\n",
       "      <td>506</td>\n",
       "      <td>521</td>\n",
       "      <td>535</td>\n",
       "      <td>451</td>\n",
       "      <td>566</td>\n",
       "    </tr>\n",
       "  </tbody>\n",
       "</table>\n",
       "</div>"
      ],
      "text/plain": [
       "   Year State.Code  Total.Math  Family Income.Between 20-40k.Math  \\\n",
       "0  2005         AL         559                                513   \n",
       "1  2005         AK         519                                492   \n",
       "2  2005         AZ         530                                498   \n",
       "3  2005         AR         552                                513   \n",
       "4  2005         CA         522                                477   \n",
       "\n",
       "   Family Income.Between 40-60k.Math  Family Income.Between 60-80k.Math  \\\n",
       "0                                539                                550   \n",
       "1                                517                                513   \n",
       "2                                520                                524   \n",
       "3                                543                                553   \n",
       "4                                506                                521   \n",
       "\n",
       "   Family Income.Between 80-100k.Math  Family Income.Less than 20k.Math  \\\n",
       "0                                 566                               462   \n",
       "1                                 528                               464   \n",
       "2                                 534                               485   \n",
       "3                                 570                               489   \n",
       "4                                 535                               451   \n",
       "\n",
       "   Family Income.More than 100k.Math  \n",
       "0                                588  \n",
       "1                                541  \n",
       "2                                554  \n",
       "3                                572  \n",
       "4                                566  "
      ]
     },
     "execution_count": 2,
     "metadata": {},
     "output_type": "execute_result"
    }
   ],
   "source": [
    "import pandas as pd\n",
    "\n",
    "filename = \"data/sat-scores.csv\"\n",
    "\n",
    "df = pd.read_csv(filename,\n",
    "                usecols=['Year', 'State.Code', 'Total.Math',\n",
    "                         'Family Income.Less than 20k.Math',\n",
    "                         'Family Income.Between 20-40k.Math',\n",
    "                         'Family Income.Between 40-60k.Math',\n",
    "                         'Family Income.Between 60-80k.Math',\n",
    "                         'Family Income.Between 80-100k.Math',\n",
    "                         'Family Income.More than 100k.Math'])\n",
    "\n",
    "df.head()"
   ]
  },
  {
   "cell_type": "code",
   "execution_count": 4,
   "metadata": {},
   "outputs": [
    {
     "data": {
      "text/html": [
       "<div>\n",
       "<style scoped>\n",
       "    .dataframe tbody tr th:only-of-type {\n",
       "        vertical-align: middle;\n",
       "    }\n",
       "\n",
       "    .dataframe tbody tr th {\n",
       "        vertical-align: top;\n",
       "    }\n",
       "\n",
       "    .dataframe thead th {\n",
       "        text-align: right;\n",
       "    }\n",
       "</style>\n",
       "<table border=\"1\" class=\"dataframe\">\n",
       "  <thead>\n",
       "    <tr style=\"text-align: right;\">\n",
       "      <th></th>\n",
       "      <th>Year</th>\n",
       "      <th>State.Code</th>\n",
       "      <th>Total.Math</th>\n",
       "      <th>income&lt;20k</th>\n",
       "      <th>20k&lt;income&lt;40k</th>\n",
       "      <th>40k&lt;income&lt;60k</th>\n",
       "      <th>60k&lt;income&lt;80k</th>\n",
       "      <th>80k&lt;income&lt;100k</th>\n",
       "      <th>income&gt;100k</th>\n",
       "    </tr>\n",
       "  </thead>\n",
       "  <tbody>\n",
       "    <tr>\n",
       "      <th>0</th>\n",
       "      <td>2005</td>\n",
       "      <td>AL</td>\n",
       "      <td>559</td>\n",
       "      <td>513</td>\n",
       "      <td>539</td>\n",
       "      <td>550</td>\n",
       "      <td>566</td>\n",
       "      <td>462</td>\n",
       "      <td>588</td>\n",
       "    </tr>\n",
       "    <tr>\n",
       "      <th>1</th>\n",
       "      <td>2005</td>\n",
       "      <td>AK</td>\n",
       "      <td>519</td>\n",
       "      <td>492</td>\n",
       "      <td>517</td>\n",
       "      <td>513</td>\n",
       "      <td>528</td>\n",
       "      <td>464</td>\n",
       "      <td>541</td>\n",
       "    </tr>\n",
       "    <tr>\n",
       "      <th>2</th>\n",
       "      <td>2005</td>\n",
       "      <td>AZ</td>\n",
       "      <td>530</td>\n",
       "      <td>498</td>\n",
       "      <td>520</td>\n",
       "      <td>524</td>\n",
       "      <td>534</td>\n",
       "      <td>485</td>\n",
       "      <td>554</td>\n",
       "    </tr>\n",
       "    <tr>\n",
       "      <th>3</th>\n",
       "      <td>2005</td>\n",
       "      <td>AR</td>\n",
       "      <td>552</td>\n",
       "      <td>513</td>\n",
       "      <td>543</td>\n",
       "      <td>553</td>\n",
       "      <td>570</td>\n",
       "      <td>489</td>\n",
       "      <td>572</td>\n",
       "    </tr>\n",
       "    <tr>\n",
       "      <th>4</th>\n",
       "      <td>2005</td>\n",
       "      <td>CA</td>\n",
       "      <td>522</td>\n",
       "      <td>477</td>\n",
       "      <td>506</td>\n",
       "      <td>521</td>\n",
       "      <td>535</td>\n",
       "      <td>451</td>\n",
       "      <td>566</td>\n",
       "    </tr>\n",
       "  </tbody>\n",
       "</table>\n",
       "</div>"
      ],
      "text/plain": [
       "   Year State.Code  Total.Math  income<20k  20k<income<40k  40k<income<60k  \\\n",
       "0  2005         AL         559         513             539             550   \n",
       "1  2005         AK         519         492             517             513   \n",
       "2  2005         AZ         530         498             520             524   \n",
       "3  2005         AR         552         513             543             553   \n",
       "4  2005         CA         522         477             506             521   \n",
       "\n",
       "   60k<income<80k  80k<income<100k  income>100k  \n",
       "0             566              462          588  \n",
       "1             528              464          541  \n",
       "2             534              485          554  \n",
       "3             570              489          572  \n",
       "4             535              451          566  "
      ]
     },
     "execution_count": 4,
     "metadata": {},
     "output_type": "execute_result"
    }
   ],
   "source": [
    "# Rename the Columns\n",
    "\n",
    "df.columns = ['Year', 'State.Code', 'Total.Math',\n",
    "                      'income<20k',\n",
    "                      '20k<income<40k',\n",
    "                      '40k<income<60k',\n",
    "                      '60k<income<80k',\n",
    "                      '80k<income<100k',\n",
    "                      'income>100k',\n",
    "                      ]\n",
    "\n",
    "df.head()\n",
    "\n"
   ]
  },
  {
   "cell_type": "markdown",
   "metadata": {},
   "source": [
    "So long as the assigned list of strings contains the same number of elements as df has columns, this assignment will work just fine.\n",
    "\n",
    "Now that our data frame has the rows and columns that we want, and that the columns have easy-to-understand names, we can start to actually analyze things.\n",
    "\n",
    "First, I asked you to find the average SAT math score for each income level, grouped and then sorted by year:"
   ]
  },
  {
   "cell_type": "code",
   "execution_count": 5,
   "metadata": {},
   "outputs": [
    {
     "data": {
      "text/html": [
       "<div>\n",
       "<style scoped>\n",
       "    .dataframe tbody tr th:only-of-type {\n",
       "        vertical-align: middle;\n",
       "    }\n",
       "\n",
       "    .dataframe tbody tr th {\n",
       "        vertical-align: top;\n",
       "    }\n",
       "\n",
       "    .dataframe thead th {\n",
       "        text-align: right;\n",
       "    }\n",
       "</style>\n",
       "<table border=\"1\" class=\"dataframe\">\n",
       "  <thead>\n",
       "    <tr style=\"text-align: right;\">\n",
       "      <th></th>\n",
       "      <th>Total.Math</th>\n",
       "      <th>income&lt;20k</th>\n",
       "      <th>20k&lt;income&lt;40k</th>\n",
       "      <th>40k&lt;income&lt;60k</th>\n",
       "      <th>60k&lt;income&lt;80k</th>\n",
       "      <th>80k&lt;income&lt;100k</th>\n",
       "      <th>income&gt;100k</th>\n",
       "    </tr>\n",
       "    <tr>\n",
       "      <th>Year</th>\n",
       "      <th></th>\n",
       "      <th></th>\n",
       "      <th></th>\n",
       "      <th></th>\n",
       "      <th></th>\n",
       "      <th></th>\n",
       "      <th></th>\n",
       "    </tr>\n",
       "  </thead>\n",
       "  <tbody>\n",
       "    <tr>\n",
       "      <th>2005</th>\n",
       "      <td>535.653846</td>\n",
       "      <td>488.653846</td>\n",
       "      <td>522.673077</td>\n",
       "      <td>536.076923</td>\n",
       "      <td>548.942308</td>\n",
       "      <td>427.596154</td>\n",
       "      <td>572.173077</td>\n",
       "    </tr>\n",
       "    <tr>\n",
       "      <th>2006</th>\n",
       "      <td>537.480769</td>\n",
       "      <td>502.923077</td>\n",
       "      <td>523.769231</td>\n",
       "      <td>534.903846</td>\n",
       "      <td>550.461538</td>\n",
       "      <td>461.019231</td>\n",
       "      <td>572.519231</td>\n",
       "    </tr>\n",
       "    <tr>\n",
       "      <th>2007</th>\n",
       "      <td>535.339623</td>\n",
       "      <td>494.849057</td>\n",
       "      <td>519.490566</td>\n",
       "      <td>533.188679</td>\n",
       "      <td>545.698113</td>\n",
       "      <td>457.924528</td>\n",
       "      <td>565.169811</td>\n",
       "    </tr>\n",
       "    <tr>\n",
       "      <th>2008</th>\n",
       "      <td>535.981132</td>\n",
       "      <td>523.622642</td>\n",
       "      <td>547.471698</td>\n",
       "      <td>549.188679</td>\n",
       "      <td>557.641509</td>\n",
       "      <td>478.641509</td>\n",
       "      <td>564.566038</td>\n",
       "    </tr>\n",
       "    <tr>\n",
       "      <th>2009</th>\n",
       "      <td>540.803922</td>\n",
       "      <td>527.823529</td>\n",
       "      <td>550.980392</td>\n",
       "      <td>553.941176</td>\n",
       "      <td>565.333333</td>\n",
       "      <td>482.058824</td>\n",
       "      <td>585.784314</td>\n",
       "    </tr>\n",
       "    <tr>\n",
       "      <th>2010</th>\n",
       "      <td>540.843137</td>\n",
       "      <td>499.274510</td>\n",
       "      <td>522.000000</td>\n",
       "      <td>534.235294</td>\n",
       "      <td>547.627451</td>\n",
       "      <td>477.039216</td>\n",
       "      <td>569.274510</td>\n",
       "    </tr>\n",
       "    <tr>\n",
       "      <th>2011</th>\n",
       "      <td>533.226415</td>\n",
       "      <td>494.886792</td>\n",
       "      <td>513.415094</td>\n",
       "      <td>528.660377</td>\n",
       "      <td>541.849057</td>\n",
       "      <td>460.452830</td>\n",
       "      <td>563.245283</td>\n",
       "    </tr>\n",
       "    <tr>\n",
       "      <th>2012</th>\n",
       "      <td>533.603774</td>\n",
       "      <td>492.056604</td>\n",
       "      <td>512.452830</td>\n",
       "      <td>525.773585</td>\n",
       "      <td>538.301887</td>\n",
       "      <td>458.773585</td>\n",
       "      <td>557.320755</td>\n",
       "    </tr>\n",
       "    <tr>\n",
       "      <th>2013</th>\n",
       "      <td>532.622642</td>\n",
       "      <td>490.132075</td>\n",
       "      <td>511.377358</td>\n",
       "      <td>520.320755</td>\n",
       "      <td>537.396226</td>\n",
       "      <td>469.358491</td>\n",
       "      <td>556.339623</td>\n",
       "    </tr>\n",
       "    <tr>\n",
       "      <th>2014</th>\n",
       "      <td>534.283019</td>\n",
       "      <td>497.641509</td>\n",
       "      <td>514.943396</td>\n",
       "      <td>527.169811</td>\n",
       "      <td>543.132075</td>\n",
       "      <td>459.415094</td>\n",
       "      <td>555.433962</td>\n",
       "    </tr>\n",
       "    <tr>\n",
       "      <th>2015</th>\n",
       "      <td>533.094340</td>\n",
       "      <td>491.603774</td>\n",
       "      <td>513.754717</td>\n",
       "      <td>527.132075</td>\n",
       "      <td>542.037736</td>\n",
       "      <td>447.490566</td>\n",
       "      <td>563.433962</td>\n",
       "    </tr>\n",
       "  </tbody>\n",
       "</table>\n",
       "</div>"
      ],
      "text/plain": [
       "      Total.Math  income<20k  20k<income<40k  40k<income<60k  60k<income<80k  \\\n",
       "Year                                                                           \n",
       "2005  535.653846  488.653846      522.673077      536.076923      548.942308   \n",
       "2006  537.480769  502.923077      523.769231      534.903846      550.461538   \n",
       "2007  535.339623  494.849057      519.490566      533.188679      545.698113   \n",
       "2008  535.981132  523.622642      547.471698      549.188679      557.641509   \n",
       "2009  540.803922  527.823529      550.980392      553.941176      565.333333   \n",
       "2010  540.843137  499.274510      522.000000      534.235294      547.627451   \n",
       "2011  533.226415  494.886792      513.415094      528.660377      541.849057   \n",
       "2012  533.603774  492.056604      512.452830      525.773585      538.301887   \n",
       "2013  532.622642  490.132075      511.377358      520.320755      537.396226   \n",
       "2014  534.283019  497.641509      514.943396      527.169811      543.132075   \n",
       "2015  533.094340  491.603774      513.754717      527.132075      542.037736   \n",
       "\n",
       "      80k<income<100k  income>100k  \n",
       "Year                                \n",
       "2005       427.596154   572.173077  \n",
       "2006       461.019231   572.519231  \n",
       "2007       457.924528   565.169811  \n",
       "2008       478.641509   564.566038  \n",
       "2009       482.058824   585.784314  \n",
       "2010       477.039216   569.274510  \n",
       "2011       460.452830   563.245283  \n",
       "2012       458.773585   557.320755  \n",
       "2013       469.358491   556.339623  \n",
       "2014       459.415094   555.433962  \n",
       "2015       447.490566   563.433962  "
      ]
     },
     "execution_count": 5,
     "metadata": {},
     "output_type": "execute_result"
    }
   ],
   "source": [
    "df.groupby(\"Year\").mean().sort_index()"
   ]
  },
  {
   "cell_type": "markdown",
   "metadata": {},
   "source": [
    "This query is similar to what we’ve done before: We want to invoke mean on every column in df, grouping the results by year. We’ll thus be able to say, for each income bracket, what the average SAT math score was across the United States in each year.\n",
    "\n",
    "Because we’re grouping by the Year column, it won’t be included in our output. But why wasn’t State.Code included in our output? Because it’s a textual column, and mean only works on numeric columns. As a result, we didn’t need to explicitly exclude it—or explicitly indicate which columns we did want—in our output.\n",
    "\n",
    "Moreover, because we grouped by Year, the index of the resulting data frame had an index of Year. It so happens that because the data set come sorted by Year that the results appear to be sorted. But just to be on the safe side, I invoked sort_index on the data frame, ensuring that the result we got back was sorted, from the earliest year in the data set through the final year in the data set.\n",
    "\n",
    "We want to compare the scores by year and income brackets. But pct_change works on rows, not on columns—and right now, our data frame has the brackets as columns. We thus need to flip the data frame on its side, such that the years will be the columns and the income brackets will be the columns.\n",
    "\n",
    "The solution is to use the transpose method, more easily abbreviated as T, which returns a new data frame in which the rows and columns have exchanged places:"
   ]
  },
  {
   "cell_type": "code",
   "execution_count": 8,
   "metadata": {},
   "outputs": [
    {
     "data": {
      "text/html": [
       "<div>\n",
       "<style scoped>\n",
       "    .dataframe tbody tr th:only-of-type {\n",
       "        vertical-align: middle;\n",
       "    }\n",
       "\n",
       "    .dataframe tbody tr th {\n",
       "        vertical-align: top;\n",
       "    }\n",
       "\n",
       "    .dataframe thead th {\n",
       "        text-align: right;\n",
       "    }\n",
       "</style>\n",
       "<table border=\"1\" class=\"dataframe\">\n",
       "  <thead>\n",
       "    <tr style=\"text-align: right;\">\n",
       "      <th>Year</th>\n",
       "      <th>2005</th>\n",
       "      <th>2006</th>\n",
       "      <th>2007</th>\n",
       "      <th>2008</th>\n",
       "      <th>2009</th>\n",
       "      <th>2010</th>\n",
       "      <th>2011</th>\n",
       "      <th>2012</th>\n",
       "      <th>2013</th>\n",
       "      <th>2014</th>\n",
       "      <th>2015</th>\n",
       "    </tr>\n",
       "  </thead>\n",
       "  <tbody>\n",
       "    <tr>\n",
       "      <th>income&lt;20k</th>\n",
       "      <td>NaN</td>\n",
       "      <td>NaN</td>\n",
       "      <td>NaN</td>\n",
       "      <td>NaN</td>\n",
       "      <td>NaN</td>\n",
       "      <td>NaN</td>\n",
       "      <td>NaN</td>\n",
       "      <td>NaN</td>\n",
       "      <td>NaN</td>\n",
       "      <td>NaN</td>\n",
       "      <td>NaN</td>\n",
       "    </tr>\n",
       "    <tr>\n",
       "      <th>20k&lt;income&lt;40k</th>\n",
       "      <td>6.961826</td>\n",
       "      <td>4.144998</td>\n",
       "      <td>4.979601</td>\n",
       "      <td>4.554627</td>\n",
       "      <td>4.387236</td>\n",
       "      <td>4.551702</td>\n",
       "      <td>3.743948</td>\n",
       "      <td>4.145098</td>\n",
       "      <td>4.334604</td>\n",
       "      <td>3.476777</td>\n",
       "      <td>4.505853</td>\n",
       "    </tr>\n",
       "    <tr>\n",
       "      <th>40k&lt;income&lt;60k</th>\n",
       "      <td>2.564480</td>\n",
       "      <td>2.125863</td>\n",
       "      <td>2.636836</td>\n",
       "      <td>0.313620</td>\n",
       "      <td>0.537367</td>\n",
       "      <td>2.343926</td>\n",
       "      <td>2.969387</td>\n",
       "      <td>2.599411</td>\n",
       "      <td>1.748884</td>\n",
       "      <td>2.374322</td>\n",
       "      <td>2.603841</td>\n",
       "    </tr>\n",
       "    <tr>\n",
       "      <th>60k&lt;income&lt;80k</th>\n",
       "      <td>2.399914</td>\n",
       "      <td>2.908503</td>\n",
       "      <td>2.346155</td>\n",
       "      <td>1.539149</td>\n",
       "      <td>2.056564</td>\n",
       "      <td>2.506790</td>\n",
       "      <td>2.494736</td>\n",
       "      <td>2.382832</td>\n",
       "      <td>3.281720</td>\n",
       "      <td>3.027917</td>\n",
       "      <td>2.827690</td>\n",
       "    </tr>\n",
       "    <tr>\n",
       "      <th>80k&lt;income&lt;100k</th>\n",
       "      <td>-22.105448</td>\n",
       "      <td>-16.248603</td>\n",
       "      <td>-16.084641</td>\n",
       "      <td>-14.166808</td>\n",
       "      <td>-14.730161</td>\n",
       "      <td>-12.889828</td>\n",
       "      <td>-15.021937</td>\n",
       "      <td>-14.773922</td>\n",
       "      <td>-12.660628</td>\n",
       "      <td>-15.413743</td>\n",
       "      <td>-17.442913</td>\n",
       "    </tr>\n",
       "    <tr>\n",
       "      <th>income&gt;100k</th>\n",
       "      <td>33.811558</td>\n",
       "      <td>24.185542</td>\n",
       "      <td>23.419860</td>\n",
       "      <td>17.951750</td>\n",
       "      <td>21.517185</td>\n",
       "      <td>19.334950</td>\n",
       "      <td>22.324209</td>\n",
       "      <td>21.480568</td>\n",
       "      <td>18.531918</td>\n",
       "      <td>20.900242</td>\n",
       "      <td>25.909685</td>\n",
       "    </tr>\n",
       "  </tbody>\n",
       "</table>\n",
       "</div>"
      ],
      "text/plain": [
       "Year                  2005       2006       2007       2008       2009  \\\n",
       "income<20k             NaN        NaN        NaN        NaN        NaN   \n",
       "20k<income<40k    6.961826   4.144998   4.979601   4.554627   4.387236   \n",
       "40k<income<60k    2.564480   2.125863   2.636836   0.313620   0.537367   \n",
       "60k<income<80k    2.399914   2.908503   2.346155   1.539149   2.056564   \n",
       "80k<income<100k -22.105448 -16.248603 -16.084641 -14.166808 -14.730161   \n",
       "income>100k      33.811558  24.185542  23.419860  17.951750  21.517185   \n",
       "\n",
       "Year                  2010       2011       2012       2013       2014  \\\n",
       "income<20k             NaN        NaN        NaN        NaN        NaN   \n",
       "20k<income<40k    4.551702   3.743948   4.145098   4.334604   3.476777   \n",
       "40k<income<60k    2.343926   2.969387   2.599411   1.748884   2.374322   \n",
       "60k<income<80k    2.506790   2.494736   2.382832   3.281720   3.027917   \n",
       "80k<income<100k -12.889828 -15.021937 -14.773922 -12.660628 -15.413743   \n",
       "income>100k      19.334950  22.324209  21.480568  18.531918  20.900242   \n",
       "\n",
       "Year                  2015  \n",
       "income<20k             NaN  \n",
       "20k<income<40k    4.505853  \n",
       "40k<income<60k    2.603841  \n",
       "60k<income<80k    2.827690  \n",
       "80k<income<100k -17.442913  \n",
       "income>100k      25.909685  "
      ]
     },
     "execution_count": 8,
     "metadata": {},
     "output_type": "execute_result"
    }
   ],
   "source": [
    "df.groupby('Year')[['income<20k',\n",
    "                      '20k<income<40k',\n",
    "                      '40k<income<60k',\n",
    "                      '60k<income<80k',\n",
    "                      '80k<income<100k',\n",
    "                      'income>100k']].mean().T.pct_change() * 100"
   ]
  },
  {
   "cell_type": "markdown",
   "metadata": {},
   "source": [
    "From a visual scan of the data, we can see that nearly each income bracket did better than the next-lower bracket. Thus, families with an income between $20,000 and $40,000 per year, did about 3 to 7 percent better on their math SAT than people in the lowest bracket. And in families making $40,000 to $60,000 per year, they generally did 2-3 percent better than those in the next-lower bracket.\n",
    "\n",
    "However, we also see that across the years, those earning between $80,000 and $100,000 per year did slightly worse than those than those in the next-lowest income bracket (i.e., between $60,000 and $80,000 per year). What’s the reason for this? I’m not at all sure, but we see that this is consistently true across all of the years."
   ]
  },
  {
   "cell_type": "markdown",
   "metadata": {},
   "source": [
    ">  Find which income bracket, on average, had the greatest advantage over the next-poorer income bracket. In order to do this, I started with the result of our call to pct_change. But I wanted to find out how much better, on average, each bracket did than the next-poorer bracket. To do this, I would want to use mean—but not on the data frame we got back from pct_change. Rather, I want to re-transpose the data frame, such that the income brackets are the columns, and the years are the rows:"
   ]
  },
  {
   "cell_type": "code",
   "execution_count": 13,
   "metadata": {},
   "outputs": [
    {
     "data": {
      "text/plain": [
       "80k<income<100k   -0.155944\n",
       "dtype: float64"
      ]
     },
     "execution_count": 13,
     "metadata": {},
     "output_type": "execute_result"
    }
   ],
   "source": [
    "change = df.groupby('Year')[['income<20k',\n",
    "                      '20k<income<40k',\n",
    "                      '40k<income<60k',\n",
    "                      '60k<income<80k',\n",
    "                      '80k<income<100k',\n",
    "                      'income>100k']].mean().T.pct_change().T.mean().sort_values(ascending = False)\n",
    "\n",
    "\n",
    "change[change <= 0]"
   ]
  },
  {
   "cell_type": "markdown",
   "metadata": {},
   "source": [
    "### Filtering and Transforming\n"
   ]
  },
  {
   "cell_type": "markdown",
   "metadata": {},
   "source": [
    "#### Filtering"
   ]
  },
  {
   "cell_type": "code",
   "execution_count": 14,
   "metadata": {},
   "outputs": [
    {
     "data": {
      "text/html": [
       "<div>\n",
       "<style scoped>\n",
       "    .dataframe tbody tr th:only-of-type {\n",
       "        vertical-align: middle;\n",
       "    }\n",
       "\n",
       "    .dataframe tbody tr th {\n",
       "        vertical-align: top;\n",
       "    }\n",
       "\n",
       "    .dataframe thead th {\n",
       "        text-align: right;\n",
       "    }\n",
       "</style>\n",
       "<table border=\"1\" class=\"dataframe\">\n",
       "  <thead>\n",
       "    <tr style=\"text-align: right;\">\n",
       "      <th></th>\n",
       "      <th>name</th>\n",
       "      <th>year</th>\n",
       "      <th>score</th>\n",
       "    </tr>\n",
       "  </thead>\n",
       "  <tbody>\n",
       "    <tr>\n",
       "      <th>0</th>\n",
       "      <td>A</td>\n",
       "      <td>2018</td>\n",
       "      <td>92</td>\n",
       "    </tr>\n",
       "    <tr>\n",
       "      <th>1</th>\n",
       "      <td>B</td>\n",
       "      <td>2019</td>\n",
       "      <td>95</td>\n",
       "    </tr>\n",
       "    <tr>\n",
       "      <th>2</th>\n",
       "      <td>C</td>\n",
       "      <td>2020</td>\n",
       "      <td>80</td>\n",
       "    </tr>\n",
       "    <tr>\n",
       "      <th>3</th>\n",
       "      <td>D</td>\n",
       "      <td>2018</td>\n",
       "      <td>83</td>\n",
       "    </tr>\n",
       "    <tr>\n",
       "      <th>4</th>\n",
       "      <td>E</td>\n",
       "      <td>2019</td>\n",
       "      <td>83</td>\n",
       "    </tr>\n",
       "  </tbody>\n",
       "</table>\n",
       "</div>"
      ],
      "text/plain": [
       "  name  year  score\n",
       "0    A  2018     92\n",
       "1    B  2019     95\n",
       "2    C  2020     80\n",
       "3    D  2018     83\n",
       "4    E  2019     83"
      ]
     },
     "execution_count": 14,
     "metadata": {},
     "output_type": "execute_result"
    }
   ],
   "source": [
    "import numpy as np \n",
    "\n",
    "np.random.seed(0)\n",
    "\n",
    "df = pd.DataFrame({\"name\": list(\"ABCDEFGHIJ\"),\n",
    "                   \"year\": [2018, 2019, 2020] * 3 +[2021],\n",
    "                   \"score\": np.random.randint(80, 100, 10)\n",
    "        })\n",
    "\n",
    "df.head()"
   ]
  },
  {
   "cell_type": "code",
   "execution_count": 15,
   "metadata": {},
   "outputs": [
    {
     "data": {
      "text/plain": [
       "89.0"
      ]
     },
     "execution_count": 15,
     "metadata": {},
     "output_type": "execute_result"
    }
   ],
   "source": [
    "# Get the mean score\n",
    "\n",
    "df[\"score\"].mean()"
   ]
  },
  {
   "cell_type": "code",
   "execution_count": 16,
   "metadata": {},
   "outputs": [
    {
     "data": {
      "text/html": [
       "<div>\n",
       "<style scoped>\n",
       "    .dataframe tbody tr th:only-of-type {\n",
       "        vertical-align: middle;\n",
       "    }\n",
       "\n",
       "    .dataframe tbody tr th {\n",
       "        vertical-align: top;\n",
       "    }\n",
       "\n",
       "    .dataframe thead th {\n",
       "        text-align: right;\n",
       "    }\n",
       "</style>\n",
       "<table border=\"1\" class=\"dataframe\">\n",
       "  <thead>\n",
       "    <tr style=\"text-align: right;\">\n",
       "      <th></th>\n",
       "      <th>name</th>\n",
       "      <th>year</th>\n",
       "      <th>score</th>\n",
       "    </tr>\n",
       "  </thead>\n",
       "  <tbody>\n",
       "    <tr>\n",
       "      <th>0</th>\n",
       "      <td>A</td>\n",
       "      <td>2018</td>\n",
       "      <td>92</td>\n",
       "    </tr>\n",
       "    <tr>\n",
       "      <th>1</th>\n",
       "      <td>B</td>\n",
       "      <td>2019</td>\n",
       "      <td>95</td>\n",
       "    </tr>\n",
       "    <tr>\n",
       "      <th>7</th>\n",
       "      <td>H</td>\n",
       "      <td>2019</td>\n",
       "      <td>99</td>\n",
       "    </tr>\n",
       "    <tr>\n",
       "      <th>8</th>\n",
       "      <td>I</td>\n",
       "      <td>2020</td>\n",
       "      <td>98</td>\n",
       "    </tr>\n",
       "  </tbody>\n",
       "</table>\n",
       "</div>"
      ],
      "text/plain": [
       "  name  year  score\n",
       "0    A  2018     92\n",
       "1    B  2019     95\n",
       "7    H  2019     99\n",
       "8    I  2020     98"
      ]
     },
     "execution_count": 16,
     "metadata": {},
     "output_type": "execute_result"
    }
   ],
   "source": [
    "# All students who scored above 90\n",
    "\n",
    "df.loc[(df[\"score\"] > 90)]"
   ]
  },
  {
   "cell_type": "code",
   "execution_count": 17,
   "metadata": {},
   "outputs": [
    {
     "data": {
      "text/plain": [
       "year\n",
       "2018    88.000000\n",
       "2019    92.333333\n",
       "2020    88.333333\n",
       "2021    84.000000\n",
       "Name: score, dtype: float64"
      ]
     },
     "execution_count": 17,
     "metadata": {},
     "output_type": "execute_result"
    }
   ],
   "source": [
    "# Mean Score over year\n",
    "\n",
    "df.groupby('year')[\"score\"].mean()"
   ]
  },
  {
   "cell_type": "markdown",
   "metadata": {},
   "source": [
    "> So far, so good. But consider this: I want to find out which years in our school had an average score of at least 90, and see all of the students in those years. In other words, I want to filter out specific groups fo students, based on a per-year aggregate calculation. How can I do that?"
   ]
  },
  {
   "cell_type": "code",
   "execution_count": 18,
   "metadata": {},
   "outputs": [
    {
     "data": {
      "text/html": [
       "<div>\n",
       "<style scoped>\n",
       "    .dataframe tbody tr th:only-of-type {\n",
       "        vertical-align: middle;\n",
       "    }\n",
       "\n",
       "    .dataframe tbody tr th {\n",
       "        vertical-align: top;\n",
       "    }\n",
       "\n",
       "    .dataframe thead th {\n",
       "        text-align: right;\n",
       "    }\n",
       "</style>\n",
       "<table border=\"1\" class=\"dataframe\">\n",
       "  <thead>\n",
       "    <tr style=\"text-align: right;\">\n",
       "      <th></th>\n",
       "      <th>name</th>\n",
       "      <th>year</th>\n",
       "      <th>score</th>\n",
       "    </tr>\n",
       "  </thead>\n",
       "  <tbody>\n",
       "    <tr>\n",
       "      <th>1</th>\n",
       "      <td>B</td>\n",
       "      <td>2019</td>\n",
       "      <td>95</td>\n",
       "    </tr>\n",
       "    <tr>\n",
       "      <th>4</th>\n",
       "      <td>E</td>\n",
       "      <td>2019</td>\n",
       "      <td>83</td>\n",
       "    </tr>\n",
       "    <tr>\n",
       "      <th>7</th>\n",
       "      <td>H</td>\n",
       "      <td>2019</td>\n",
       "      <td>99</td>\n",
       "    </tr>\n",
       "  </tbody>\n",
       "</table>\n",
       "</div>"
      ],
      "text/plain": [
       "  name  year  score\n",
       "1    B  2019     95\n",
       "4    E  2019     83\n",
       "7    H  2019     99"
      ]
     },
     "execution_count": 18,
     "metadata": {},
     "output_type": "execute_result"
    }
   ],
   "source": [
    "def year_average_is_at_least_90(df):\n",
    "    return df[\"score\"].mean() >= 90\n",
    "\n",
    "df.groupby(\"year\").filter(year_average_is_at_least_90)"
   ]
  },
  {
   "cell_type": "markdown",
   "metadata": {},
   "source": [
    "The result of running this code will be a data frame whose rows all come from df, from years in which the average final-exam math score was at least 90. That would only be in the year 2019, so we get the rows with indexes 1, 4, and 7."
   ]
  },
  {
   "cell_type": "code",
   "execution_count": 2,
   "metadata": {},
   "outputs": [
    {
     "name": "stdout",
     "output_type": "stream",
     "text": [
      "Loading data\\albany,ny.csv\n",
      "Loading data\\boston,ma.csv\n",
      "Loading data\\chicago,il.csv\n",
      "Loading data\\los+angeles,ca.csv\n",
      "Loading data\\new+york,ny.csv\n",
      "Loading data\\san+francisco,ca.csv\n",
      "Loading data\\springfield,il.csv\n",
      "Loading data\\springfield,ma.csv\n"
     ]
    },
    {
     "data": {
      "text/html": [
       "<div>\n",
       "<style scoped>\n",
       "    .dataframe tbody tr th:only-of-type {\n",
       "        vertical-align: middle;\n",
       "    }\n",
       "\n",
       "    .dataframe tbody tr th {\n",
       "        vertical-align: top;\n",
       "    }\n",
       "\n",
       "    .dataframe thead th {\n",
       "        text-align: right;\n",
       "    }\n",
       "</style>\n",
       "<table border=\"1\" class=\"dataframe\">\n",
       "  <thead>\n",
       "    <tr style=\"text-align: right;\">\n",
       "      <th></th>\n",
       "      <th>max_temp</th>\n",
       "      <th>min_temp</th>\n",
       "      <th>precipMM</th>\n",
       "      <th>city</th>\n",
       "      <th>state</th>\n",
       "    </tr>\n",
       "  </thead>\n",
       "  <tbody>\n",
       "    <tr>\n",
       "      <th>0</th>\n",
       "      <td>-2</td>\n",
       "      <td>-8</td>\n",
       "      <td>0.0</td>\n",
       "      <td>albany</td>\n",
       "      <td>NY</td>\n",
       "    </tr>\n",
       "    <tr>\n",
       "      <th>1</th>\n",
       "      <td>-2</td>\n",
       "      <td>-8</td>\n",
       "      <td>0.0</td>\n",
       "      <td>albany</td>\n",
       "      <td>NY</td>\n",
       "    </tr>\n",
       "    <tr>\n",
       "      <th>2</th>\n",
       "      <td>-2</td>\n",
       "      <td>-8</td>\n",
       "      <td>0.0</td>\n",
       "      <td>albany</td>\n",
       "      <td>NY</td>\n",
       "    </tr>\n",
       "    <tr>\n",
       "      <th>3</th>\n",
       "      <td>-2</td>\n",
       "      <td>-8</td>\n",
       "      <td>0.0</td>\n",
       "      <td>albany</td>\n",
       "      <td>NY</td>\n",
       "    </tr>\n",
       "    <tr>\n",
       "      <th>4</th>\n",
       "      <td>-2</td>\n",
       "      <td>-8</td>\n",
       "      <td>0.0</td>\n",
       "      <td>albany</td>\n",
       "      <td>NY</td>\n",
       "    </tr>\n",
       "  </tbody>\n",
       "</table>\n",
       "</div>"
      ],
      "text/plain": [
       "   max_temp  min_temp  precipMM    city state\n",
       "0        -2        -8       0.0  albany    NY\n",
       "1        -2        -8       0.0  albany    NY\n",
       "2        -2        -8       0.0  albany    NY\n",
       "3        -2        -8       0.0  albany    NY\n",
       "4        -2        -8       0.0  albany    NY"
      ]
     },
     "execution_count": 2,
     "metadata": {},
     "output_type": "execute_result"
    }
   ],
   "source": [
    "import glob\n",
    "\n",
    "import pandas as pd\n",
    "\n",
    "all_dfs = []\n",
    "\n",
    "\n",
    "for one_file in glob.glob(\"data/*,*.csv\"):\n",
    "    print(f\"Loading {one_file}\")\n",
    "    # Grab the city and state from the filename\n",
    "    city, state = one_file.removeprefix(\"data\\\\\").removesuffix(\".csv\").split(\",\")\n",
    "    # Read the csv file and add the city and state to the dataframe\n",
    "    one_df = pd.read_csv(one_file, usecols = [1,2,19], names = [\"max_temp\", \"min_temp\", \"precipMM\"], header = 0)\n",
    "    one_df['city'] = city.replace(\"+\", \" \")\n",
    "    one_df['state'] = state.upper()\n",
    "    all_dfs.append(one_df)\n",
    "\n",
    "# Combine all the dfs\n",
    "df = pd.concat(all_dfs)\n",
    "\n",
    "# Preview the DF\n",
    "df.head()"
   ]
  },
  {
   "cell_type": "markdown",
   "metadata": {},
   "source": [
    "For starters, I wanted to find cities which had measured precipitation of 15 mm or more on at least three occasions. This means:\n",
    "\n",
    "- We’ll need to group our data frame by city\n",
    "- We’ll check to see which cities had 15 mm of precipitation at least three times"
   ]
  },
  {
   "cell_type": "code",
   "execution_count": 6,
   "metadata": {},
   "outputs": [
    {
     "data": {
      "text/html": [
       "<div>\n",
       "<style scoped>\n",
       "    .dataframe tbody tr th:only-of-type {\n",
       "        vertical-align: middle;\n",
       "    }\n",
       "\n",
       "    .dataframe tbody tr th {\n",
       "        vertical-align: top;\n",
       "    }\n",
       "\n",
       "    .dataframe thead th {\n",
       "        text-align: right;\n",
       "    }\n",
       "</style>\n",
       "<table border=\"1\" class=\"dataframe\">\n",
       "  <thead>\n",
       "    <tr style=\"text-align: right;\">\n",
       "      <th></th>\n",
       "      <th>city</th>\n",
       "      <th>state</th>\n",
       "    </tr>\n",
       "  </thead>\n",
       "  <tbody>\n",
       "    <tr>\n",
       "      <th>0</th>\n",
       "      <td>los angeles</td>\n",
       "      <td>CA</td>\n",
       "    </tr>\n",
       "    <tr>\n",
       "      <th>1</th>\n",
       "      <td>los angeles</td>\n",
       "      <td>CA</td>\n",
       "    </tr>\n",
       "    <tr>\n",
       "      <th>2</th>\n",
       "      <td>los angeles</td>\n",
       "      <td>CA</td>\n",
       "    </tr>\n",
       "    <tr>\n",
       "      <th>3</th>\n",
       "      <td>los angeles</td>\n",
       "      <td>CA</td>\n",
       "    </tr>\n",
       "    <tr>\n",
       "      <th>4</th>\n",
       "      <td>los angeles</td>\n",
       "      <td>CA</td>\n",
       "    </tr>\n",
       "    <tr>\n",
       "      <th>...</th>\n",
       "      <td>...</td>\n",
       "      <td>...</td>\n",
       "    </tr>\n",
       "    <tr>\n",
       "      <th>723</th>\n",
       "      <td>new york</td>\n",
       "      <td>NY</td>\n",
       "    </tr>\n",
       "    <tr>\n",
       "      <th>724</th>\n",
       "      <td>new york</td>\n",
       "      <td>NY</td>\n",
       "    </tr>\n",
       "    <tr>\n",
       "      <th>725</th>\n",
       "      <td>new york</td>\n",
       "      <td>NY</td>\n",
       "    </tr>\n",
       "    <tr>\n",
       "      <th>726</th>\n",
       "      <td>new york</td>\n",
       "      <td>NY</td>\n",
       "    </tr>\n",
       "    <tr>\n",
       "      <th>727</th>\n",
       "      <td>new york</td>\n",
       "      <td>NY</td>\n",
       "    </tr>\n",
       "  </tbody>\n",
       "</table>\n",
       "<p>1456 rows × 2 columns</p>\n",
       "</div>"
      ],
      "text/plain": [
       "            city state\n",
       "0    los angeles    CA\n",
       "1    los angeles    CA\n",
       "2    los angeles    CA\n",
       "3    los angeles    CA\n",
       "4    los angeles    CA\n",
       "..           ...   ...\n",
       "723     new york    NY\n",
       "724     new york    NY\n",
       "725     new york    NY\n",
       "726     new york    NY\n",
       "727     new york    NY\n",
       "\n",
       "[1456 rows x 2 columns]"
      ]
     },
     "execution_count": 6,
     "metadata": {},
     "output_type": "execute_result"
    }
   ],
   "source": [
    "def has_multiple_readings_at_least(df):\n",
    "    return df.loc[(df[\"precipMM\"] > 15), [\"precipMM\"]].count() > 3\n",
    "\n",
    "\n",
    "df.groupby([\"city\", \"state\"]).filter(has_multiple_readings_at_least)[[\"city\", \"state\"]]"
   ]
  },
  {
   "cell_type": "markdown",
   "metadata": {},
   "source": [
    "The way filter on a DataFrameGroupBy object works, the check will be done with a function. The function will return True (indicating that the group passed the criteria) or False (indicating that it did not). Rows from groups that passed will be returned in the final data frame.\n",
    "\n",
    "Since we want to find the precipitation on a per-city basis, you might think that we should group by city name:\n",
    "`df.groupby('city')`\n",
    "\n",
    "However, we can’t do this, because there are two different cities with the name \"Springfield\"—both in Illinois and Massachusetts. For that reason, we’ll need to group not just by city, but also by state. We can do that, of course, by passing a list of columns to `groupby`, rather than just a single column:\n",
    "\n",
    "`df.groupby(['city', 'state'])`\n",
    "\n",
    "This gives us our groupby object, which we’ve previously used to apply aggregate functions on distinct subsets of our data. But here, we’re going to use the Groupby object in a different way, to include and exclude rows from df based on properties of their city and state. That is, I want to filter out rows, but I want to do it by group—such that for each group, all of the rows are included or excluded. (You can think of this as the collective punishment feature of pandas.)\n",
    "\n",
    "We do this by calling filter on our GroupBy object. Whereas filter on a data frame works on a row-by-row basis, filter on a GroupBy works on a group-by-group basis. The argument to filter is a function, one which expects to get a data frame as its argument. The function will be called once for each group in the GroupBy, and the data frame passed to it will be a subset of the original data frame, containing only those rows in the current group.\n",
    "\n",
    "The function passed to filter should return True or False. If the function returns True, then the rows from this sub-frame will be kept. If the function returns False, then the rows from this sub-frame will not be included. Because its argument is a data frame with all of the rows in the current group, filter can perform all sorts of calculations in determining whether to return True or False.\n",
    "\n",
    "In our case, we want to preserve rows from cities that had 15 mm of precipitation on at least three occasions. Our function will thus need to determine whether the sub-frame it is passed contains at least three such rows. "
   ]
  },
  {
   "cell_type": "code",
   "execution_count": 7,
   "metadata": {},
   "outputs": [
    {
     "data": {
      "text/plain": [
       "MultiIndex([('los angeles', 'CA'),\n",
       "            (   'new york', 'NY')],\n",
       "           names=['city', 'state'])"
      ]
     },
     "execution_count": 7,
     "metadata": {},
     "output_type": "execute_result"
    }
   ],
   "source": [
    "def has_multiple_readings_at_least(df):\n",
    "    return df.loc[(df[\"precipMM\"] > 15), [\"precipMM\"]].count() > 3\n",
    "\n",
    "\n",
    "output = df.groupby([\"city\", \"state\"]).filter(has_multiple_readings_at_least)[[\"city\", \"state\"]]\n",
    "\n",
    "output.set_index([\"city\", \"state\"]).index.unique()"
   ]
  },
  {
   "cell_type": "markdown",
   "metadata": {},
   "source": [
    "This works, and gives us the answer we wanted—namely, that only New York and Los Angeles had three occasions on which at least 15 mm of precipitation fell. However, if you’ve been programming for any length of time, the has_multiple_readings_at_least function might have seemed a bit odd. Do we really want to hard-code the values of 15 mm and 3 times into the function? It might make more sense to write a more generic function, one which can take additional arguments.\n",
    "\n",
    "But how can we do that? After all, we’re not calling has_multiple_readings_at_least directly. Rather, we’re passing it to the filter method, which calls the function on our behalf. And there isn’t an obvious way for us to pass arguments to our function when it’s being invoked via filter.\n",
    "\n",
    "Here, pandas does something clever: Any additional arguments passed to filter are passed along to our function. This is done using the standard Python constructs of *args and **kwargs, for arbitrary positional and keyword arguments. This works, and gives us the answer we wanted—namely, that only New York and Los Angeles had three occasions on which at least 15 mm of precipitation fell. However, if you’ve been programming for any length of time, the has_multiple_readings_at_least function might have seemed a bit odd. Do we really want to hard-code the values of 15 mm and 3 times into the function? It might make more sense to write a more generic function, one which can take additional arguments.\n",
    "\n",
    "But how can we do that? After all, we’re not calling has_multiple_readings_at_least directly. Rather, we’re passing it to the filter method, which calls the function on our behalf. And there isn’t an obvious way for us to pass arguments to our function when it’s being invoked via filter.\n",
    "\n",
    "Here, pandas does something clever: Any additional arguments passed to filter are passed along to our function. This is done using the standard Python constructs of *args and **kwargs, for arbitrary positional and keyword arguments. This works, and gives us the answer we wanted—namely, that only New York and Los Angeles had three occasions on which at least 15 mm of precipitation fell. However, if you’ve been programming for any length of time, the has_multiple_readings_at_least function might have seemed a bit odd. Do we really want to hard-code the values of 15 mm and 3 times into the function? It might make more sense to write a more generic function, one which can take additional arguments.\n",
    "\n",
    "But how can we do that? After all, we’re not calling has_multiple_readings_at_least directly. Rather, we’re passing it to the filter method, which calls the function on our behalf. And there isn’t an obvious way for us to pass arguments to our function when it’s being invoked via filter.\n",
    "\n",
    "Here, pandas does something clever: Any additional arguments passed to filter are passed along to our function. This is done using the standard Python constructs of *args and **kwargs, for arbitrary positional and keyword arguments. "
   ]
  },
  {
   "cell_type": "markdown",
   "metadata": {},
   "source": [
    "> We can thus rewrite the function as"
   ]
  },
  {
   "cell_type": "code",
   "execution_count": 8,
   "metadata": {},
   "outputs": [],
   "source": [
    "def has_multiple_readings_at_least(df, min_mm, times):\n",
    "    return df.loc[(df[\"precipMM\"] > min_mm), [\"precipMM\"]].count() > times\n"
   ]
  },
  {
   "cell_type": "markdown",
   "metadata": {},
   "source": [
    "Now it looks more like a regular Python function, taking three arguments. The first will still be the sub-frame that was passed before, containing all of the rows in the current group. But the second two arguments will be assigned values based on either the additional positional arguments passed to filter or the additional keyword arguments:"
   ]
  },
  {
   "cell_type": "code",
   "execution_count": 9,
   "metadata": {},
   "outputs": [
    {
     "data": {
      "text/plain": [
       "MultiIndex([(       'albany', 'NY'),\n",
       "            (       'boston', 'MA'),\n",
       "            (  'los angeles', 'CA'),\n",
       "            (     'new york', 'NY'),\n",
       "            ('san francisco', 'CA')],\n",
       "           names=['city', 'state'])"
      ]
     },
     "execution_count": 9,
     "metadata": {},
     "output_type": "execute_result"
    }
   ],
   "source": [
    "output = df.groupby(['city', 'state']).filter(\n",
    "    has_multiple_readings_at_least,\n",
    "    min_mm=10, times=3)[['city', 'state', 'precipMM']]\n",
    "\n",
    "output.set_index(['city', 'state']).index.unique()"
   ]
  },
  {
   "cell_type": "markdown",
   "metadata": {},
   "source": [
    "In the above code, you can see that we’re calling filter, and passing it our function, has_multiple_readings_at_least. In theory, we could then pass values for min_mm and times as positional arguments. But if we do that, we’ll also have to pass a second positional argument to filter, called dropna. Rather than calling filter(func, True, 10, 3), I decided to call filter(func, min_mm=10, times=3). This is an aesthetic choice, rather than a technical one, but I think it makes sense in this case"
   ]
  },
  {
   "cell_type": "markdown",
   "metadata": {},
   "source": [
    "#### Transform"
   ]
  },
  {
   "cell_type": "markdown",
   "metadata": {},
   "source": [
    "The next part of this exercise asked you to find the proportion of that city’s precipitation that fell with each measurement. If our data frame contains two precipitation measurements for a given city, and we see that 3 mm fell on the first day, while 7 mm fell on the second day, I’d want to find that 30% fell in the first measurement, and 70% fell in the second.\n",
    "\n",
    "In other words, we’re going to calculate one value for each row. But the value we calculate for each row will depend on an aggregate calculation for the row’s group. It’s precisely for these situations that pandas provides us with a Groupby transform method. Similar to what we did with filter, we’ll pass a function as the first argument to transform. This function will be invoked once per group, and the function will be passed a series—the column that we want to transform. The function must then return a series, of the same length and with the same index, as its argument.\n",
    "\n",
    "Let’s assume that we have a series of numbers, each representing one measurement of precipitation. What function could I write that would return a new series, one with the same length and index as the original, but whose values would indicate the proportion of the whole? It might look like this:"
   ]
  },
  {
   "cell_type": "code",
   "execution_count": 11,
   "metadata": {},
   "outputs": [],
   "source": [
    "def proportion_of_city_prep(s):\n",
    "    return s/s.sum()"
   ]
  },
  {
   "cell_type": "markdown",
   "metadata": {},
   "source": [
    "Our function takes a series `s` as input, and then returns the result of dividing each row by the sum total of all rows. This is how we would do it if all of the values were from the same city. How can we do it, then, if we have many different cities? That’s part of the magic—the `groupby` transform method takes care of that for us. The rows from each group are passed, one at a time, to the function proportion_of_city_precip. The return value is then a series in which the parallel rows from the input series have their new values. We can assign the resulting series back to the column from which it was transformed, add a new column to a data frame, or just save the transformed column.\n",
    "\n",
    "The difference between the standard transform method and Groupby’s transform is that in the latter, we have access to the entire series, and can thus make calculations using aggregation functions.\n",
    "\n",
    "Here’s how we would use our proportion_of_city_precip function along with Groupby’s transform:"
   ]
  },
  {
   "cell_type": "code",
   "execution_count": 14,
   "metadata": {},
   "outputs": [
    {
     "data": {
      "text/html": [
       "<div>\n",
       "<style scoped>\n",
       "    .dataframe tbody tr th:only-of-type {\n",
       "        vertical-align: middle;\n",
       "    }\n",
       "\n",
       "    .dataframe tbody tr th {\n",
       "        vertical-align: top;\n",
       "    }\n",
       "\n",
       "    .dataframe thead th {\n",
       "        text-align: right;\n",
       "    }\n",
       "</style>\n",
       "<table border=\"1\" class=\"dataframe\">\n",
       "  <thead>\n",
       "    <tr style=\"text-align: right;\">\n",
       "      <th></th>\n",
       "      <th>max_temp</th>\n",
       "      <th>min_temp</th>\n",
       "      <th>precipMM</th>\n",
       "      <th>city</th>\n",
       "      <th>state</th>\n",
       "      <th>precip_pct</th>\n",
       "    </tr>\n",
       "  </thead>\n",
       "  <tbody>\n",
       "    <tr>\n",
       "      <th>0</th>\n",
       "      <td>-2</td>\n",
       "      <td>-8</td>\n",
       "      <td>0.0</td>\n",
       "      <td>albany</td>\n",
       "      <td>NY</td>\n",
       "      <td>0.000000</td>\n",
       "    </tr>\n",
       "    <tr>\n",
       "      <th>1</th>\n",
       "      <td>-2</td>\n",
       "      <td>-8</td>\n",
       "      <td>0.0</td>\n",
       "      <td>albany</td>\n",
       "      <td>NY</td>\n",
       "      <td>0.000000</td>\n",
       "    </tr>\n",
       "    <tr>\n",
       "      <th>2</th>\n",
       "      <td>-2</td>\n",
       "      <td>-8</td>\n",
       "      <td>0.0</td>\n",
       "      <td>albany</td>\n",
       "      <td>NY</td>\n",
       "      <td>0.000000</td>\n",
       "    </tr>\n",
       "    <tr>\n",
       "      <th>3</th>\n",
       "      <td>-2</td>\n",
       "      <td>-8</td>\n",
       "      <td>0.0</td>\n",
       "      <td>albany</td>\n",
       "      <td>NY</td>\n",
       "      <td>0.000000</td>\n",
       "    </tr>\n",
       "    <tr>\n",
       "      <th>4</th>\n",
       "      <td>-2</td>\n",
       "      <td>-8</td>\n",
       "      <td>0.0</td>\n",
       "      <td>albany</td>\n",
       "      <td>NY</td>\n",
       "      <td>0.000000</td>\n",
       "    </tr>\n",
       "    <tr>\n",
       "      <th>5</th>\n",
       "      <td>-2</td>\n",
       "      <td>-8</td>\n",
       "      <td>0.0</td>\n",
       "      <td>albany</td>\n",
       "      <td>NY</td>\n",
       "      <td>0.000000</td>\n",
       "    </tr>\n",
       "    <tr>\n",
       "      <th>6</th>\n",
       "      <td>-2</td>\n",
       "      <td>-8</td>\n",
       "      <td>0.0</td>\n",
       "      <td>albany</td>\n",
       "      <td>NY</td>\n",
       "      <td>0.000000</td>\n",
       "    </tr>\n",
       "    <tr>\n",
       "      <th>7</th>\n",
       "      <td>-2</td>\n",
       "      <td>-8</td>\n",
       "      <td>0.0</td>\n",
       "      <td>albany</td>\n",
       "      <td>NY</td>\n",
       "      <td>0.000000</td>\n",
       "    </tr>\n",
       "    <tr>\n",
       "      <th>8</th>\n",
       "      <td>0</td>\n",
       "      <td>-5</td>\n",
       "      <td>0.0</td>\n",
       "      <td>albany</td>\n",
       "      <td>NY</td>\n",
       "      <td>0.000000</td>\n",
       "    </tr>\n",
       "    <tr>\n",
       "      <th>9</th>\n",
       "      <td>0</td>\n",
       "      <td>-5</td>\n",
       "      <td>0.1</td>\n",
       "      <td>albany</td>\n",
       "      <td>NY</td>\n",
       "      <td>0.000223</td>\n",
       "    </tr>\n",
       "  </tbody>\n",
       "</table>\n",
       "</div>"
      ],
      "text/plain": [
       "   max_temp  min_temp  precipMM    city state  precip_pct\n",
       "0        -2        -8       0.0  albany    NY    0.000000\n",
       "1        -2        -8       0.0  albany    NY    0.000000\n",
       "2        -2        -8       0.0  albany    NY    0.000000\n",
       "3        -2        -8       0.0  albany    NY    0.000000\n",
       "4        -2        -8       0.0  albany    NY    0.000000\n",
       "5        -2        -8       0.0  albany    NY    0.000000\n",
       "6        -2        -8       0.0  albany    NY    0.000000\n",
       "7        -2        -8       0.0  albany    NY    0.000000\n",
       "8         0        -5       0.0  albany    NY    0.000000\n",
       "9         0        -5       0.1  albany    NY    0.000223"
      ]
     },
     "execution_count": 14,
     "metadata": {},
     "output_type": "execute_result"
    }
   ],
   "source": [
    "df[\"precip_pct\"] = df.groupby(\"city\")[\"precipMM\"].transform(proportion_of_city_prep)\n",
    "\n",
    "df.head(10)"
   ]
  },
  {
   "cell_type": "code",
   "execution_count": 15,
   "metadata": {},
   "outputs": [
    {
     "data": {
      "text/plain": [
       "city           state\n",
       "albany         NY       0.029228\n",
       "boston         MA       0.048302\n",
       "chicago        IL       0.057257\n",
       "los angeles    CA       0.059242\n",
       "new york       NY       0.055149\n",
       "san francisco  CA       0.056509\n",
       "springfield    IL       0.030977\n",
       "               MA       0.023459\n",
       "Name: precip_pct, dtype: float64"
      ]
     },
     "execution_count": 15,
     "metadata": {},
     "output_type": "execute_result"
    }
   ],
   "source": [
    "df.groupby([\"city\", \"state\"])[\"precip_pct\"].max()"
   ]
  },
  {
   "cell_type": "markdown",
   "metadata": {},
   "source": [
    "### Wine Scores and Tourism Spending\n",
    "\n"
   ]
  },
  {
   "cell_type": "code",
   "execution_count": 16,
   "metadata": {},
   "outputs": [
    {
     "data": {
      "text/plain": [
       "LOCATION\n",
       "AUS     37634.433333\n",
       "AUT     16673.886364\n",
       "BEL     16525.237545\n",
       "BGR      2953.091583\n",
       "BRA     13942.913958\n",
       "CAN     32593.612500\n",
       "CHE     16128.504167\n",
       "CHL      2786.516667\n",
       "CHN    103385.856917\n",
       "COL      4580.304167\n",
       "CRI      2020.587500\n",
       "CZE      6404.100409\n",
       "DEU     75011.823091\n",
       "DNK     10362.563636\n",
       "EGY      6526.425792\n",
       "ESP     45628.886318\n",
       "EST      1485.284636\n",
       "FIN      5288.658591\n",
       "FRA     58228.804000\n",
       "GBR     63507.159091\n",
       "GRC     10197.792909\n",
       "HRV      5201.199042\n",
       "HUN      5108.871591\n",
       "IDN     10771.700833\n",
       "IND     18828.668583\n",
       "IRL      8782.930591\n",
       "ISL      1735.093545\n",
       "ISR      6634.454042\n",
       "ITA     39539.560000\n",
       "JPN     28606.891667\n",
       "KAZ      2293.282708\n",
       "KOR     21677.131818\n",
       "LTU      1308.044444\n",
       "LUX      4238.920682\n",
       "LVA      1067.290909\n",
       "MAR      5491.630625\n",
       "MEX     14016.690909\n",
       "MLT       997.735458\n",
       "NLD     21160.718182\n",
       "NOR     10428.327273\n",
       "NZL      7146.183333\n",
       "PER      2916.227625\n",
       "PHL      7435.858042\n",
       "POL     10718.590773\n",
       "PRT     10754.012045\n",
       "ROU      2733.599042\n",
       "RUS     27854.359091\n",
       "SRB      1376.235542\n",
       "SVK      2577.970227\n",
       "SVN      2246.260273\n",
       "SWE     15113.666591\n",
       "TUR     18380.177273\n",
       "USA    171847.083333\n",
       "ZAF      8196.644583\n",
       "Name: Value, dtype: float64"
      ]
     },
     "execution_count": 16,
     "metadata": {},
     "output_type": "execute_result"
    }
   ],
   "source": [
    "oecd_df = pd.read_csv(\"data/oecd_locations.csv\", header = None, names = [\"abbrev\", \"country\"], index_col = \"abbrev\")\n",
    "\n",
    "\n",
    "oecd_tourism_df = pd.read_csv(\"data/oecd_tourism.csv\", usecols = [\"LOCATION\", \"TIME\", \"Value\"], index_col = \"LOCATION\")\n",
    "\n",
    "# Tourist Spending per country\n",
    "oecd_tourism_df.groupby(\"LOCATION\")[\"Value\"].mean()"
   ]
  },
  {
   "cell_type": "markdown",
   "metadata": {},
   "source": [
    "The above code says that we want to get the mean of the Value column for each distinct LOCATION. (Notice that even though LOCATION is now the index of this data frame, we can still use it for grouping.) However, we don’t want LOCATION, containing the country abbreviations. Rather, we want to use the country names, which are in oecd_df.\n",
    "\n",
    "We’ll thus need to join these two data frames together. Both use the abbreviations as an index, which makes this possible. (It doesn’t matter that the columns have different names; joining typically works on the data frames' indexes.) When we join, we basically say that we want to create a new, wider data frame containing all of the columns from the first and all of the columns of the second, with the indexes overlapping. So the resulting data frame will have a total of four columns: An index containing the location abbreviations, as before, a country column (from oecd_df), and TIME and Value columns (from oecd_tourism_df). The left and right sides will be joined together wherever the index of oecd_df matches the index of oecd_tourism_df, which means that it’s not a problem to have repeated values in the indexes of one or both data frames."
   ]
  },
  {
   "cell_type": "code",
   "execution_count": 19,
   "metadata": {},
   "outputs": [],
   "source": [
    "# Join the 2 dataframes\n",
    "tourism_spending = oecd_df.join(oecd_tourism_df).groupby(\"country\")[\"Value\"].mean()"
   ]
  },
  {
   "cell_type": "markdown",
   "metadata": {},
   "source": [
    "In this way, we’ve again calculated and retrieved the mean tourism spending, per country, over all years in the data set. But the result that we get back uses the full country names, rather than the abbreviations. Moreover, because the result has an index (country names) and a single value column, it’s returned to us as a series, rather than as a data frame. I asked you to assign the resulting series to a variable, tourism_spending, for easier manipulation later on:"
   ]
  },
  {
   "cell_type": "code",
   "execution_count": 22,
   "metadata": {},
   "outputs": [],
   "source": [
    "wine_df = pd.read_csv(\"data/winemag-150k-reviews.csv\", usecols = [\"country\", \"points\"])\n",
    "\n",
    "\n",
    "\n",
    "country_points = wine_df.groupby(\"country\")[\"points\"].mean().sort_values(ascending = False)"
   ]
  },
  {
   "cell_type": "markdown",
   "metadata": {},
   "source": [
    "We get back a new series showing which countries had the highest average wine scores, and which had the lowest.\n",
    "\n",
    "But now we come to the climax of this exercise: I want to join together the wine scores and the tourism spending. How can I do that?\n",
    "\n",
    "Well, it makes sense that I’d want to use join again, with country_points on the left (i.e., as the data frame on which we invoke join) and with tourism_spending on the right (i.e., as the data frame passed as an argument to join). There’s just one problem with this, namely that country_points is a series, and you can only invoke join on a data frame. (You can pass a series as the argument to join, though—so a series can be the right side, but not the left side, of a pandas join.)\n",
    "\n",
    "Fortunately, we can call the `to_frame` method on our series, and get back a single-column data frame with the same index as we had in the series:"
   ]
  },
  {
   "cell_type": "code",
   "execution_count": 25,
   "metadata": {},
   "outputs": [
    {
     "data": {
      "text/html": [
       "<div>\n",
       "<style scoped>\n",
       "    .dataframe tbody tr th:only-of-type {\n",
       "        vertical-align: middle;\n",
       "    }\n",
       "\n",
       "    .dataframe tbody tr th {\n",
       "        vertical-align: top;\n",
       "    }\n",
       "\n",
       "    .dataframe thead th {\n",
       "        text-align: right;\n",
       "    }\n",
       "</style>\n",
       "<table border=\"1\" class=\"dataframe\">\n",
       "  <thead>\n",
       "    <tr style=\"text-align: right;\">\n",
       "      <th></th>\n",
       "      <th>points</th>\n",
       "      <th>Value</th>\n",
       "    </tr>\n",
       "    <tr>\n",
       "      <th>country</th>\n",
       "      <th></th>\n",
       "      <th></th>\n",
       "    </tr>\n",
       "  </thead>\n",
       "  <tbody>\n",
       "    <tr>\n",
       "      <th>Albania</th>\n",
       "      <td>88.000000</td>\n",
       "      <td>NaN</td>\n",
       "    </tr>\n",
       "    <tr>\n",
       "      <th>Argentina</th>\n",
       "      <td>85.996093</td>\n",
       "      <td>NaN</td>\n",
       "    </tr>\n",
       "    <tr>\n",
       "      <th>Australia</th>\n",
       "      <td>87.892475</td>\n",
       "      <td>37634.433333</td>\n",
       "    </tr>\n",
       "    <tr>\n",
       "      <th>Austria</th>\n",
       "      <td>89.276742</td>\n",
       "      <td>16673.886364</td>\n",
       "    </tr>\n",
       "    <tr>\n",
       "      <th>Belgium</th>\n",
       "      <td>NaN</td>\n",
       "      <td>16525.237545</td>\n",
       "    </tr>\n",
       "    <tr>\n",
       "      <th>Bosnia and Herzegovina</th>\n",
       "      <td>84.750000</td>\n",
       "      <td>NaN</td>\n",
       "    </tr>\n",
       "    <tr>\n",
       "      <th>Brazil</th>\n",
       "      <td>83.240000</td>\n",
       "      <td>13942.913958</td>\n",
       "    </tr>\n",
       "    <tr>\n",
       "      <th>Bulgaria</th>\n",
       "      <td>85.467532</td>\n",
       "      <td>NaN</td>\n",
       "    </tr>\n",
       "    <tr>\n",
       "      <th>Canada</th>\n",
       "      <td>88.239796</td>\n",
       "      <td>32593.612500</td>\n",
       "    </tr>\n",
       "    <tr>\n",
       "      <th>Chile</th>\n",
       "      <td>86.296768</td>\n",
       "      <td>NaN</td>\n",
       "    </tr>\n",
       "    <tr>\n",
       "      <th>China</th>\n",
       "      <td>82.000000</td>\n",
       "      <td>NaN</td>\n",
       "    </tr>\n",
       "    <tr>\n",
       "      <th>Croatia</th>\n",
       "      <td>86.280899</td>\n",
       "      <td>NaN</td>\n",
       "    </tr>\n",
       "    <tr>\n",
       "      <th>Cyprus</th>\n",
       "      <td>85.870968</td>\n",
       "      <td>NaN</td>\n",
       "    </tr>\n",
       "    <tr>\n",
       "      <th>Czech Republic</th>\n",
       "      <td>85.833333</td>\n",
       "      <td>NaN</td>\n",
       "    </tr>\n",
       "    <tr>\n",
       "      <th>Denmark</th>\n",
       "      <td>NaN</td>\n",
       "      <td>10362.563636</td>\n",
       "    </tr>\n",
       "    <tr>\n",
       "      <th>Egypt</th>\n",
       "      <td>83.666667</td>\n",
       "      <td>NaN</td>\n",
       "    </tr>\n",
       "    <tr>\n",
       "      <th>England</th>\n",
       "      <td>92.888889</td>\n",
       "      <td>NaN</td>\n",
       "    </tr>\n",
       "    <tr>\n",
       "      <th>Finland</th>\n",
       "      <td>NaN</td>\n",
       "      <td>5288.658591</td>\n",
       "    </tr>\n",
       "    <tr>\n",
       "      <th>France</th>\n",
       "      <td>88.925870</td>\n",
       "      <td>58228.804000</td>\n",
       "    </tr>\n",
       "    <tr>\n",
       "      <th>Georgia</th>\n",
       "      <td>85.511628</td>\n",
       "      <td>NaN</td>\n",
       "    </tr>\n",
       "    <tr>\n",
       "      <th>Germany</th>\n",
       "      <td>88.626427</td>\n",
       "      <td>75011.823091</td>\n",
       "    </tr>\n",
       "    <tr>\n",
       "      <th>Greece</th>\n",
       "      <td>86.117647</td>\n",
       "      <td>NaN</td>\n",
       "    </tr>\n",
       "    <tr>\n",
       "      <th>Hungary</th>\n",
       "      <td>87.329004</td>\n",
       "      <td>5108.871591</td>\n",
       "    </tr>\n",
       "    <tr>\n",
       "      <th>India</th>\n",
       "      <td>87.625000</td>\n",
       "      <td>NaN</td>\n",
       "    </tr>\n",
       "    <tr>\n",
       "      <th>Israel</th>\n",
       "      <td>87.176190</td>\n",
       "      <td>6634.454042</td>\n",
       "    </tr>\n",
       "    <tr>\n",
       "      <th>Italy</th>\n",
       "      <td>88.413664</td>\n",
       "      <td>39539.560000</td>\n",
       "    </tr>\n",
       "    <tr>\n",
       "      <th>Japan</th>\n",
       "      <td>85.000000</td>\n",
       "      <td>28606.891667</td>\n",
       "    </tr>\n",
       "    <tr>\n",
       "      <th>Korea</th>\n",
       "      <td>NaN</td>\n",
       "      <td>21677.131818</td>\n",
       "    </tr>\n",
       "    <tr>\n",
       "      <th>Lebanon</th>\n",
       "      <td>85.702703</td>\n",
       "      <td>NaN</td>\n",
       "    </tr>\n",
       "    <tr>\n",
       "      <th>Lithuania</th>\n",
       "      <td>84.250000</td>\n",
       "      <td>NaN</td>\n",
       "    </tr>\n",
       "    <tr>\n",
       "      <th>Luxembourg</th>\n",
       "      <td>87.000000</td>\n",
       "      <td>NaN</td>\n",
       "    </tr>\n",
       "    <tr>\n",
       "      <th>Macedonia</th>\n",
       "      <td>84.812500</td>\n",
       "      <td>NaN</td>\n",
       "    </tr>\n",
       "    <tr>\n",
       "      <th>Mexico</th>\n",
       "      <td>84.761905</td>\n",
       "      <td>NaN</td>\n",
       "    </tr>\n",
       "    <tr>\n",
       "      <th>Moldova</th>\n",
       "      <td>84.718310</td>\n",
       "      <td>NaN</td>\n",
       "    </tr>\n",
       "    <tr>\n",
       "      <th>Montenegro</th>\n",
       "      <td>82.000000</td>\n",
       "      <td>NaN</td>\n",
       "    </tr>\n",
       "    <tr>\n",
       "      <th>Morocco</th>\n",
       "      <td>88.166667</td>\n",
       "      <td>NaN</td>\n",
       "    </tr>\n",
       "    <tr>\n",
       "      <th>New Zealand</th>\n",
       "      <td>87.554217</td>\n",
       "      <td>NaN</td>\n",
       "    </tr>\n",
       "    <tr>\n",
       "      <th>Portugal</th>\n",
       "      <td>88.057685</td>\n",
       "      <td>NaN</td>\n",
       "    </tr>\n",
       "    <tr>\n",
       "      <th>Romania</th>\n",
       "      <td>84.920863</td>\n",
       "      <td>NaN</td>\n",
       "    </tr>\n",
       "    <tr>\n",
       "      <th>Serbia</th>\n",
       "      <td>87.714286</td>\n",
       "      <td>NaN</td>\n",
       "    </tr>\n",
       "    <tr>\n",
       "      <th>Slovakia</th>\n",
       "      <td>83.666667</td>\n",
       "      <td>NaN</td>\n",
       "    </tr>\n",
       "    <tr>\n",
       "      <th>Slovenia</th>\n",
       "      <td>88.234043</td>\n",
       "      <td>NaN</td>\n",
       "    </tr>\n",
       "    <tr>\n",
       "      <th>South Africa</th>\n",
       "      <td>87.225421</td>\n",
       "      <td>NaN</td>\n",
       "    </tr>\n",
       "    <tr>\n",
       "      <th>South Korea</th>\n",
       "      <td>81.500000</td>\n",
       "      <td>NaN</td>\n",
       "    </tr>\n",
       "    <tr>\n",
       "      <th>Spain</th>\n",
       "      <td>86.646589</td>\n",
       "      <td>NaN</td>\n",
       "    </tr>\n",
       "    <tr>\n",
       "      <th>Switzerland</th>\n",
       "      <td>87.250000</td>\n",
       "      <td>NaN</td>\n",
       "    </tr>\n",
       "    <tr>\n",
       "      <th>Tunisia</th>\n",
       "      <td>86.000000</td>\n",
       "      <td>NaN</td>\n",
       "    </tr>\n",
       "    <tr>\n",
       "      <th>Turkey</th>\n",
       "      <td>88.096154</td>\n",
       "      <td>NaN</td>\n",
       "    </tr>\n",
       "    <tr>\n",
       "      <th>US</th>\n",
       "      <td>87.818789</td>\n",
       "      <td>NaN</td>\n",
       "    </tr>\n",
       "    <tr>\n",
       "      <th>US-France</th>\n",
       "      <td>88.000000</td>\n",
       "      <td>NaN</td>\n",
       "    </tr>\n",
       "    <tr>\n",
       "      <th>Ukraine</th>\n",
       "      <td>84.600000</td>\n",
       "      <td>NaN</td>\n",
       "    </tr>\n",
       "    <tr>\n",
       "      <th>United Kingdom</th>\n",
       "      <td>NaN</td>\n",
       "      <td>63507.159091</td>\n",
       "    </tr>\n",
       "    <tr>\n",
       "      <th>United States</th>\n",
       "      <td>NaN</td>\n",
       "      <td>171847.083333</td>\n",
       "    </tr>\n",
       "    <tr>\n",
       "      <th>Uruguay</th>\n",
       "      <td>84.478261</td>\n",
       "      <td>NaN</td>\n",
       "    </tr>\n",
       "  </tbody>\n",
       "</table>\n",
       "</div>"
      ],
      "text/plain": [
       "                           points          Value\n",
       "country                                         \n",
       "Albania                 88.000000            NaN\n",
       "Argentina               85.996093            NaN\n",
       "Australia               87.892475   37634.433333\n",
       "Austria                 89.276742   16673.886364\n",
       "Belgium                       NaN   16525.237545\n",
       "Bosnia and Herzegovina  84.750000            NaN\n",
       "Brazil                  83.240000   13942.913958\n",
       "Bulgaria                85.467532            NaN\n",
       "Canada                  88.239796   32593.612500\n",
       "Chile                   86.296768            NaN\n",
       "China                   82.000000            NaN\n",
       "Croatia                 86.280899            NaN\n",
       "Cyprus                  85.870968            NaN\n",
       "Czech Republic          85.833333            NaN\n",
       "Denmark                       NaN   10362.563636\n",
       "Egypt                   83.666667            NaN\n",
       "England                 92.888889            NaN\n",
       "Finland                       NaN    5288.658591\n",
       "France                  88.925870   58228.804000\n",
       "Georgia                 85.511628            NaN\n",
       "Germany                 88.626427   75011.823091\n",
       "Greece                  86.117647            NaN\n",
       "Hungary                 87.329004    5108.871591\n",
       "India                   87.625000            NaN\n",
       "Israel                  87.176190    6634.454042\n",
       "Italy                   88.413664   39539.560000\n",
       "Japan                   85.000000   28606.891667\n",
       "Korea                         NaN   21677.131818\n",
       "Lebanon                 85.702703            NaN\n",
       "Lithuania               84.250000            NaN\n",
       "Luxembourg              87.000000            NaN\n",
       "Macedonia               84.812500            NaN\n",
       "Mexico                  84.761905            NaN\n",
       "Moldova                 84.718310            NaN\n",
       "Montenegro              82.000000            NaN\n",
       "Morocco                 88.166667            NaN\n",
       "New Zealand             87.554217            NaN\n",
       "Portugal                88.057685            NaN\n",
       "Romania                 84.920863            NaN\n",
       "Serbia                  87.714286            NaN\n",
       "Slovakia                83.666667            NaN\n",
       "Slovenia                88.234043            NaN\n",
       "South Africa            87.225421            NaN\n",
       "South Korea             81.500000            NaN\n",
       "Spain                   86.646589            NaN\n",
       "Switzerland             87.250000            NaN\n",
       "Tunisia                 86.000000            NaN\n",
       "Turkey                  88.096154            NaN\n",
       "US                      87.818789            NaN\n",
       "US-France               88.000000            NaN\n",
       "Ukraine                 84.600000            NaN\n",
       "United Kingdom                NaN   63507.159091\n",
       "United States                 NaN  171847.083333\n",
       "Uruguay                 84.478261            NaN"
      ]
     },
     "execution_count": 25,
     "metadata": {},
     "output_type": "execute_result"
    }
   ],
   "source": [
    "country_points.to_frame().join(tourism_spending, how = \"outer\")"
   ]
  },
  {
   "cell_type": "markdown",
   "metadata": {},
   "source": [
    "Once again, it’s important to remember that a join links the left data frame with the right one, connecting them along their indexes. In this case, we’ll end up with three columns: country, the index column that is shared by the left and right, points from the left, and Value from the right"
   ]
  },
  {
   "cell_type": "code",
   "execution_count": null,
   "metadata": {},
   "outputs": [],
   "source": []
  }
 ],
 "metadata": {
  "interpreter": {
   "hash": "f86afb142bb23b6fd74d662308d82ebd3b7a4b66807793e5760ad098afc030e9"
  },
  "kernelspec": {
   "display_name": "Python 3.9.7 ('pandas_workout_env')",
   "language": "python",
   "name": "python3"
  },
  "language_info": {
   "codemirror_mode": {
    "name": "ipython",
    "version": 3
   },
   "file_extension": ".py",
   "mimetype": "text/x-python",
   "name": "python",
   "nbconvert_exporter": "python",
   "pygments_lexer": "ipython3",
   "version": "3.9.7"
  },
  "orig_nbformat": 4
 },
 "nbformat": 4,
 "nbformat_minor": 2
}
