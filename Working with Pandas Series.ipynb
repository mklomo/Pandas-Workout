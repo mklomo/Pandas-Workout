{
 "cells": [
  {
   "cell_type": "markdown",
   "metadata": {},
   "source": [
    "### Series\n",
    "\n",
    "Create a series of 10 elements, random integers from 70-100, representing scores on a monthly exam. \n",
    "\n",
    "Set the index to be the month names, starting in September and ending in June. (If these\n",
    "months don’t match the school year in your location, then feel free to make them more realistic.) With this series, answer the following questions:\n",
    "\n",
    "- What is the student’s average test score for the entire year?\n",
    "- What is the student’s average test score during the first half of the year (i.e., the first five\n",
    "months)?\n",
    "- What is the student’s average test score during the second half of the year?\n",
    "- Did the student improve their performance in the second half? If so, then by how much?"
   ]
  },
  {
   "cell_type": "code",
   "execution_count": null,
   "metadata": {},
   "outputs": [],
   "source": [
    "import pandas as pd\n",
    "import numpy as np"
   ]
  },
  {
   "cell_type": "code",
   "execution_count": 5,
   "metadata": {},
   "outputs": [
    {
     "name": "stdout",
     "output_type": "stream",
     "text": [
      "Yearly Average --> 81.6\n",
      "First half average --> 80.2\n",
      "Second Half Average --> 83.0\n",
      "Improvement --> 2.80\n"
     ]
    }
   ],
   "source": [
    "np.random.seed(0)\n",
    "\n",
    "# Months List as index\n",
    "months = 'Sep Oct Nov Dec Jan Feb Mar Apr May Jun'.split()\n",
    "\n",
    "# Creating a Series of 10 elements \n",
    "scores = pd.Series(np.random.randint(70, 100, 10), index=months)\n",
    "\n",
    "print(f'Yearly Average --> {scores.mean()}')\n",
    "\n",
    "# First Half Average\n",
    "first_half_avg = scores['Sep':'Jan'].mean()\n",
    "\n",
    "# Second Half Average\n",
    "second_half_avg = scores['Feb':'Jun'].mean()\n",
    "\n",
    "print(f'First half average --> {first_half_avg}')\n",
    "print(f'Second Half Average --> {second_half_avg}')\n",
    "print(f'Improvement --> {second_half_avg - first_half_avg:.2f}')"
   ]
  },
  {
   "cell_type": "markdown",
   "metadata": {},
   "source": [
    "Retrieving both individual elements and slices from series is a critical skill when working with pandas.\n",
    " \n",
    "- In which month did this student get their highest score? Note that there are at least two ways to accomplish this: You can sort the values, taking the largest one, or you can use a boolean (\"mask\") index to find those rows that match the value of s.max(), the highest value.\n",
    "- What were this student’s five highest scores in the year?\n",
    "Round the student’s scores to the nearest 10. So a score of 82 would be rounded down to 80, but a score of 87 would be rounded up to 90."
   ]
  },
  {
   "cell_type": "code",
   "execution_count": 14,
   "metadata": {},
   "outputs": [
    {
     "name": "stdout",
     "output_type": "stream",
     "text": [
      "Heighest Score --> Jun    97\n",
      "dtype: int32\n"
     ]
    }
   ],
   "source": [
    "# Finding the month in which highest score occured using boolean filtering\n",
    "print(f'Heighest Score --> {scores[scores.sort_values(ascending=False) == scores.max()]}')"
   ]
  },
  {
   "cell_type": "code",
   "execution_count": 20,
   "metadata": {},
   "outputs": [
    {
     "data": {
      "text/plain": [
       "Jun    100\n",
       "May     90\n",
       "Apr     90\n",
       "Mar     80\n",
       "Feb     80\n",
       "dtype: int64"
      ]
     },
     "execution_count": 20,
     "metadata": {},
     "output_type": "execute_result"
    }
   ],
   "source": [
    "# Selecting the top 5 scores and rounding them\n",
    "def round_to_tenth(number):\n",
    "    return round(number, ndigits=-1)\n",
    "\n",
    "\n",
    "scores.sort_values(ascending=False)[0:5].apply(round_to_tenth)"
   ]
  },
  {
   "cell_type": "markdown",
   "metadata": {},
   "source": [
    "For this exercise, I want you to generate 10 test scores between 40 and 60, again using an index\n",
    "starting at Jan and ending with Dec. Find the mean of the scores, and add the difference\n",
    "between the mean and 85 to each of the scores."
   ]
  },
  {
   "cell_type": "code",
   "execution_count": 23,
   "metadata": {},
   "outputs": [
    {
     "data": {
      "text/plain": [
       "Jan    94.75\n",
       "Feb    94.75\n",
       "Mar    89.75\n",
       "Apr    82.75\n",
       "May    75.75\n",
       "dtype: float64"
      ]
     },
     "execution_count": 23,
     "metadata": {},
     "output_type": "execute_result"
    }
   ],
   "source": [
    "months = 'Jan Feb Mar Apr May Jun Jul Aug Sep Oct Nov Dec'.split()\n",
    "\n",
    "student_scores = pd.Series(np.random.randint(40, 60, 12), index=months)\n",
    "\n",
    "# Find the mean and and add difference b/n mean and 85 to the scores\n",
    "diff = 85 - student_scores.mean()\n",
    "\n",
    "new_student_scores = student_scores + diff\n",
    "\n",
    "new_student_scores.head()"
   ]
  },
  {
   "cell_type": "markdown",
   "metadata": {},
   "source": [
    "In this exercise, I want you to generate 10 random integers in the range 0 - 100. (Remember that\n",
    "the function returns numbers that include the lower bound, np.random.randint but exclude the\n",
    "upper bound.) Create a series containing those numbers' 10s digits. Thus, if our series contains\n",
    "10, 20, 30, we want a series with 1, 2, 3."
   ]
  },
  {
   "cell_type": "code",
   "execution_count": 27,
   "metadata": {},
   "outputs": [
    {
     "data": {
      "text/plain": [
       "0    8\n",
       "1    7\n",
       "2    6\n",
       "3    0\n",
       "4    6\n",
       "5    4\n",
       "6    0\n",
       "7    7\n",
       "8    5\n",
       "9    7\n",
       "dtype: int8"
      ]
     },
     "execution_count": 27,
     "metadata": {},
     "output_type": "execute_result"
    }
   ],
   "source": [
    "rand_series = pd.Series(np.random.randint(0, 100, 10))\n",
    "\n",
    "#Turn our series back into np.int8. \n",
    "# This has the result of removing \n",
    "# the fractional part of the number.\n",
    "(rand_series/10).astype(np.int8)"
   ]
  },
  {
   "cell_type": "code",
   "execution_count": 48,
   "metadata": {},
   "outputs": [
    {
     "data": {
      "text/plain": [
       "0    660.173537\n",
       "1    290.077607\n",
       "2    618.015429\n",
       "3    428.768701\n",
       "4    135.474064\n",
       "5    298.282326\n",
       "6    569.964911\n",
       "7    590.872761\n",
       "8    574.325249\n",
       "9    653.200820\n",
       "dtype: float64"
      ]
     },
     "execution_count": 48,
     "metadata": {},
     "output_type": "execute_result"
    }
   ],
   "source": [
    "# Create a new series, with 10 floating-point values between 0 and 1,000. Find the numbers\n",
    "# whose integer component (i.e., ignoring any fractional part) are even\n",
    "\n",
    "import math\n",
    "\n",
    "float_df = pd.Series(np.random.random(size=10) * 1000)\n",
    "\n",
    "float_df"
   ]
  },
  {
   "cell_type": "code",
   "execution_count": 51,
   "metadata": {},
   "outputs": [
    {
     "data": {
      "text/plain": [
       "0    660.173537\n",
       "1    290.077607\n",
       "2    618.015429\n",
       "3    428.768701\n",
       "5    298.282326\n",
       "7    590.872761\n",
       "8    574.325249\n",
       "dtype: float64"
      ]
     },
     "execution_count": 51,
     "metadata": {},
     "output_type": "execute_result"
    }
   ],
   "source": [
    "float_df[float_df.map(math.floor) % 2 == 0]\n",
    " "
   ]
  },
  {
   "cell_type": "markdown",
   "metadata": {},
   "source": [
    "### Working with Boolean Indexes\n",
    "\n",
    "In Python and other traditional programming languages, we can select elements from a sequence using a combination of for loops and if statements. \n",
    "\n",
    "While you could do that in pandas, you almost certainly don’t\n",
    "want to. Instead, you want to select items using a combination of techniques known as a \"boolean index\" or a \"mask index.\""
   ]
  },
  {
   "cell_type": "code",
   "execution_count": 28,
   "metadata": {},
   "outputs": [
    {
     "data": {
      "text/plain": [
       "40"
      ]
     },
     "execution_count": 28,
     "metadata": {},
     "output_type": "execute_result"
    }
   ],
   "source": [
    "new_series = pd.Series([10, 20, 30, 40, 50])\n",
    "\n",
    "# To retrieve '40' from this list, lets use the list index\n",
    "\n",
    "new_series[3]"
   ]
  },
  {
   "cell_type": "markdown",
   "metadata": {},
   "source": [
    "But instead of passing in a single integer, I can alse pass a list (or NumPy array or series) of boolean values.\n",
    "\n"
   ]
  },
  {
   "cell_type": "code",
   "execution_count": 29,
   "metadata": {},
   "outputs": [
    {
     "data": {
      "text/plain": [
       "3    40\n",
       "dtype: int64"
      ]
     },
     "execution_count": 29,
     "metadata": {},
     "output_type": "execute_result"
    }
   ],
   "source": [
    "new_series[[False, False, False, True, False]]"
   ]
  },
  {
   "cell_type": "markdown",
   "metadata": {},
   "source": [
    "Notice the double square brackets! The outer pair indicates we want to retrieve from s. The inner pair defines a Python list.\n",
    "Returns a series containing 10, 20, and 50.\n",
    "\n",
    "Notice that the list we used was of the same length as s, and that wherever we passed a True value, the value from s was returned. That’s why this is called a \"mask index,\" because we’re using the list of booleans as a type of sieve, or mask, to select only certain elements.\n",
    "\n",
    "\n",
    "An explicitly defined list of booleans isn’t very useful or common. But we can also use a series of booleans—and those are easy to create. All we need to do is use a comparison operator (e.g., ==) which returns a boolean value.\n",
    "Then we can broadcast the operation, and get a series back."
   ]
  },
  {
   "cell_type": "code",
   "execution_count": 37,
   "metadata": {},
   "outputs": [
    {
     "data": {
      "text/plain": [
       "pandas.core.series.Series"
      ]
     },
     "execution_count": 37,
     "metadata": {},
     "output_type": "execute_result"
    }
   ],
   "source": [
    "# Creating a series of booleans with a comparison operator\n",
    "\n",
    "new_series < 35"
   ]
  },
  {
   "cell_type": "code",
   "execution_count": 35,
   "metadata": {},
   "outputs": [
    {
     "data": {
      "text/plain": [
       "0    10\n",
       "1    20\n",
       "2    30\n",
       "dtype: int64"
      ]
     },
     "execution_count": 35,
     "metadata": {},
     "output_type": "execute_result"
    }
   ],
   "source": [
    "# Now you can filter by this list\n",
    "new_series[new_series < 35]"
   ]
  },
  {
   "cell_type": "code",
   "execution_count": 38,
   "metadata": {},
   "outputs": [
    {
     "data": {
      "text/plain": [
       "0    10\n",
       "1    20\n",
       "2    30\n",
       "dtype: int64"
      ]
     },
     "execution_count": 38,
     "metadata": {},
     "output_type": "execute_result"
    }
   ],
   "source": [
    "# Lets make this more sophisticated\n",
    "\n",
    "new_series[new_series <= new_series.mean()]"
   ]
  },
  {
   "cell_type": "markdown",
   "metadata": {},
   "source": [
    "Now s appears three times in the expression: Once when we calculate\n",
    "s.mean(), a second when we compare the mean with each element of s via broadcast, and a third when we apply the resulting boolean series to s. \n",
    "We can thus see all of the elements that are less than or equal to the mean."
   ]
  },
  {
   "cell_type": "markdown",
   "metadata": {},
   "source": [
    "Finally, we can use a mask index for assignment, as well as retrieval. For example:"
   ]
  },
  {
   "cell_type": "code",
   "execution_count": 39,
   "metadata": {},
   "outputs": [
    {
     "data": {
      "text/plain": [
       "0    99999\n",
       "1    99999\n",
       "2    99999\n",
       "3       40\n",
       "4       50\n",
       "dtype: int64"
      ]
     },
     "execution_count": 39,
     "metadata": {},
     "output_type": "execute_result"
    }
   ],
   "source": [
    "new_series[new_series <= new_series.mean()] = 99999\n",
    "\n",
    "new_series"
   ]
  },
  {
   "cell_type": "markdown",
   "metadata": {},
   "source": [
    "### Descriptive Statistics\n",
    "\n",
    "- Generate a series of 100,000 floats in a normal distribution, with a mean at 0 and a\n",
    "standard deviation of 100.\n",
    "- Get the descriptive statistics for this series. How close are the mean and median?\n",
    "- Replace the minimum value with 5 times the maximum value.\n",
    "- Get the descriptive statistics again. By how much did the mean, median, and standard\n",
    "deviations move, and why?"
   ]
  },
  {
   "cell_type": "code",
   "execution_count": 52,
   "metadata": {},
   "outputs": [
    {
     "data": {
      "text/plain": [
       "count    100000.000000\n",
       "mean          0.157670\n",
       "std          99.734467\n",
       "min        -485.211765\n",
       "25%         -66.864170\n",
       "50%           0.172022\n",
       "75%          67.343870\n",
       "max         424.177191\n",
       "dtype: float64"
      ]
     },
     "execution_count": 52,
     "metadata": {},
     "output_type": "execute_result"
    }
   ],
   "source": [
    "# Descriptive Statistics\n",
    "\n",
    "np.random.seed(0)\n",
    "\n",
    "norm_series = pd.Series(np.random.normal(0, 100, 100000))\n",
    "\n",
    "# Lets get the decriptive Statistics\n",
    "norm_series.describe()"
   ]
  },
  {
   "cell_type": "code",
   "execution_count": 58,
   "metadata": {},
   "outputs": [
    {
     "data": {
      "text/plain": [
       "count    1.000000e+05\n",
       "mean     1.674372e+01\n",
       "std      4.279356e+03\n",
       "min     -3.900025e+02\n",
       "25%     -6.685246e+01\n",
       "50%      1.809485e-01\n",
       "75%      6.735914e+01\n",
       "max      1.325554e+06\n",
       "dtype: float64"
      ]
     },
     "execution_count": 58,
     "metadata": {},
     "output_type": "execute_result"
    }
   ],
   "source": [
    "# Now, replace the min value with 4 times the max value\n",
    "\n",
    "norm_series[norm_series == norm_series.min()] = 5 * norm_series.max() \n",
    "\n",
    "norm_series.describe()"
   ]
  },
  {
   "cell_type": "markdown",
   "metadata": {},
   "source": [
    "First, the mean value has gone up by a bit—which which makes sense, given that we took a\n",
    "small value and made it much larger. That’s why the mean, while valuable, is sensitive to even a handful of very large or very small values.\n",
    "\n",
    "Second, we see that the standard deviation has also gone up. Once again, this makes a great deal of sense, given that we have made a single value that’s much larger than anything we had before.\n",
    "True, the standard deviation didn’t change by that much, but it does reflect the fact that values in our series are now spread out by more than before.\n",
    "\n",
    "Finally, the median barely shifted. That’s because it tends to be the most stable measurement, even when we have fluctuations at the extremes. This doesn’t mean that you should always look at the mean, but it can be useful. For example, if a country is trying to determine the threshold for government-sponsored benefits, a small number of very rich people would skew the mean upward, thus depriving more people of receiving that help. The median would allow us to say that (for example) the bottom 20% of earners will receive help."
   ]
  },
  {
   "cell_type": "markdown",
   "metadata": {},
   "source": [
    "It’s common to assume that the index in a pandas series is unique. After all, the index in a Python string, list, or tuple is unique, as are the keys in a Python dictionary. \n",
    "\n",
    "But it turns out that a series index can contain repeated values. This turns out to be quite useful in many ways."
   ]
  },
  {
   "cell_type": "code",
   "execution_count": 69,
   "metadata": {},
   "outputs": [
    {
     "data": {
      "text/plain": [
       "20.5"
      ]
     },
     "execution_count": 69,
     "metadata": {},
     "output_type": "execute_result"
    }
   ],
   "source": [
    "# Create the Days Index\n",
    "days = 'Sun Mon Tue Wed Thu Fri Sat'.split()\n",
    "\n",
    "# Creating a Series of Integers \n",
    "weather_series = pd.Series(np.random.normal(20, 5, 28), index=days * 4).round().astype(dtype=np.int16)\n",
    "\n",
    "\n",
    "# Now, find the mean temp on Mondays\n",
    "weather_series.loc['Mon'].mean()"
   ]
  },
  {
   "cell_type": "markdown",
   "metadata": {},
   "source": [
    "First, we need to create a series which contains 28 elements, but\n",
    "with a repeating index. Let’s start by creating a random NumPy array of 28 elements, drawn from a normal distribution, in which the mean is 20 and the standard deviation is 5.\n",
    "\n",
    "Secondly, if I had only seven data points in my series, then I could set the index with index=days inside of the call to Series. But because we have 28 data points, I want my list to repeat itself. I can actually create such a 28-element list by multiplying my list by 4, as in days * 4.\n",
    "\n",
    "This means that when you retrieve s.loc[i], for a given index value, you\n",
    "can’t know in advance whether you will get a single, scalar value (if the index\n",
    "occurs only once) or a series (if the index occurs multiple times). This is\n",
    "another case in which you need to know your data, to know what type of value\n",
    "you’ll get back."
   ]
  },
  {
   "cell_type": "markdown",
   "metadata": {},
   "source": [
    "- What was the average temperature on weekends (i.e., Saturdays and Sundays)?\n",
    "\n",
    "- How many times will the change in temperature from the previous day be greater than 2\n",
    "degrees?\n",
    "\n",
    "- What are the two most common temperatures in our data set, and how often does each\n",
    "appear?"
   ]
  },
  {
   "cell_type": "code",
   "execution_count": 71,
   "metadata": {},
   "outputs": [
    {
     "name": "stdout",
     "output_type": "stream",
     "text": [
      "The average temperatures are:\n",
      "Saturday --> 24.0\n",
      "Sunday --> 25.5\n"
     ]
    }
   ],
   "source": [
    "# Average Temperature on weekends\n",
    "\n",
    "sat_avg_temp = weather_series.loc['Sat'].mean()\n",
    "\n",
    "sun_avg_temp = weather_series.loc['Sun'].mean()\n",
    "\n",
    "print(f'The average temperatures are:\\nSaturday --> {sat_avg_temp}\\nSunday --> {sun_avg_temp}')"
   ]
  },
  {
   "cell_type": "code",
   "execution_count": 77,
   "metadata": {},
   "outputs": [
    {
     "data": {
      "text/plain": [
       "12"
      ]
     },
     "execution_count": 77,
     "metadata": {},
     "output_type": "execute_result"
    }
   ],
   "source": [
    "# How many times will the change in temperature from the previous \n",
    "# day be greater than 2 degrees?\n",
    "\n",
    "weather_series[weather_series.diff() > 2].count()"
   ]
  },
  {
   "cell_type": "markdown",
   "metadata": {},
   "source": [
    "### Reading CSV Files\n",
    "\n",
    "The data comes from 2015 data I retrieved from New York City’s open data site, from which you can get enormous amounts of information about taxi rides in New York city over the last few years. This file shows the number of passengers in each of 100,000 rides.\n",
    "Your task in this exercise is to show what percentage of taxi rides had only 1 passengers, vs. the maximum of 6 passengers."
   ]
  },
  {
   "cell_type": "code",
   "execution_count": 78,
   "metadata": {},
   "outputs": [
    {
     "data": {
      "text/plain": [
       "0    24\n",
       "dtype: int16"
      ]
     },
     "execution_count": 78,
     "metadata": {},
     "output_type": "execute_result"
    }
   ],
   "source": [
    "# What are the two most common temperatures in our data set, and how often does each\n",
    "# appear?\n",
    "\n",
    "weather_series.mode()"
   ]
  },
  {
   "cell_type": "code",
   "execution_count": 80,
   "metadata": {},
   "outputs": [
    {
     "data": {
      "text/plain": [
       "0    1\n",
       "1    1\n",
       "2    1\n",
       "3    1\n",
       "4    1\n",
       "Name: 0, dtype: int64"
      ]
     },
     "execution_count": 80,
     "metadata": {},
     "output_type": "execute_result"
    }
   ],
   "source": [
    "taxi_pass_series = pd.read_csv('data/taxi-passenger-count.csv', squeeze=True, header=None)\n",
    "\n",
    "taxi_pass_series.head()"
   ]
  },
  {
   "cell_type": "markdown",
   "metadata": {},
   "source": [
    "Let’s start with reading the data into our series. read_csv is one of the most powerful and commonly used functions in pandas, reading a CSV file (or anything resembling a CSV file) into a data structure. As I mentioned above, read_csv is more typically used to create a dataframe—but if we provide it with a file that contains only one data point per line, and pass a True value to the squeeze parameter, then we’ll get a series back. Because all of the values in this file are integers, pandas assumes that we want the series dtype to be np.int64.\n",
    "\n",
    "I also set the header parameter to be None, indicating that the first line in the file should not be taken as a column name, but rather is data to be included in our calculations. This will result in the series having a name value of 0, which we can safely ignore."
   ]
  },
  {
   "cell_type": "markdown",
   "metadata": {},
   "source": [
    "### Value Counts\n",
    "\n",
    "Value_counts, a series method that is one of my favorites. If you apply value_counts to the series s, you get back a new series whose keys are the distinct values in s, and whose values are integers indicating how often each value appeared"
   ]
  },
  {
   "cell_type": "code",
   "execution_count": 82,
   "metadata": {},
   "outputs": [
    {
     "data": {
      "text/plain": [
       "1    7207\n",
       "6     369\n",
       "Name: 0, dtype: int64"
      ]
     },
     "execution_count": 82,
     "metadata": {},
     "output_type": "execute_result"
    }
   ],
   "source": [
    "taxi_pass_series.value_counts().loc[[1,6]]"
   ]
  },
  {
   "cell_type": "markdown",
   "metadata": {},
   "source": [
    "Because we get a series back from value_counts, we can use all of our series tricks on it. For example, we can invoke head on it, to get the five most common elements. We can also use fancy indexing, in order to retrieve the counts for specific values."
   ]
  },
  {
   "cell_type": "markdown",
   "metadata": {},
   "source": [
    "But we’re actually interested in the percentages, not in the raw values. Fortunately,\n",
    "has an optional parameter, that if set to returns value_counts normalize True the fraction"
   ]
  },
  {
   "cell_type": "code",
   "execution_count": 83,
   "metadata": {},
   "outputs": [
    {
     "data": {
      "text/plain": [
       "1    0.720772\n",
       "6    0.036904\n",
       "Name: 0, dtype: float64"
      ]
     },
     "execution_count": 83,
     "metadata": {},
     "output_type": "execute_result"
    }
   ],
   "source": [
    "taxi_pass_series.value_counts(normalize=True).loc[[1,6]]"
   ]
  },
  {
   "cell_type": "markdown",
   "metadata": {},
   "source": [
    "In this exercise, we’re once again going to look at taxi data—but instead of looking at the number of passengers, we’re instead going to look at the distance (in miles) that each taxi ride went.\n",
    "\n",
    "- short, 2 miles\n",
    "- medium, > 2 miles, but 10 miles\n",
    "- long, > 10 miles"
   ]
  },
  {
   "cell_type": "code",
   "execution_count": 84,
   "metadata": {},
   "outputs": [
    {
     "data": {
      "text/plain": [
       "0    1.63\n",
       "1    0.46\n",
       "2    0.87\n",
       "3    2.13\n",
       "4    1.40\n",
       "Name: 0, dtype: float64"
      ]
     },
     "execution_count": 84,
     "metadata": {},
     "output_type": "execute_result"
    }
   ],
   "source": [
    "taxi_dist_series = pd.read_csv('data/taxi-distance.csv', squeeze=True, header=None)\n",
    "\n",
    "taxi_dist_series.head()"
   ]
  },
  {
   "cell_type": "code",
   "execution_count": 86,
   "metadata": {},
   "outputs": [
    {
     "data": {
      "text/plain": [
       "short     5823\n",
       "medium    4034\n",
       "long        75\n",
       "Name: 0, dtype: int64"
      ]
     },
     "execution_count": 86,
     "metadata": {},
     "output_type": "execute_result"
    }
   ],
   "source": [
    "pd.cut(taxi_dist_series, bins=[taxi_dist_series.min(), 2, 20, taxi_dist_series.max()],\n",
    "       labels=['short', 'medium', 'long']).value_counts()"
   ]
  },
  {
   "cell_type": "markdown",
   "metadata": {},
   "source": [
    "The **pd.cut** method allows us to set numeric boundaries, and then to cut a series into parts (known as \"bins\") based on those boundaries. Moreover, it can assign labels to each of the bins.\n",
    "Notice that pd.cut is not a series method, but rather a function in the top-level pd namespace. We’ll pass it a few arguments:\n",
    "- our series, *taxi_dist_series* \n",
    "\n",
    "- a list of four integers representing the boundaries of our three bins, assigned to the bins parameter\n",
    "\n",
    "- a list of three strings, the labels for our three bins, assigned to the labels parameter\n",
    "\n",
    "Note that the bin boundaries are exclusive on the left, and inclusive on the right. In other words, by specifying that the \"medium\" bin is between 2 and 10, that means >2 but 10. "
   ]
  }
 ],
 "metadata": {
  "interpreter": {
   "hash": "48ad1e1a62aa9954713b238b64302d05604dc9e55fba5f2b0d7d0a605e1f6f71"
  },
  "kernelspec": {
   "display_name": "Python 3.9.7 64-bit ('pandas_workout': conda)",
   "language": "python",
   "name": "python3"
  },
  "language_info": {
   "codemirror_mode": {
    "name": "ipython",
    "version": 3
   },
   "file_extension": ".py",
   "mimetype": "text/x-python",
   "name": "python",
   "nbconvert_exporter": "python",
   "pygments_lexer": "ipython3",
   "version": "3.9.7"
  },
  "orig_nbformat": 4
 },
 "nbformat": 4,
 "nbformat_minor": 2
}
