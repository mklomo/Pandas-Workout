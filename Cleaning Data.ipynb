{
 "cells": [
  {
   "cell_type": "markdown",
   "metadata": {},
   "source": [
    "## Cleaning Data\n",
    "\n",
    "This involves:\n",
    "\n",
    "- rename columns\n",
    "- rename the index\n",
    "- remove irrelevant columns\n",
    "- split one column into two\n",
    "- combine two or more columns into one\n",
    "- remove non-data rows\n",
    "- remove repeated rows\n",
    "- remove rows with missing data (aka NaN)\n",
    "- replace NaN data with a single value\n",
    "- replace NaN data via interpolation\n",
    "- standardize strings\n",
    "- fix typos in strings\n",
    "- remove whitespace from strings\n",
    "- correct the types used for columns\n",
    "- identify and remove outliers"
   ]
  },
  {
   "cell_type": "code",
   "execution_count": 17,
   "metadata": {},
   "outputs": [
    {
     "name": "stdout",
     "output_type": "stream",
     "text": [
      "<class 'pandas.core.frame.DataFrame'>\n",
      "RangeIndex: 12495734 entries, 0 to 12495733\n",
      "Data columns (total 6 columns):\n",
      " #   Column              Dtype \n",
      "---  ------              ----- \n",
      " 0   Plate ID            object\n",
      " 1   Registration State  object\n",
      " 2   Vehicle Make        object\n",
      " 3   Violation Time      object\n",
      " 4   Street Name         object\n",
      " 5   Vehicle Color       object\n",
      "dtypes: object(6)\n",
      "memory usage: 572.0+ MB\n"
     ]
    }
   ],
   "source": [
    "import pandas as pd\n",
    "\n",
    "# Import the nyc violations data\n",
    "nyc_violations_df = pd.read_csv(r'data\\nyc_violations_2020.csv', usecols=['Plate ID', 'Registration State', 'Vehicle Make', 'Vehicle Color', 'Violation Time', 'Street Name'])\n",
    "\n",
    "# Get Data info\n",
    "nyc_violations_df.info()\n"
   ]
  },
  {
   "cell_type": "markdown",
   "metadata": {},
   "source": [
    "Remove rows with any missing data (i.e., a NaN value). How many rows remain after\n",
    "doing this pruning? If each parking ticket brings $100 into the city, and missing data\n",
    "means that the ticket can be successfully contested, how much money might New York\n",
    "City lose as a result of such missing data?\n",
    "\n",
    "> Removing rows with missing data"
   ]
  },
  {
   "cell_type": "code",
   "execution_count": null,
   "metadata": {},
   "outputs": [],
   "source": [
    "# First count rows with missing data\n",
    "nyc_violations_df.isnull().sum()"
   ]
  },
  {
   "cell_type": "code",
   "execution_count": null,
   "metadata": {},
   "outputs": [],
   "source": [
    "# No NA's in df\n",
    "no_na_violations_df = nyc_violations_df.dropna()\n",
    "\n",
    "no_na_violations_df.info() "
   ]
  },
  {
   "cell_type": "code",
   "execution_count": null,
   "metadata": {},
   "outputs": [],
   "source": [
    "# How many rows have been removed?\n",
    "del_rows = nyc_violations_df.shape[0] - no_na_violations_df.shape[0]\n",
    "\n",
    "print(f\"Money lost by New York due to misssing data is ${(del_rows * 100):,.2f}\")"
   ]
  },
  {
   "cell_type": "markdown",
   "metadata": {},
   "source": [
    "Let’s instead assume that a ticket can only be dismissed if the license plate, state, car\n",
    "make, and/or street name are missing. Remove rows that are missing one or more of\n",
    "these. How many rows remain? Assuming $100/ticket, how much money would the city\n",
    "lose as as result of this missing data?"
   ]
  },
  {
   "cell_type": "code",
   "execution_count": null,
   "metadata": {},
   "outputs": [],
   "source": [
    "# Drop rows if these columns contain an NaN\n",
    "new_violations_df = nyc_violations_df.dropna(subset=['Plate ID', 'Registration State', 'Vehicle Make', 'Street Name'])\n",
    "\n",
    "\n",
    "# How many rows have been removed?\n",
    "del_rows = nyc_violations_df.shape[0] - new_violations_df.shape[0]\n",
    "\n",
    "print(f\"Money lost by New York due to misssing data is ${(del_rows * 100):,.2f}\")"
   ]
  },
  {
   "cell_type": "markdown",
   "metadata": {},
   "source": [
    "Now let’s assume that tickets can be dismissed if the license plate, state, and/or street\n",
    "name are all there—that is, the same as the previous question, but without requiring the\n",
    "make of car. Remove rows that are missing one or more of these. How many rows\n",
    "remain? Assuming $100/ticket, how much money would the city lose as as result of this\n",
    "missing data?"
   ]
  },
  {
   "cell_type": "code",
   "execution_count": null,
   "metadata": {},
   "outputs": [],
   "source": [
    "# Drop rows if these columns contain an NaN\n",
    "new_violations_df = nyc_violations_df.dropna(subset=['Plate ID', 'Registration State', 'Street Name'])\n",
    "\n",
    "\n",
    "# How many rows have been removed?\n",
    "del_rows = nyc_violations_df.shape[0] - new_violations_df.shape[0]\n",
    "\n",
    "print(f\"Money lost by New York due to misssing data is ${(del_rows * 100):,.2f}\")"
   ]
  },
  {
   "cell_type": "markdown",
   "metadata": {},
   "source": [
    "When we have NaN values, we have a few options:\n",
    "- remove them\n",
    "- leave them\n",
    "- replace them with something else\n",
    "\n",
    "What is the right choice? The answer, of course, is \"it depends.\" If you’re getting your data ready\n",
    "to feed into a machine-learning model, then you’ll likely need to get rid of the NaN values, either\n",
    "by removing those rows or by replacing them with something else. If you’re calculating basic\n",
    "sales information, then you might be OK with null values, since they aren’t going to affect your\n",
    "numbers too much. And of course, there are many variations on these.\n",
    "\n",
    "In this exercise, we are going to fill in missing data from the famous Titanic data set—a table of\n",
    "all passengers on that famous, doomed ship. Many of the columns in this file are complete, but\n",
    "several are missing data. It’ll be up to you to decide whether and how to fill in that missing data."
   ]
  },
  {
   "cell_type": "code",
   "execution_count": 2,
   "metadata": {},
   "outputs": [
    {
     "data": {
      "text/html": [
       "<div>\n",
       "<style scoped>\n",
       "    .dataframe tbody tr th:only-of-type {\n",
       "        vertical-align: middle;\n",
       "    }\n",
       "\n",
       "    .dataframe tbody tr th {\n",
       "        vertical-align: top;\n",
       "    }\n",
       "\n",
       "    .dataframe thead th {\n",
       "        text-align: right;\n",
       "    }\n",
       "</style>\n",
       "<table border=\"1\" class=\"dataframe\">\n",
       "  <thead>\n",
       "    <tr style=\"text-align: right;\">\n",
       "      <th></th>\n",
       "      <th>pclass</th>\n",
       "      <th>survived</th>\n",
       "      <th>name</th>\n",
       "      <th>sex</th>\n",
       "      <th>age</th>\n",
       "      <th>sibsp</th>\n",
       "      <th>parch</th>\n",
       "      <th>ticket</th>\n",
       "      <th>fare</th>\n",
       "      <th>cabin</th>\n",
       "      <th>embarked</th>\n",
       "      <th>boat</th>\n",
       "      <th>body</th>\n",
       "      <th>home.dest</th>\n",
       "    </tr>\n",
       "  </thead>\n",
       "  <tbody>\n",
       "    <tr>\n",
       "      <th>0</th>\n",
       "      <td>1.0</td>\n",
       "      <td>1.0</td>\n",
       "      <td>Allen, Miss. Elisabeth Walton</td>\n",
       "      <td>female</td>\n",
       "      <td>29.0000</td>\n",
       "      <td>0.0</td>\n",
       "      <td>0.0</td>\n",
       "      <td>24160</td>\n",
       "      <td>211.3375</td>\n",
       "      <td>B5</td>\n",
       "      <td>S</td>\n",
       "      <td>2</td>\n",
       "      <td>NaN</td>\n",
       "      <td>St Louis, MO</td>\n",
       "    </tr>\n",
       "    <tr>\n",
       "      <th>1</th>\n",
       "      <td>1.0</td>\n",
       "      <td>1.0</td>\n",
       "      <td>Allison, Master. Hudson Trevor</td>\n",
       "      <td>male</td>\n",
       "      <td>0.9167</td>\n",
       "      <td>1.0</td>\n",
       "      <td>2.0</td>\n",
       "      <td>113781</td>\n",
       "      <td>151.5500</td>\n",
       "      <td>C22 C26</td>\n",
       "      <td>S</td>\n",
       "      <td>11</td>\n",
       "      <td>NaN</td>\n",
       "      <td>Montreal, PQ / Chesterville, ON</td>\n",
       "    </tr>\n",
       "    <tr>\n",
       "      <th>2</th>\n",
       "      <td>1.0</td>\n",
       "      <td>0.0</td>\n",
       "      <td>Allison, Miss. Helen Loraine</td>\n",
       "      <td>female</td>\n",
       "      <td>2.0000</td>\n",
       "      <td>1.0</td>\n",
       "      <td>2.0</td>\n",
       "      <td>113781</td>\n",
       "      <td>151.5500</td>\n",
       "      <td>C22 C26</td>\n",
       "      <td>S</td>\n",
       "      <td>NaN</td>\n",
       "      <td>NaN</td>\n",
       "      <td>Montreal, PQ / Chesterville, ON</td>\n",
       "    </tr>\n",
       "    <tr>\n",
       "      <th>3</th>\n",
       "      <td>1.0</td>\n",
       "      <td>0.0</td>\n",
       "      <td>Allison, Mr. Hudson Joshua Creighton</td>\n",
       "      <td>male</td>\n",
       "      <td>30.0000</td>\n",
       "      <td>1.0</td>\n",
       "      <td>2.0</td>\n",
       "      <td>113781</td>\n",
       "      <td>151.5500</td>\n",
       "      <td>C22 C26</td>\n",
       "      <td>S</td>\n",
       "      <td>NaN</td>\n",
       "      <td>135.0</td>\n",
       "      <td>Montreal, PQ / Chesterville, ON</td>\n",
       "    </tr>\n",
       "    <tr>\n",
       "      <th>4</th>\n",
       "      <td>1.0</td>\n",
       "      <td>0.0</td>\n",
       "      <td>Allison, Mrs. Hudson J C (Bessie Waldo Daniels)</td>\n",
       "      <td>female</td>\n",
       "      <td>25.0000</td>\n",
       "      <td>1.0</td>\n",
       "      <td>2.0</td>\n",
       "      <td>113781</td>\n",
       "      <td>151.5500</td>\n",
       "      <td>C22 C26</td>\n",
       "      <td>S</td>\n",
       "      <td>NaN</td>\n",
       "      <td>NaN</td>\n",
       "      <td>Montreal, PQ / Chesterville, ON</td>\n",
       "    </tr>\n",
       "  </tbody>\n",
       "</table>\n",
       "</div>"
      ],
      "text/plain": [
       "   pclass  survived                                             name     sex  \\\n",
       "0     1.0       1.0                    Allen, Miss. Elisabeth Walton  female   \n",
       "1     1.0       1.0                   Allison, Master. Hudson Trevor    male   \n",
       "2     1.0       0.0                     Allison, Miss. Helen Loraine  female   \n",
       "3     1.0       0.0             Allison, Mr. Hudson Joshua Creighton    male   \n",
       "4     1.0       0.0  Allison, Mrs. Hudson J C (Bessie Waldo Daniels)  female   \n",
       "\n",
       "       age  sibsp  parch  ticket      fare    cabin embarked boat   body  \\\n",
       "0  29.0000    0.0    0.0   24160  211.3375       B5        S    2    NaN   \n",
       "1   0.9167    1.0    2.0  113781  151.5500  C22 C26        S   11    NaN   \n",
       "2   2.0000    1.0    2.0  113781  151.5500  C22 C26        S  NaN    NaN   \n",
       "3  30.0000    1.0    2.0  113781  151.5500  C22 C26        S  NaN  135.0   \n",
       "4  25.0000    1.0    2.0  113781  151.5500  C22 C26        S  NaN    NaN   \n",
       "\n",
       "                         home.dest  \n",
       "0                     St Louis, MO  \n",
       "1  Montreal, PQ / Chesterville, ON  \n",
       "2  Montreal, PQ / Chesterville, ON  \n",
       "3  Montreal, PQ / Chesterville, ON  \n",
       "4  Montreal, PQ / Chesterville, ON  "
      ]
     },
     "execution_count": 2,
     "metadata": {},
     "output_type": "execute_result"
    }
   ],
   "source": [
    "import pandas as pd\n",
    "\n",
    "# Upload the titanic dataset\n",
    "\n",
    "titanic_df = pd.read_csv(r\"data\\titanic.csv\")\n",
    "\n",
    "titanic_df.head()"
   ]
  },
  {
   "cell_type": "code",
   "execution_count": 8,
   "metadata": {},
   "outputs": [
    {
     "data": {
      "text/plain": [
       "Index(['age', 'fare', 'cabin', 'embarked', 'boat', 'body', 'home.dest'], dtype='object')"
      ]
     },
     "execution_count": 8,
     "metadata": {},
     "output_type": "execute_result"
    }
   ],
   "source": [
    "# Which columns have null values\n",
    "\n",
    "titanic_df.columns[titanic_df.isnull().sum() > 1]"
   ]
  },
  {
   "cell_type": "markdown",
   "metadata": {},
   "source": [
    "For each column containing null values, decide whether you will fill it with a value—and if so, then with what value, whether it’s calculated or otherwise.\n",
    "\n",
    "Deciding what we should do with each NaN-containing column depends on a variety of factors,\n",
    "including the type of data that the column contains. Another factor is just how many rows have\n",
    "null values. In two cases—fare and embarked we have one and two null rows, respectively.\n",
    "Given that our data frame has more than 1,300 rows, missing 1 or 2 of them won’t make any\n",
    "significant difference. I thus suggest that we remove those rows from the data frame:"
   ]
  },
  {
   "cell_type": "code",
   "execution_count": 9,
   "metadata": {},
   "outputs": [
    {
     "data": {
      "text/plain": [
       "Index(['age', 'cabin', 'boat', 'body', 'home.dest'], dtype='object')"
      ]
     },
     "execution_count": 9,
     "metadata": {},
     "output_type": "execute_result"
    }
   ],
   "source": [
    "# Removing Null values in Fare and Embarked\n",
    "\n",
    "titanic_df = titanic_df.dropna(subset=['fare', 'embarked'])\n",
    "\n",
    "# Check for Columns Containing Nulls\n",
    "titanic_df.columns[titanic_df.isnull().sum() > 1]"
   ]
  },
  {
   "cell_type": "markdown",
   "metadata": {},
   "source": [
    "When it comes to the age column, though, we might want to consider our steps carefully. I’m\n",
    "inclined to use the mean here. But you could use the mode. You could also use a more sophisticated technique, using the mean from within a particular cabin. You could even try to get\n",
    "the complete set of ages on the Titanic, and choose from a random distribution built from that.\n",
    "\n",
    "Using the mean age has some advantages: It won’t affect the mean age, although it will reduce\n",
    "the standard deviation. It’s not necessarily wrong, even though we know that it’s not totally right,\n",
    "either. In another context, such as sales of a particular product in an online store, replacing\n",
    "missing values with the mean can sometimes work, especially if you have similar products with a\n",
    "similar sales history."
   ]
  },
  {
   "cell_type": "code",
   "execution_count": null,
   "metadata": {},
   "outputs": [],
   "source": [
    "# Filling the NaN column in the age column with the mean age\n",
    "\n",
    "titanic_df['age'] = titanic_df['age'].fillna(titanic_df['age'].mean())"
   ]
  },
  {
   "cell_type": "markdown",
   "metadata": {},
   "source": [
    "- First, we calculate df['age'].mean(). pandas ignores NaN values by default, which means that this calculation is based on the non-null numeric values in that column.\n",
    "\n",
    "- Next, we run fillna on df['age']. And what value do we want to put instead of NaN? What we just calculated, the mean of df['age']. And yes, it looks a bit confusing to use df['age'] twice.\n",
    "\n",
    "- The result of df['age'].fillna is a new series, which we than assign back to\n",
    "df['age'], replacing the original values.\n",
    "\n",
    "> In the end, we’ve replaced any NaN values in df['age'] with the mean of the existing values."
   ]
  },
  {
   "cell_type": "markdown",
   "metadata": {},
   "source": [
    "Finally, I want to set the home.dest column similarly to what I did with the age column—but\n",
    "instead of using the mean, I’ll use the mode (i.e., the most common value). I’ll do this for two\n",
    "reasons: First, because you can only calculate the mean from a numeric value, and the destination\n",
    "is a categorical/textual value. Secondly, because this means that given no other information, we\n",
    "might be able to assume that a passenger is going where most others are going. We might be\n",
    "wrong, but this is the least wrong choice that we can make. We could, of course, be a bit more\n",
    "sophisticated than this, choosing the mode of home.dest for all passengers who embarked at the\n",
    "same place, but we’ll ignore that for now."
   ]
  },
  {
   "cell_type": "code",
   "execution_count": 10,
   "metadata": {},
   "outputs": [
    {
     "name": "stderr",
     "output_type": "stream",
     "text": [
      "C:\\Users\\INNO\\AppData\\Local\\Temp\\ipykernel_6460\\1920783346.py:1: SettingWithCopyWarning: \n",
      "A value is trying to be set on a copy of a slice from a DataFrame.\n",
      "Try using .loc[row_indexer,col_indexer] = value instead\n",
      "\n",
      "See the caveats in the documentation: https://pandas.pydata.org/pandas-docs/stable/user_guide/indexing.html#returning-a-view-versus-a-copy\n",
      "  titanic_df['home.dest'] = titanic_df['home.dest'].fillna(titanic_df['home.dest'].mode())\n"
     ]
    }
   ],
   "source": [
    "titanic_df['home.dest'] = titanic_df['home.dest'].fillna(titanic_df['home.dest'].mode())"
   ]
  },
  {
   "cell_type": "markdown",
   "metadata": {},
   "source": [
    "## Dealing with Inconsistent Data"
   ]
  },
  {
   "cell_type": "code",
   "execution_count": 19,
   "metadata": {},
   "outputs": [
    {
     "data": {
      "text/plain": [
       "array(['BLK', 'BLACK', nan, 'GREY', 'GY', 'WH', 'RED', 'GRAY', 'TAN',\n",
       "       'SILVE', 'BN', 'WHT', 'WHITE', 'GRN', 'Y', 'BL', 'GRY', 'BLUE',\n",
       "       'BROWN', 'BR', 'BLU', 'RD', 'YW', 'SL', 'GN', 'GR', 'BW', 'GREEN',\n",
       "       'W'], dtype=object)"
      ]
     },
     "execution_count": 19,
     "metadata": {},
     "output_type": "execute_result"
    }
   ],
   "source": [
    "# Displaying the Vehicle Color Column\n",
    "nyc_violations_df['Vehicle Color'].unique()[1:30]"
   ]
  },
  {
   "cell_type": "code",
   "execution_count": 20,
   "metadata": {},
   "outputs": [
    {
     "data": {
      "text/plain": [
       "WH       2344858\n",
       "GY       2307704\n",
       "BK       2066374\n",
       "WHITE    1061234\n",
       "BL        775124\n",
       "RD        483298\n",
       "BLACK     465110\n",
       "GREY      306787\n",
       "BROWN     292348\n",
       "SILVE     191477\n",
       "GR        182929\n",
       "BLUE      178298\n",
       "RED       161693\n",
       "TN        120576\n",
       "BR        102204\n",
       "YW         98700\n",
       "BLK        91539\n",
       "OTHER      60245\n",
       "GREEN      58765\n",
       "GL         54851\n",
       "GRY        46527\n",
       "MR         42812\n",
       "GRAY       40854\n",
       "WHT        35433\n",
       "YELLO      32792\n",
       "WHI        29760\n",
       "OR         28100\n",
       "BK.        27830\n",
       "WT         25583\n",
       "WT.        24593\n",
       "GY.        22460\n",
       "GOLD       21687\n",
       "TAN        21091\n",
       "SIL        20116\n",
       "BLU        15240\n",
       "SL.        13145\n",
       "LTGY       13055\n",
       "ORANG      11506\n",
       "SL         10343\n",
       "LTG        10093\n",
       "BL.         9649\n",
       "LT/         8976\n",
       "PR          7518\n",
       "DK/         7498\n",
       "W           7367\n",
       "RD.         7128\n",
       "DKGY        6004\n",
       "GYGY        5039\n",
       "BLK.        4853\n",
       "GRN         4829\n",
       "Name: Vehicle Color, dtype: int64"
      ]
     },
     "execution_count": 20,
     "metadata": {},
     "output_type": "execute_result"
    }
   ],
   "source": [
    "# Get the distinct vehicle colors\n",
    "\n",
    "nyc_violations_df['Vehicle Color'].value_counts().head(50)"
   ]
  },
  {
   "cell_type": "code",
   "execution_count": 15,
   "metadata": {},
   "outputs": [
    {
     "data": {
      "text/plain": [
       "1880"
      ]
     },
     "execution_count": 15,
     "metadata": {},
     "output_type": "execute_result"
    }
   ],
   "source": [
    "# Translation Table for Cleaning the Color Dataset\n",
    "colormap = {'WH': 'WHITE', 'GY':'GRAY', 'BK':'BLACK',\n",
    "'BL':'BLUE', 'RD':'RED', 'SILVE':'SILVER', 'GR':'GRAY',\n",
    "'TN':'TAN', 'BR':'BROWN', 'YW':'YELLO', 'BLK':'BLACK',\n",
    "'GRY':'GRAY', 'WHT':'WHITE', 'WHI':'WHITE', 'OR':'ORANGE',\n",
    "'BK.':'BLACK', 'WT':'WHITE', 'WT.':'WHITE'}\n",
    "\n",
    "nyc_violations_df['Vehicle Color'] = nyc_violations_df['Vehicle Color'].replace(colormap)\n",
    "\n",
    "nyc_violations_df['Vehicle Color'].value_counts().shape[0]"
   ]
  },
  {
   "cell_type": "code",
   "execution_count": 16,
   "metadata": {},
   "outputs": [
    {
     "data": {
      "text/plain": [
       "WHITE     3521461\n",
       "BLACK     2650853\n",
       "GRAY      2578014\n",
       "BLUE       953422\n",
       "RED        644991\n",
       "BROWN      394552\n",
       "GREY       306787\n",
       "SILVER     191477\n",
       "TAN        141667\n",
       "YELLO      131492\n",
       "OTHER       60245\n",
       "GREEN       58765\n",
       "GL          54851\n",
       "MR          42812\n",
       "ORANGE      28100\n",
       "GY.         22460\n",
       "GOLD        21687\n",
       "SIL         20116\n",
       "BLU         15240\n",
       "SL.         13145\n",
       "LTGY        13055\n",
       "ORANG       11506\n",
       "SL          10343\n",
       "LTG         10093\n",
       "BL.          9649\n",
       "LT/          8976\n",
       "PR           7518\n",
       "DK/          7498\n",
       "W            7367\n",
       "RD.          7128\n",
       "DKGY         6004\n",
       "GYGY         5039\n",
       "BLK.         4853\n",
       "GRN          4829\n",
       "B            4145\n",
       "WH.          3811\n",
       "BRO          3802\n",
       "DKG          3702\n",
       "PURPL        3635\n",
       "BRN          3582\n",
       "BKGY         3504\n",
       "WHBL         3489\n",
       "DKBL         2912\n",
       "GN           2883\n",
       "WHT.         2796\n",
       "BN           2787\n",
       "BLUE.        2638\n",
       "WHGY         2381\n",
       "UNKNO        2205\n",
       "RED.         2141\n",
       "Name: Vehicle Color, dtype: int64"
      ]
     },
     "execution_count": 16,
     "metadata": {},
     "output_type": "execute_result"
    }
   ],
   "source": [
    "# Get the distinct vehicle colors\n",
    "nyc_violations_df['Vehicle Color'].value_counts().head(50)"
   ]
  }
 ],
 "metadata": {
  "interpreter": {
   "hash": "f86afb142bb23b6fd74d662308d82ebd3b7a4b66807793e5760ad098afc030e9"
  },
  "kernelspec": {
   "display_name": "Python 3.9.7 ('pandas_workout_env')",
   "language": "python",
   "name": "python3"
  },
  "language_info": {
   "codemirror_mode": {
    "name": "ipython",
    "version": 3
   },
   "file_extension": ".py",
   "mimetype": "text/x-python",
   "name": "python",
   "nbconvert_exporter": "python",
   "pygments_lexer": "ipython3",
   "version": "3.9.7"
  },
  "orig_nbformat": 4
 },
 "nbformat": 4,
 "nbformat_minor": 2
}
