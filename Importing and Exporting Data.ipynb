{
 "cells": [
  {
   "cell_type": "markdown",
   "metadata": {},
   "source": [
    "## The CSV\n",
    "\n",
    "In data science we use the phrase \"know your data.\" That’s because it’s important to really know as much about your data as you can\n",
    "before willy-nilly reading it into memory. You probably don’t want to load all of\n",
    "the columns into **pandas**.And you might want to specify pandas the type of data that’s in each column, rather than let **pandas** just guess.\n",
    "\n",
    "\n",
    "Most data sets come with a \"data dictionary,\" a file that describes the columns, their types, their meanings, and their ranges. It’s almost always\n",
    "worth your while to read a data dictionary when starting to analyze the data.\n",
    "In many cases, the dictionary will give you insights into the data."
   ]
  },
  {
   "cell_type": "markdown",
   "metadata": {},
   "source": [
    "For this first exercise, I want you to create a data frame from the CSV data for January 2019:\n",
    "\n",
    "- Load the CSV file into a data frame, using only the columns passenger_count, trip_distance, payment_type, and total_amount.\n",
    "\n",
    "*payment_type is a number describing how the passenger paid for the trip. The most important\n",
    "values are 1 (credit card) and 2 (cash).*\n",
    "\n",
    "- How many taxi rides had more than 8 passengers?\n",
    "\n",
    "- How many taxi rides had zero passengers?\n",
    "\n",
    "- How many taxi rides were paid for in cash, and cost more than $1,000?\n",
    "\n",
    "- How many rides cost less than 0?\n",
    "\n",
    "- How many rides traveled a below-average distance, but cost an above-average amount?"
   ]
  },
  {
   "cell_type": "code",
   "execution_count": 1,
   "metadata": {},
   "outputs": [
    {
     "data": {
      "text/html": [
       "<div>\n",
       "<style scoped>\n",
       "    .dataframe tbody tr th:only-of-type {\n",
       "        vertical-align: middle;\n",
       "    }\n",
       "\n",
       "    .dataframe tbody tr th {\n",
       "        vertical-align: top;\n",
       "    }\n",
       "\n",
       "    .dataframe thead th {\n",
       "        text-align: right;\n",
       "    }\n",
       "</style>\n",
       "<table border=\"1\" class=\"dataframe\">\n",
       "  <thead>\n",
       "    <tr style=\"text-align: right;\">\n",
       "      <th></th>\n",
       "      <th>passenger_count</th>\n",
       "      <th>trip_distance</th>\n",
       "      <th>payment_type</th>\n",
       "      <th>total_amount</th>\n",
       "    </tr>\n",
       "  </thead>\n",
       "  <tbody>\n",
       "    <tr>\n",
       "      <th>0</th>\n",
       "      <td>1.0</td>\n",
       "      <td>1.2</td>\n",
       "      <td>1.0</td>\n",
       "      <td>11.27</td>\n",
       "    </tr>\n",
       "    <tr>\n",
       "      <th>1</th>\n",
       "      <td>1.0</td>\n",
       "      <td>1.2</td>\n",
       "      <td>1.0</td>\n",
       "      <td>12.30</td>\n",
       "    </tr>\n",
       "    <tr>\n",
       "      <th>2</th>\n",
       "      <td>1.0</td>\n",
       "      <td>0.6</td>\n",
       "      <td>1.0</td>\n",
       "      <td>10.80</td>\n",
       "    </tr>\n",
       "    <tr>\n",
       "      <th>3</th>\n",
       "      <td>1.0</td>\n",
       "      <td>0.8</td>\n",
       "      <td>1.0</td>\n",
       "      <td>8.16</td>\n",
       "    </tr>\n",
       "    <tr>\n",
       "      <th>4</th>\n",
       "      <td>1.0</td>\n",
       "      <td>0.0</td>\n",
       "      <td>2.0</td>\n",
       "      <td>4.80</td>\n",
       "    </tr>\n",
       "  </tbody>\n",
       "</table>\n",
       "</div>"
      ],
      "text/plain": [
       "   passenger_count  trip_distance  payment_type  total_amount\n",
       "0              1.0            1.2           1.0         11.27\n",
       "1              1.0            1.2           1.0         12.30\n",
       "2              1.0            0.6           1.0         10.80\n",
       "3              1.0            0.8           1.0          8.16\n",
       "4              1.0            0.0           2.0          4.80"
      ]
     },
     "execution_count": 1,
     "metadata": {},
     "output_type": "execute_result"
    }
   ],
   "source": [
    "import pandas as pd\n",
    "\n",
    "# Upload Specified Columns in the dataset\n",
    "nyc_taxi_df = pd.read_csv('data/nyc_taxi_2020-01.csv', usecols = ['passenger_count', 'trip_distance', 'payment_type', 'total_amount'])\n",
    "\n",
    "# Preview the data\n",
    "nyc_taxi_df.head()"
   ]
  },
  {
   "cell_type": "code",
   "execution_count": 3,
   "metadata": {},
   "outputs": [
    {
     "data": {
      "text/html": [
       "<div>\n",
       "<style scoped>\n",
       "    .dataframe tbody tr th:only-of-type {\n",
       "        vertical-align: middle;\n",
       "    }\n",
       "\n",
       "    .dataframe tbody tr th {\n",
       "        vertical-align: top;\n",
       "    }\n",
       "\n",
       "    .dataframe thead th {\n",
       "        text-align: right;\n",
       "    }\n",
       "</style>\n",
       "<table border=\"1\" class=\"dataframe\">\n",
       "  <thead>\n",
       "    <tr style=\"text-align: right;\">\n",
       "      <th></th>\n",
       "      <th>passenger_count</th>\n",
       "      <th>trip_distance</th>\n",
       "      <th>payment_type</th>\n",
       "      <th>total_amount</th>\n",
       "    </tr>\n",
       "  </thead>\n",
       "  <tbody>\n",
       "    <tr>\n",
       "      <th>count</th>\n",
       "      <td>6.339567e+06</td>\n",
       "      <td>6.405008e+06</td>\n",
       "      <td>6.339567e+06</td>\n",
       "      <td>6.405008e+06</td>\n",
       "    </tr>\n",
       "    <tr>\n",
       "      <th>mean</th>\n",
       "      <td>1.515333e+00</td>\n",
       "      <td>2.929644e+00</td>\n",
       "      <td>1.270298e+00</td>\n",
       "      <td>1.866315e+01</td>\n",
       "    </tr>\n",
       "    <tr>\n",
       "      <th>std</th>\n",
       "      <td>1.151594e+00</td>\n",
       "      <td>8.315911e+01</td>\n",
       "      <td>4.739985e-01</td>\n",
       "      <td>1.475736e+01</td>\n",
       "    </tr>\n",
       "    <tr>\n",
       "      <th>min</th>\n",
       "      <td>0.000000e+00</td>\n",
       "      <td>-3.062000e+01</td>\n",
       "      <td>1.000000e+00</td>\n",
       "      <td>-1.242300e+03</td>\n",
       "    </tr>\n",
       "    <tr>\n",
       "      <th>25%</th>\n",
       "      <td>1.000000e+00</td>\n",
       "      <td>9.600000e-01</td>\n",
       "      <td>1.000000e+00</td>\n",
       "      <td>1.116000e+01</td>\n",
       "    </tr>\n",
       "    <tr>\n",
       "      <th>50%</th>\n",
       "      <td>1.000000e+00</td>\n",
       "      <td>1.600000e+00</td>\n",
       "      <td>1.000000e+00</td>\n",
       "      <td>1.430000e+01</td>\n",
       "    </tr>\n",
       "    <tr>\n",
       "      <th>75%</th>\n",
       "      <td>2.000000e+00</td>\n",
       "      <td>2.930000e+00</td>\n",
       "      <td>2.000000e+00</td>\n",
       "      <td>1.980000e+01</td>\n",
       "    </tr>\n",
       "    <tr>\n",
       "      <th>max</th>\n",
       "      <td>9.000000e+00</td>\n",
       "      <td>2.102401e+05</td>\n",
       "      <td>5.000000e+00</td>\n",
       "      <td>4.268300e+03</td>\n",
       "    </tr>\n",
       "  </tbody>\n",
       "</table>\n",
       "</div>"
      ],
      "text/plain": [
       "       passenger_count  trip_distance  payment_type  total_amount\n",
       "count     6.339567e+06   6.405008e+06  6.339567e+06  6.405008e+06\n",
       "mean      1.515333e+00   2.929644e+00  1.270298e+00  1.866315e+01\n",
       "std       1.151594e+00   8.315911e+01  4.739985e-01  1.475736e+01\n",
       "min       0.000000e+00  -3.062000e+01  1.000000e+00 -1.242300e+03\n",
       "25%       1.000000e+00   9.600000e-01  1.000000e+00  1.116000e+01\n",
       "50%       1.000000e+00   1.600000e+00  1.000000e+00  1.430000e+01\n",
       "75%       2.000000e+00   2.930000e+00  2.000000e+00  1.980000e+01\n",
       "max       9.000000e+00   2.102401e+05  5.000000e+00  4.268300e+03"
      ]
     },
     "execution_count": 3,
     "metadata": {},
     "output_type": "execute_result"
    }
   ],
   "source": [
    "# Describe the dataset\n",
    "nyc_taxi_df.describe()"
   ]
  },
  {
   "cell_type": "code",
   "execution_count": 4,
   "metadata": {},
   "outputs": [
    {
     "name": "stdout",
     "output_type": "stream",
     "text": [
      "<class 'pandas.core.frame.DataFrame'>\n",
      "RangeIndex: 6405008 entries, 0 to 6405007\n",
      "Data columns (total 4 columns):\n",
      " #   Column           Dtype  \n",
      "---  ------           -----  \n",
      " 0   passenger_count  float64\n",
      " 1   trip_distance    float64\n",
      " 2   payment_type     float64\n",
      " 3   total_amount     float64\n",
      "dtypes: float64(4)\n",
      "memory usage: 195.5 MB\n"
     ]
    }
   ],
   "source": [
    "# Get information about column data types\n",
    "nyc_taxi_df.info()"
   ]
  },
  {
   "cell_type": "code",
   "execution_count": 5,
   "metadata": {},
   "outputs": [
    {
     "data": {
      "text/plain": [
       "passenger_count    19\n",
       "dtype: int64"
      ]
     },
     "execution_count": 5,
     "metadata": {},
     "output_type": "execute_result"
    }
   ],
   "source": [
    "# How many taxi rides had more than 8 passengers?\n",
    "nyc_taxi_df.loc[(nyc_taxi_df['passenger_count'] > 8), ['passenger_count']].count()"
   ]
  },
  {
   "cell_type": "code",
   "execution_count": 6,
   "metadata": {},
   "outputs": [
    {
     "data": {
      "text/plain": [
       "passenger_count    114302\n",
       "dtype: int64"
      ]
     },
     "execution_count": 6,
     "metadata": {},
     "output_type": "execute_result"
    }
   ],
   "source": [
    "# How many taxi rides had zero passengers?\n",
    "nyc_taxi_df.loc[(nyc_taxi_df['passenger_count'] == 0), ['passenger_count']].count()"
   ]
  },
  {
   "cell_type": "code",
   "execution_count": 7,
   "metadata": {},
   "outputs": [
    {
     "data": {
      "text/html": [
       "<div>\n",
       "<style scoped>\n",
       "    .dataframe tbody tr th:only-of-type {\n",
       "        vertical-align: middle;\n",
       "    }\n",
       "\n",
       "    .dataframe tbody tr th {\n",
       "        vertical-align: top;\n",
       "    }\n",
       "\n",
       "    .dataframe thead th {\n",
       "        text-align: right;\n",
       "    }\n",
       "</style>\n",
       "<table border=\"1\" class=\"dataframe\">\n",
       "  <thead>\n",
       "    <tr style=\"text-align: right;\">\n",
       "      <th></th>\n",
       "      <th>passenger_count</th>\n",
       "      <th>trip_distance</th>\n",
       "      <th>payment_type</th>\n",
       "      <th>total_amount</th>\n",
       "    </tr>\n",
       "  </thead>\n",
       "  <tbody>\n",
       "    <tr>\n",
       "      <th>471401</th>\n",
       "      <td>1.0</td>\n",
       "      <td>8.27</td>\n",
       "      <td>2.0</td>\n",
       "      <td>1242.3</td>\n",
       "    </tr>\n",
       "    <tr>\n",
       "      <th>4049543</th>\n",
       "      <td>1.0</td>\n",
       "      <td>1.57</td>\n",
       "      <td>2.0</td>\n",
       "      <td>4268.3</td>\n",
       "    </tr>\n",
       "    <tr>\n",
       "      <th>5059294</th>\n",
       "      <td>1.0</td>\n",
       "      <td>58.85</td>\n",
       "      <td>2.0</td>\n",
       "      <td>1722.3</td>\n",
       "    </tr>\n",
       "  </tbody>\n",
       "</table>\n",
       "</div>"
      ],
      "text/plain": [
       "         passenger_count  trip_distance  payment_type  total_amount\n",
       "471401               1.0           8.27           2.0        1242.3\n",
       "4049543              1.0           1.57           2.0        4268.3\n",
       "5059294              1.0          58.85           2.0        1722.3"
      ]
     },
     "execution_count": 7,
     "metadata": {},
     "output_type": "execute_result"
    }
   ],
   "source": [
    "# How many taxi rides were paid for in cash, and cost more than $1,000?\n",
    "nyc_taxi_df.loc[(nyc_taxi_df['payment_type'] == 2) & (nyc_taxi_df['total_amount'] > 1000)]"
   ]
  },
  {
   "cell_type": "code",
   "execution_count": 8,
   "metadata": {},
   "outputs": [
    {
     "data": {
      "text/plain": [
       "passenger_count    19441\n",
       "trip_distance      19505\n",
       "payment_type       19441\n",
       "total_amount       19505\n",
       "dtype: int64"
      ]
     },
     "execution_count": 8,
     "metadata": {},
     "output_type": "execute_result"
    }
   ],
   "source": [
    "# How many rides cost less than 0?\n",
    "nyc_taxi_df.loc[(nyc_taxi_df['total_amount'] < 0)].count()"
   ]
  },
  {
   "cell_type": "code",
   "execution_count": 9,
   "metadata": {},
   "outputs": [
    {
     "data": {
      "text/plain": [
       "passenger_count    375673\n",
       "trip_distance      387832\n",
       "payment_type       375673\n",
       "total_amount       387832\n",
       "dtype: int64"
      ]
     },
     "execution_count": 9,
     "metadata": {},
     "output_type": "execute_result"
    }
   ],
   "source": [
    "# How many rides traveled a below-average distance, but cost an above-average amount?\n",
    "nyc_taxi_df.loc[(nyc_taxi_df['trip_distance'] < nyc_taxi_df['trip_distance'].mean()) & (nyc_taxi_df['total_amount'] > nyc_taxi_df['total_amount'].mean())].count()"
   ]
  },
  {
   "cell_type": "markdown",
   "metadata": {},
   "source": [
    "The first thing we need to do to solve this problem is create a new data frame from the CSV file.\n",
    "Fortunately, the data is formatted in such a way that pd.read_csv will work just fine with its\n",
    "defaults, returning a data frame with named columns. But this file contains a lot of\n",
    "data—7,667,792 rides, to be exact—and if we only keep the columns we need, we’ll reduce the\n",
    "memory footprint by quite a lot. (Indeed, I found that loading only the columns we asked for\n",
    "reduced the memory usage from 580MB to 200 MB. \n",
    "\n",
    "The usecols parameter to pd.read_csv allows us to select which columns from the CSV file\n",
    "will be kept around. The parameter takes a list as an argument, and that list can either contain\n",
    "integers (indicating the numeric index of each column) or strings representing the column names.\n",
    "I generally prefer to use strings, since they’re more readable, and that’s what I did here."
   ]
  },
  {
   "cell_type": "code",
   "execution_count": 10,
   "metadata": {},
   "outputs": [
    {
     "data": {
      "text/html": [
       "<div>\n",
       "<style scoped>\n",
       "    .dataframe tbody tr th:only-of-type {\n",
       "        vertical-align: middle;\n",
       "    }\n",
       "\n",
       "    .dataframe tbody tr th {\n",
       "        vertical-align: top;\n",
       "    }\n",
       "\n",
       "    .dataframe thead th {\n",
       "        text-align: right;\n",
       "    }\n",
       "</style>\n",
       "<table border=\"1\" class=\"dataframe\">\n",
       "  <thead>\n",
       "    <tr style=\"text-align: right;\">\n",
       "      <th></th>\n",
       "      <th>passenger_count</th>\n",
       "      <th>trip_distance</th>\n",
       "      <th>payment_type</th>\n",
       "      <th>total_amount</th>\n",
       "    </tr>\n",
       "  </thead>\n",
       "  <tbody>\n",
       "    <tr>\n",
       "      <th>1007</th>\n",
       "      <td>2.0</td>\n",
       "      <td>1.26</td>\n",
       "      <td>4.0</td>\n",
       "      <td>-12.3</td>\n",
       "    </tr>\n",
       "    <tr>\n",
       "      <th>1449</th>\n",
       "      <td>1.0</td>\n",
       "      <td>0.03</td>\n",
       "      <td>4.0</td>\n",
       "      <td>-6.3</td>\n",
       "    </tr>\n",
       "    <tr>\n",
       "      <th>2148</th>\n",
       "      <td>2.0</td>\n",
       "      <td>0.78</td>\n",
       "      <td>4.0</td>\n",
       "      <td>-10.3</td>\n",
       "    </tr>\n",
       "    <tr>\n",
       "      <th>3113</th>\n",
       "      <td>2.0</td>\n",
       "      <td>2.41</td>\n",
       "      <td>4.0</td>\n",
       "      <td>-16.8</td>\n",
       "    </tr>\n",
       "    <tr>\n",
       "      <th>4104</th>\n",
       "      <td>1.0</td>\n",
       "      <td>0.02</td>\n",
       "      <td>4.0</td>\n",
       "      <td>-7.8</td>\n",
       "    </tr>\n",
       "    <tr>\n",
       "      <th>...</th>\n",
       "      <td>...</td>\n",
       "      <td>...</td>\n",
       "      <td>...</td>\n",
       "      <td>...</td>\n",
       "    </tr>\n",
       "    <tr>\n",
       "      <th>6336915</th>\n",
       "      <td>2.0</td>\n",
       "      <td>0.00</td>\n",
       "      <td>4.0</td>\n",
       "      <td>-55.3</td>\n",
       "    </tr>\n",
       "    <tr>\n",
       "      <th>6336939</th>\n",
       "      <td>1.0</td>\n",
       "      <td>0.45</td>\n",
       "      <td>4.0</td>\n",
       "      <td>-11.3</td>\n",
       "    </tr>\n",
       "    <tr>\n",
       "      <th>6338071</th>\n",
       "      <td>1.0</td>\n",
       "      <td>7.28</td>\n",
       "      <td>4.0</td>\n",
       "      <td>-29.3</td>\n",
       "    </tr>\n",
       "    <tr>\n",
       "      <th>6338169</th>\n",
       "      <td>1.0</td>\n",
       "      <td>0.96</td>\n",
       "      <td>4.0</td>\n",
       "      <td>-8.8</td>\n",
       "    </tr>\n",
       "    <tr>\n",
       "      <th>6338945</th>\n",
       "      <td>1.0</td>\n",
       "      <td>0.47</td>\n",
       "      <td>4.0</td>\n",
       "      <td>-7.8</td>\n",
       "    </tr>\n",
       "  </tbody>\n",
       "</table>\n",
       "<p>8844 rows × 4 columns</p>\n",
       "</div>"
      ],
      "text/plain": [
       "         passenger_count  trip_distance  payment_type  total_amount\n",
       "1007                 2.0           1.26           4.0         -12.3\n",
       "1449                 1.0           0.03           4.0          -6.3\n",
       "2148                 2.0           0.78           4.0         -10.3\n",
       "3113                 2.0           2.41           4.0         -16.8\n",
       "4104                 1.0           0.02           4.0          -7.8\n",
       "...                  ...            ...           ...           ...\n",
       "6336915              2.0           0.00           4.0         -55.3\n",
       "6336939              1.0           0.45           4.0         -11.3\n",
       "6338071              1.0           7.28           4.0         -29.3\n",
       "6338169              1.0           0.96           4.0          -8.8\n",
       "6338945              1.0           0.47           4.0          -7.8\n",
       "\n",
       "[8844 rows x 4 columns]"
      ]
     },
     "execution_count": 10,
     "metadata": {},
     "output_type": "execute_result"
    }
   ],
   "source": [
    "# How many of the rides that cost less than 0 were indeed for either a dispute (\n",
    "# payment_type of 4) or a voided trip (payment_type of 5)?\n",
    "\n",
    "nyc_taxi_df.loc[(nyc_taxi_df['total_amount'] < 0) & ((nyc_taxi_df['payment_type'] == 4) | (nyc_taxi_df['payment_type'] == 5))]"
   ]
  },
  {
   "cell_type": "code",
   "execution_count": 11,
   "metadata": {},
   "outputs": [
    {
     "data": {
      "text/plain": [
       "payment_type\n",
       "1.0    4694897\n",
       "2.0    1593834\n",
       "3.0      32770\n",
       "4.0      18065\n",
       "5.0          1\n",
       "Name: payment_type, dtype: int64"
      ]
     },
     "execution_count": 11,
     "metadata": {},
     "output_type": "execute_result"
    }
   ],
   "source": [
    "# Credit Card vs Cash\n",
    "nyc_taxi_df.groupby('payment_type')['payment_type'].count()"
   ]
  },
  {
   "cell_type": "code",
   "execution_count": 12,
   "metadata": {},
   "outputs": [
    {
     "data": {
      "text/plain": [
       "payment_type\n",
       "1.0    74.06\n",
       "2.0    25.14\n",
       "3.0     0.52\n",
       "4.0     0.28\n",
       "5.0     0.00\n",
       "Name: payment_type, dtype: float64"
      ]
     },
     "execution_count": 12,
     "metadata": {},
     "output_type": "execute_result"
    }
   ],
   "source": [
    "# Credit Card vs Cash\n",
    "sum_passengers = nyc_taxi_df.groupby('payment_type')['payment_type'].count().sum()\n",
    "\n",
    "round((nyc_taxi_df.groupby('payment_type')['payment_type'].count() / sum_passengers) * 100, 2)"
   ]
  },
  {
   "cell_type": "markdown",
   "metadata": {},
   "source": [
    "### Pandemic Taxis\n",
    "\n",
    "In this exercise, Create a data frame from two different CSV files containing New\n",
    "York taxi data—one from Jan 2020 (before the pandemic), and a second from July 2021 (near\n",
    "the height of the pandemic, at least in New York). The data frame should contain three columns\n",
    "from the files: passenger_count, total_amount, and payment_type. It should also include a\n",
    "fifth column, month, which should be set to either January or July, depending on the file from which\n",
    "the data was loaded."
   ]
  },
  {
   "cell_type": "code",
   "execution_count": 13,
   "metadata": {},
   "outputs": [],
   "source": [
    "# Load specified Columns from the Jan 2020 Dataset\n",
    "nyc_jan_2020_taxi_df = pd.read_csv('data/nyc_taxi_2020-01.csv', usecols = ['tpep_pickup_datetime','tpep_dropoff_datetime' , 'passenger_count', 'total_amount', 'payment_type'])\n",
    "\n",
    "# Load specified Columns from the Jul 2020 Dataset\n",
    "nyc_jul_2020_taxi_df = pd.read_csv('data/nyc_taxi_2020-07.csv', usecols = ['tpep_pickup_datetime','tpep_dropoff_datetime' , 'passenger_count', 'total_amount', 'payment_type'])\n"
   ]
  },
  {
   "cell_type": "code",
   "execution_count": 14,
   "metadata": {},
   "outputs": [
    {
     "data": {
      "text/html": [
       "<div>\n",
       "<style scoped>\n",
       "    .dataframe tbody tr th:only-of-type {\n",
       "        vertical-align: middle;\n",
       "    }\n",
       "\n",
       "    .dataframe tbody tr th {\n",
       "        vertical-align: top;\n",
       "    }\n",
       "\n",
       "    .dataframe thead th {\n",
       "        text-align: right;\n",
       "    }\n",
       "</style>\n",
       "<table border=\"1\" class=\"dataframe\">\n",
       "  <thead>\n",
       "    <tr style=\"text-align: right;\">\n",
       "      <th></th>\n",
       "      <th>tpep_pickup_datetime</th>\n",
       "      <th>tpep_dropoff_datetime</th>\n",
       "      <th>passenger_count</th>\n",
       "      <th>payment_type</th>\n",
       "      <th>total_amount</th>\n",
       "      <th>month</th>\n",
       "    </tr>\n",
       "  </thead>\n",
       "  <tbody>\n",
       "    <tr>\n",
       "      <th>0</th>\n",
       "      <td>2020-01-01 00:28:15</td>\n",
       "      <td>2020-01-01 00:33:03</td>\n",
       "      <td>1.0</td>\n",
       "      <td>1.0</td>\n",
       "      <td>11.27</td>\n",
       "      <td>January</td>\n",
       "    </tr>\n",
       "    <tr>\n",
       "      <th>1</th>\n",
       "      <td>2020-01-01 00:35:39</td>\n",
       "      <td>2020-01-01 00:43:04</td>\n",
       "      <td>1.0</td>\n",
       "      <td>1.0</td>\n",
       "      <td>12.30</td>\n",
       "      <td>January</td>\n",
       "    </tr>\n",
       "    <tr>\n",
       "      <th>2</th>\n",
       "      <td>2020-01-01 00:47:41</td>\n",
       "      <td>2020-01-01 00:53:52</td>\n",
       "      <td>1.0</td>\n",
       "      <td>1.0</td>\n",
       "      <td>10.80</td>\n",
       "      <td>January</td>\n",
       "    </tr>\n",
       "    <tr>\n",
       "      <th>3</th>\n",
       "      <td>2020-01-01 00:55:23</td>\n",
       "      <td>2020-01-01 01:00:14</td>\n",
       "      <td>1.0</td>\n",
       "      <td>1.0</td>\n",
       "      <td>8.16</td>\n",
       "      <td>January</td>\n",
       "    </tr>\n",
       "    <tr>\n",
       "      <th>4</th>\n",
       "      <td>2020-01-01 00:01:58</td>\n",
       "      <td>2020-01-01 00:04:16</td>\n",
       "      <td>1.0</td>\n",
       "      <td>2.0</td>\n",
       "      <td>4.80</td>\n",
       "      <td>January</td>\n",
       "    </tr>\n",
       "  </tbody>\n",
       "</table>\n",
       "</div>"
      ],
      "text/plain": [
       "  tpep_pickup_datetime tpep_dropoff_datetime  passenger_count  payment_type  \\\n",
       "0  2020-01-01 00:28:15   2020-01-01 00:33:03              1.0           1.0   \n",
       "1  2020-01-01 00:35:39   2020-01-01 00:43:04              1.0           1.0   \n",
       "2  2020-01-01 00:47:41   2020-01-01 00:53:52              1.0           1.0   \n",
       "3  2020-01-01 00:55:23   2020-01-01 01:00:14              1.0           1.0   \n",
       "4  2020-01-01 00:01:58   2020-01-01 00:04:16              1.0           2.0   \n",
       "\n",
       "   total_amount    month  \n",
       "0         11.27  January  \n",
       "1         12.30  January  \n",
       "2         10.80  January  \n",
       "3          8.16  January  \n",
       "4          4.80  January  "
      ]
     },
     "execution_count": 14,
     "metadata": {},
     "output_type": "execute_result"
    }
   ],
   "source": [
    "from datetime import datetime as dt\n",
    "\n",
    "# Convert Date Columns to DateTime\n",
    "nyc_jan_2020_taxi_df['tpep_pickup_datetime'] = pd.to_datetime(nyc_jan_2020_taxi_df['tpep_pickup_datetime'], format='%Y-%m-%d %H:%M:%S')\n",
    "\n",
    "nyc_jan_2020_taxi_df['tpep_dropoff_datetime'] = pd.to_datetime(nyc_jan_2020_taxi_df['tpep_dropoff_datetime'], format='%Y-%m-%d %H:%M:%S')\n",
    "\n",
    "# Create a new column with the month\n",
    "nyc_jan_2020_taxi_df['month'] = nyc_jan_2020_taxi_df['tpep_pickup_datetime'].dt.strftime(date_format='%B')\n",
    "\n",
    "# Preview the Jan Data\n",
    "nyc_jan_2020_taxi_df.head()"
   ]
  },
  {
   "cell_type": "code",
   "execution_count": 15,
   "metadata": {},
   "outputs": [
    {
     "data": {
      "text/html": [
       "<div>\n",
       "<style scoped>\n",
       "    .dataframe tbody tr th:only-of-type {\n",
       "        vertical-align: middle;\n",
       "    }\n",
       "\n",
       "    .dataframe tbody tr th {\n",
       "        vertical-align: top;\n",
       "    }\n",
       "\n",
       "    .dataframe thead th {\n",
       "        text-align: right;\n",
       "    }\n",
       "</style>\n",
       "<table border=\"1\" class=\"dataframe\">\n",
       "  <thead>\n",
       "    <tr style=\"text-align: right;\">\n",
       "      <th></th>\n",
       "      <th>tpep_pickup_datetime</th>\n",
       "      <th>tpep_dropoff_datetime</th>\n",
       "      <th>passenger_count</th>\n",
       "      <th>payment_type</th>\n",
       "      <th>total_amount</th>\n",
       "      <th>month</th>\n",
       "    </tr>\n",
       "  </thead>\n",
       "  <tbody>\n",
       "    <tr>\n",
       "      <th>0</th>\n",
       "      <td>2020-07-01 00:25:32</td>\n",
       "      <td>2020-07-01 00:33:39</td>\n",
       "      <td>1.0</td>\n",
       "      <td>2.0</td>\n",
       "      <td>9.30</td>\n",
       "      <td>July</td>\n",
       "    </tr>\n",
       "    <tr>\n",
       "      <th>1</th>\n",
       "      <td>2020-07-01 00:03:19</td>\n",
       "      <td>2020-07-01 00:25:43</td>\n",
       "      <td>1.0</td>\n",
       "      <td>1.0</td>\n",
       "      <td>27.80</td>\n",
       "      <td>July</td>\n",
       "    </tr>\n",
       "    <tr>\n",
       "      <th>2</th>\n",
       "      <td>2020-07-01 00:15:11</td>\n",
       "      <td>2020-07-01 00:29:24</td>\n",
       "      <td>1.0</td>\n",
       "      <td>2.0</td>\n",
       "      <td>22.30</td>\n",
       "      <td>July</td>\n",
       "    </tr>\n",
       "    <tr>\n",
       "      <th>3</th>\n",
       "      <td>2020-07-01 00:30:49</td>\n",
       "      <td>2020-07-01 00:38:26</td>\n",
       "      <td>1.0</td>\n",
       "      <td>1.0</td>\n",
       "      <td>14.16</td>\n",
       "      <td>July</td>\n",
       "    </tr>\n",
       "    <tr>\n",
       "      <th>4</th>\n",
       "      <td>2020-07-01 00:31:26</td>\n",
       "      <td>2020-07-01 00:38:02</td>\n",
       "      <td>1.0</td>\n",
       "      <td>2.0</td>\n",
       "      <td>7.80</td>\n",
       "      <td>July</td>\n",
       "    </tr>\n",
       "  </tbody>\n",
       "</table>\n",
       "</div>"
      ],
      "text/plain": [
       "  tpep_pickup_datetime tpep_dropoff_datetime  passenger_count  payment_type  \\\n",
       "0  2020-07-01 00:25:32   2020-07-01 00:33:39              1.0           2.0   \n",
       "1  2020-07-01 00:03:19   2020-07-01 00:25:43              1.0           1.0   \n",
       "2  2020-07-01 00:15:11   2020-07-01 00:29:24              1.0           2.0   \n",
       "3  2020-07-01 00:30:49   2020-07-01 00:38:26              1.0           1.0   \n",
       "4  2020-07-01 00:31:26   2020-07-01 00:38:02              1.0           2.0   \n",
       "\n",
       "   total_amount month  \n",
       "0          9.30  July  \n",
       "1         27.80  July  \n",
       "2         22.30  July  \n",
       "3         14.16  July  \n",
       "4          7.80  July  "
      ]
     },
     "execution_count": 15,
     "metadata": {},
     "output_type": "execute_result"
    }
   ],
   "source": [
    "# Convert Date Columns to DateTime\n",
    "nyc_jul_2020_taxi_df['tpep_pickup_datetime'] = pd.to_datetime(nyc_jul_2020_taxi_df['tpep_pickup_datetime'], format='%Y-%m-%d %H:%M:%S')\n",
    "\n",
    "nyc_jul_2020_taxi_df['tpep_dropoff_datetime'] = pd.to_datetime(nyc_jul_2020_taxi_df['tpep_dropoff_datetime'], format='%Y-%m-%d %H:%M:%S')\n",
    "\n",
    "# Create a new column with the month\n",
    "nyc_jul_2020_taxi_df['month'] = nyc_jul_2020_taxi_df['tpep_pickup_datetime'].dt.strftime(date_format='%B')\n",
    "\n",
    "# Preview the Jan Data\n",
    "nyc_jul_2020_taxi_df.head()"
   ]
  },
  {
   "cell_type": "markdown",
   "metadata": {},
   "source": [
    "With that data in hand, I want you to answer a few questions:\n",
    "- How many rides were taken in Jan vs. Jul?\n",
    "- How much money (in total) was collected by taxis in Jan vs. Jul?\n",
    "- Did the proportion of trips with more than passenger change dramatically?\n",
    "- Did people use cash less in Jul than in Jan?"
   ]
  },
  {
   "cell_type": "code",
   "execution_count": 16,
   "metadata": {},
   "outputs": [
    {
     "name": "stdout",
     "output_type": "stream",
     "text": [
      "Number of January rides --> 6339567\n",
      "Number of July rides --> 737565\n"
     ]
    }
   ],
   "source": [
    "# Rides in January vs July\n",
    "\n",
    "num_of_jan_rides = nyc_jan_2020_taxi_df[['passenger_count']].count()\n",
    "\n",
    "num_of_jul_rides = nyc_jul_2020_taxi_df[['passenger_count']].count()\n",
    "\n",
    "# Retrieve Int object from Numpy\n",
    "print(f'Number of January rides --> {num_of_jan_rides.item()}\\nNumber of July rides --> {num_of_jul_rides.item()}')"
   ]
  },
  {
   "cell_type": "code",
   "execution_count": 17,
   "metadata": {},
   "outputs": [
    {
     "name": "stdout",
     "output_type": "stream",
     "text": [
      "Total amount from Rides in January --> 119,537,617.35\n",
      "Total amount from Rides in July --> 14,912,844.09\n"
     ]
    }
   ],
   "source": [
    "# How much money (in total) was collected by taxis in Jan vs. Jul?\n",
    "tot_amt_coll_Jan = nyc_jan_2020_taxi_df[['total_amount']].sum()\n",
    "\n",
    "tot_amt_coll_Jul = nyc_jul_2020_taxi_df[['total_amount']].sum()\n",
    "\n",
    "# Retrieve Int object from Numpy\n",
    "print(f'Total amount from Rides in January --> {tot_amt_coll_Jan.item():,.2f}\\nTotal amount from Rides in July --> {tot_amt_coll_Jul.item():,.2f}')"
   ]
  },
  {
   "cell_type": "code",
   "execution_count": 18,
   "metadata": {},
   "outputs": [
    {
     "name": "stdout",
     "output_type": "stream",
     "text": [
      "Total number of Rides in January with more than 1 passenger --> 1,678,039.00\n",
      "Total number of Rides in July with more than 1 passenger --> 152,050.00\n"
     ]
    }
   ],
   "source": [
    "# Did the proportion of trips with more than passenger change dramatically?\n",
    "\n",
    "more_than_one_pass_trips_jan = nyc_jan_2020_taxi_df.loc[nyc_jan_2020_taxi_df['passenger_count'] > 1, ['passenger_count']].count()\n",
    "\n",
    "\n",
    "more_than_one_pass_trips_jul = nyc_jul_2020_taxi_df.loc[nyc_jul_2020_taxi_df['passenger_count'] > 1, ['passenger_count']].count()\n",
    "\n",
    "# Retrieve Int object from Numpy\n",
    "print(f'Total number of Rides in January with more than 1 passenger --> {more_than_one_pass_trips_jan.item():,.2f}\\nTotal number of Rides in July with more than 1 passenger --> {more_than_one_pass_trips_jul.item():,.2f}')"
   ]
  },
  {
   "cell_type": "code",
   "execution_count": 19,
   "metadata": {},
   "outputs": [
    {
     "name": "stdout",
     "output_type": "stream",
     "text": [
      "Total number of Rides in January with cash payment --> 1,593,834.00\n",
      "Total number of Rides in July with cash payment --> 236,433.00\n"
     ]
    }
   ],
   "source": [
    "# Did people use cash less in 2020 than in 2019?\n",
    "jan_cash_payment = nyc_jan_2020_taxi_df.loc[nyc_jan_2020_taxi_df['payment_type'] == 2, ['payment_type']].count()\n",
    "\n",
    "jul_cash_payment = nyc_jul_2020_taxi_df.loc[nyc_jul_2020_taxi_df['payment_type'] == 2, ['payment_type']].count()\n",
    " \n",
    " # Retrieve Int object from Numpy\n",
    "print(f'Total number of Rides in January with cash payment --> {jan_cash_payment.item():,.2f}\\nTotal number of Rides in July with cash payment --> {jul_cash_payment.item():,.2f}')"
   ]
  },
  {
   "cell_type": "code",
   "execution_count": 20,
   "metadata": {},
   "outputs": [
    {
     "data": {
      "text/html": [
       "<div>\n",
       "<style scoped>\n",
       "    .dataframe tbody tr th:only-of-type {\n",
       "        vertical-align: middle;\n",
       "    }\n",
       "\n",
       "    .dataframe tbody tr th {\n",
       "        vertical-align: top;\n",
       "    }\n",
       "\n",
       "    .dataframe thead th {\n",
       "        text-align: right;\n",
       "    }\n",
       "</style>\n",
       "<table border=\"1\" class=\"dataframe\">\n",
       "  <thead>\n",
       "    <tr style=\"text-align: right;\">\n",
       "      <th></th>\n",
       "      <th>passenger_count</th>\n",
       "      <th>payment_type</th>\n",
       "      <th>total_amount</th>\n",
       "    </tr>\n",
       "  </thead>\n",
       "  <tbody>\n",
       "    <tr>\n",
       "      <th>passenger_count</th>\n",
       "      <td>1.000000</td>\n",
       "      <td>0.010280</td>\n",
       "      <td>0.006659</td>\n",
       "    </tr>\n",
       "    <tr>\n",
       "      <th>payment_type</th>\n",
       "      <td>0.010280</td>\n",
       "      <td>1.000000</td>\n",
       "      <td>-0.141464</td>\n",
       "    </tr>\n",
       "    <tr>\n",
       "      <th>total_amount</th>\n",
       "      <td>0.006659</td>\n",
       "      <td>-0.141464</td>\n",
       "      <td>1.000000</td>\n",
       "    </tr>\n",
       "  </tbody>\n",
       "</table>\n",
       "</div>"
      ],
      "text/plain": [
       "                 passenger_count  payment_type  total_amount\n",
       "passenger_count         1.000000      0.010280      0.006659\n",
       "payment_type            0.010280      1.000000     -0.141464\n",
       "total_amount            0.006659     -0.141464      1.000000"
      ]
     },
     "execution_count": 20,
     "metadata": {},
     "output_type": "execute_result"
    }
   ],
   "source": [
    "# Correlation Matrix for Jan 2020\n",
    "nyc_jan_2020_taxi_df.corr()"
   ]
  },
  {
   "cell_type": "code",
   "execution_count": 21,
   "metadata": {},
   "outputs": [
    {
     "data": {
      "text/html": [
       "<div>\n",
       "<style scoped>\n",
       "    .dataframe tbody tr th:only-of-type {\n",
       "        vertical-align: middle;\n",
       "    }\n",
       "\n",
       "    .dataframe tbody tr th {\n",
       "        vertical-align: top;\n",
       "    }\n",
       "\n",
       "    .dataframe thead th {\n",
       "        text-align: right;\n",
       "    }\n",
       "</style>\n",
       "<table border=\"1\" class=\"dataframe\">\n",
       "  <thead>\n",
       "    <tr style=\"text-align: right;\">\n",
       "      <th></th>\n",
       "      <th>passenger_count</th>\n",
       "      <th>payment_type</th>\n",
       "      <th>total_amount</th>\n",
       "    </tr>\n",
       "  </thead>\n",
       "  <tbody>\n",
       "    <tr>\n",
       "      <th>passenger_count</th>\n",
       "      <td>1.000000</td>\n",
       "      <td>-0.000618</td>\n",
       "      <td>0.004711</td>\n",
       "    </tr>\n",
       "    <tr>\n",
       "      <th>payment_type</th>\n",
       "      <td>-0.000618</td>\n",
       "      <td>1.000000</td>\n",
       "      <td>-0.166798</td>\n",
       "    </tr>\n",
       "    <tr>\n",
       "      <th>total_amount</th>\n",
       "      <td>0.004711</td>\n",
       "      <td>-0.166798</td>\n",
       "      <td>1.000000</td>\n",
       "    </tr>\n",
       "  </tbody>\n",
       "</table>\n",
       "</div>"
      ],
      "text/plain": [
       "                 passenger_count  payment_type  total_amount\n",
       "passenger_count         1.000000     -0.000618      0.004711\n",
       "payment_type           -0.000618      1.000000     -0.166798\n",
       "total_amount            0.004711     -0.166798      1.000000"
      ]
     },
     "execution_count": 21,
     "metadata": {},
     "output_type": "execute_result"
    }
   ],
   "source": [
    "# Correlation Matrix for Jul 2020\n",
    "nyc_jul_2020_taxi_df.corr()"
   ]
  },
  {
   "cell_type": "code",
   "execution_count": 22,
   "metadata": {},
   "outputs": [
    {
     "data": {
      "text/html": [
       "<div>\n",
       "<style scoped>\n",
       "    .dataframe tbody tr th:only-of-type {\n",
       "        vertical-align: middle;\n",
       "    }\n",
       "\n",
       "    .dataframe tbody tr th {\n",
       "        vertical-align: top;\n",
       "    }\n",
       "\n",
       "    .dataframe thead th {\n",
       "        text-align: right;\n",
       "    }\n",
       "</style>\n",
       "<table border=\"1\" class=\"dataframe\">\n",
       "  <thead>\n",
       "    <tr style=\"text-align: right;\">\n",
       "      <th></th>\n",
       "      <th>tpep_pickup_datetime</th>\n",
       "      <th>tpep_dropoff_datetime</th>\n",
       "      <th>passenger_count</th>\n",
       "      <th>payment_type</th>\n",
       "      <th>total_amount</th>\n",
       "      <th>month</th>\n",
       "    </tr>\n",
       "  </thead>\n",
       "  <tbody>\n",
       "    <tr>\n",
       "      <th>1782140</th>\n",
       "      <td>2020-01-10 15:04:23</td>\n",
       "      <td>2020-01-10 15:15:07</td>\n",
       "      <td>3.0</td>\n",
       "      <td>1.0</td>\n",
       "      <td>14.76</td>\n",
       "      <td>January</td>\n",
       "    </tr>\n",
       "    <tr>\n",
       "      <th>326513</th>\n",
       "      <td>2020-07-16 07:12:36</td>\n",
       "      <td>2020-07-16 07:18:56</td>\n",
       "      <td>1.0</td>\n",
       "      <td>2.0</td>\n",
       "      <td>9.30</td>\n",
       "      <td>July</td>\n",
       "    </tr>\n",
       "    <tr>\n",
       "      <th>1607198</th>\n",
       "      <td>2020-01-09 19:44:19</td>\n",
       "      <td>2020-01-09 19:59:29</td>\n",
       "      <td>1.0</td>\n",
       "      <td>1.0</td>\n",
       "      <td>16.30</td>\n",
       "      <td>January</td>\n",
       "    </tr>\n",
       "    <tr>\n",
       "      <th>2512384</th>\n",
       "      <td>2020-01-14 06:45:31</td>\n",
       "      <td>2020-01-14 06:58:53</td>\n",
       "      <td>1.0</td>\n",
       "      <td>1.0</td>\n",
       "      <td>17.38</td>\n",
       "      <td>January</td>\n",
       "    </tr>\n",
       "    <tr>\n",
       "      <th>5272310</th>\n",
       "      <td>2020-01-27 09:45:12</td>\n",
       "      <td>2020-01-27 10:00:32</td>\n",
       "      <td>1.0</td>\n",
       "      <td>2.0</td>\n",
       "      <td>13.80</td>\n",
       "      <td>January</td>\n",
       "    </tr>\n",
       "    <tr>\n",
       "      <th>2567563</th>\n",
       "      <td>2020-01-14 11:47:07</td>\n",
       "      <td>2020-01-14 11:49:54</td>\n",
       "      <td>2.0</td>\n",
       "      <td>1.0</td>\n",
       "      <td>8.55</td>\n",
       "      <td>January</td>\n",
       "    </tr>\n",
       "    <tr>\n",
       "      <th>4887242</th>\n",
       "      <td>2020-01-25 10:23:12</td>\n",
       "      <td>2020-01-25 10:27:35</td>\n",
       "      <td>1.0</td>\n",
       "      <td>1.0</td>\n",
       "      <td>11.44</td>\n",
       "      <td>January</td>\n",
       "    </tr>\n",
       "    <tr>\n",
       "      <th>586492</th>\n",
       "      <td>2020-01-04 14:14:15</td>\n",
       "      <td>2020-01-04 14:20:35</td>\n",
       "      <td>2.0</td>\n",
       "      <td>1.0</td>\n",
       "      <td>12.30</td>\n",
       "      <td>January</td>\n",
       "    </tr>\n",
       "    <tr>\n",
       "      <th>3756326</th>\n",
       "      <td>2020-01-19 21:01:59</td>\n",
       "      <td>2020-01-19 21:04:54</td>\n",
       "      <td>1.0</td>\n",
       "      <td>2.0</td>\n",
       "      <td>7.80</td>\n",
       "      <td>January</td>\n",
       "    </tr>\n",
       "    <tr>\n",
       "      <th>2802526</th>\n",
       "      <td>2020-01-15 13:58:28</td>\n",
       "      <td>2020-01-15 14:20:07</td>\n",
       "      <td>2.0</td>\n",
       "      <td>1.0</td>\n",
       "      <td>24.35</td>\n",
       "      <td>January</td>\n",
       "    </tr>\n",
       "  </tbody>\n",
       "</table>\n",
       "</div>"
      ],
      "text/plain": [
       "        tpep_pickup_datetime tpep_dropoff_datetime  passenger_count  \\\n",
       "1782140  2020-01-10 15:04:23   2020-01-10 15:15:07              3.0   \n",
       "326513   2020-07-16 07:12:36   2020-07-16 07:18:56              1.0   \n",
       "1607198  2020-01-09 19:44:19   2020-01-09 19:59:29              1.0   \n",
       "2512384  2020-01-14 06:45:31   2020-01-14 06:58:53              1.0   \n",
       "5272310  2020-01-27 09:45:12   2020-01-27 10:00:32              1.0   \n",
       "2567563  2020-01-14 11:47:07   2020-01-14 11:49:54              2.0   \n",
       "4887242  2020-01-25 10:23:12   2020-01-25 10:27:35              1.0   \n",
       "586492   2020-01-04 14:14:15   2020-01-04 14:20:35              2.0   \n",
       "3756326  2020-01-19 21:01:59   2020-01-19 21:04:54              1.0   \n",
       "2802526  2020-01-15 13:58:28   2020-01-15 14:20:07              2.0   \n",
       "\n",
       "         payment_type  total_amount    month  \n",
       "1782140           1.0         14.76  January  \n",
       "326513            2.0          9.30     July  \n",
       "1607198           1.0         16.30  January  \n",
       "2512384           1.0         17.38  January  \n",
       "5272310           2.0         13.80  January  \n",
       "2567563           1.0          8.55  January  \n",
       "4887242           1.0         11.44  January  \n",
       "586492            1.0         12.30  January  \n",
       "3756326           2.0          7.80  January  \n",
       "2802526           1.0         24.35  January  "
      ]
     },
     "execution_count": 22,
     "metadata": {},
     "output_type": "execute_result"
    }
   ],
   "source": [
    "# Concatenate  the 2 dataframes into a single taxis dataframe\n",
    "taxis_df = pd.concat([nyc_jan_2020_taxi_df, nyc_jul_2020_taxi_df])\n",
    "\n",
    "taxis_df.sample(10)"
   ]
  },
  {
   "cell_type": "markdown",
   "metadata": {},
   "source": [
    "### Setting Column Data Types"
   ]
  },
  {
   "cell_type": "code",
   "execution_count": 30,
   "metadata": {},
   "outputs": [
    {
     "data": {
      "text/plain": [
       "passenger_count    6339567\n",
       "payment_type       6339567\n",
       "total_amount       6405008\n",
       "dtype: int64"
      ]
     },
     "execution_count": 30,
     "metadata": {},
     "output_type": "execute_result"
    }
   ],
   "source": [
    "import numpy as np\n",
    "\n",
    "df = pd.read_csv('data/nyc_taxi_2020-01.csv', \n",
    "                 usecols = ['passenger_count', 'payment_type', 'total_amount'],\n",
    "                 dtype = {'passenger_count': np.float16, 'payment_type': np.float16, 'total_amount': np.float16}\n",
    "                 )\n",
    "\n",
    "# df.count to determine which columns might contain NaN\n",
    "df.count()"
   ]
  },
  {
   "cell_type": "code",
   "execution_count": 29,
   "metadata": {},
   "outputs": [],
   "source": [
    "# Now drop all na and assign to the dataframe\n",
    "\n",
    "df = df.dropna().copy()\n",
    "\n",
    "# : to indicate all rows\n",
    "df.loc[:, 'passenger_count'] = df['passenger_count'].astype(np.int8)\n",
    "\n",
    "df.loc[:, 'payment_type'] = df['payment_type'].astype(np.int8)\n",
    "\n",
    "\n"
   ]
  },
  {
   "cell_type": "markdown",
   "metadata": {},
   "source": [
    "### Working with URLS\n",
    "\n",
    "Retrieve the dates and values for Bitcoin over the most recent year,\n",
    "as of when you read this. (For that reason, your results will likely look a bit different from mine,\n",
    "even if you use the same code to calculate them.) Once you have retrieved this data, I want you\n",
    "to produce a report showing:\n",
    "- The closing price for the most recent trading day\n",
    "- The lowest historical price, and the date of that price\n",
    "- The highest historical price, and the date of that price\n",
    "\n",
    "**https://api.blockchain.info/charts/market-price?format=csv**\n"
   ]
  },
  {
   "cell_type": "code",
   "execution_count": 2,
   "metadata": {},
   "outputs": [
    {
     "data": {
      "text/html": [
       "<div>\n",
       "<style scoped>\n",
       "    .dataframe tbody tr th:only-of-type {\n",
       "        vertical-align: middle;\n",
       "    }\n",
       "\n",
       "    .dataframe tbody tr th {\n",
       "        vertical-align: top;\n",
       "    }\n",
       "\n",
       "    .dataframe thead th {\n",
       "        text-align: right;\n",
       "    }\n",
       "</style>\n",
       "<table border=\"1\" class=\"dataframe\">\n",
       "  <thead>\n",
       "    <tr style=\"text-align: right;\">\n",
       "      <th></th>\n",
       "      <th>date</th>\n",
       "      <th>price</th>\n",
       "    </tr>\n",
       "  </thead>\n",
       "  <tbody>\n",
       "    <tr>\n",
       "      <th>0</th>\n",
       "      <td>2021-02-12 00:00:00</td>\n",
       "      <td>48013.38</td>\n",
       "    </tr>\n",
       "    <tr>\n",
       "      <th>1</th>\n",
       "      <td>2021-02-13 00:00:00</td>\n",
       "      <td>47471.40</td>\n",
       "    </tr>\n",
       "    <tr>\n",
       "      <th>2</th>\n",
       "      <td>2021-02-14 00:00:00</td>\n",
       "      <td>47185.19</td>\n",
       "    </tr>\n",
       "    <tr>\n",
       "      <th>3</th>\n",
       "      <td>2021-02-15 00:00:00</td>\n",
       "      <td>48720.37</td>\n",
       "    </tr>\n",
       "    <tr>\n",
       "      <th>4</th>\n",
       "      <td>2021-02-16 00:00:00</td>\n",
       "      <td>47951.85</td>\n",
       "    </tr>\n",
       "  </tbody>\n",
       "</table>\n",
       "</div>"
      ],
      "text/plain": [
       "                  date     price\n",
       "0  2021-02-12 00:00:00  48013.38\n",
       "1  2021-02-13 00:00:00  47471.40\n",
       "2  2021-02-14 00:00:00  47185.19\n",
       "3  2021-02-15 00:00:00  48720.37\n",
       "4  2021-02-16 00:00:00  47951.85"
      ]
     },
     "execution_count": 2,
     "metadata": {},
     "output_type": "execute_result"
    }
   ],
   "source": [
    "snp_stock_url = \"https://api.blockchain.info/charts/market-price?format=csv\"\n",
    "\n",
    "snp_stock_df = pd.read_csv(snp_stock_url, header=None, names=['date', 'price'])\n",
    "\n",
    "snp_stock_df.head()"
   ]
  },
  {
   "cell_type": "code",
   "execution_count": 3,
   "metadata": {},
   "outputs": [
    {
     "name": "stdout",
     "output_type": "stream",
     "text": [
      "<class 'pandas.core.frame.DataFrame'>\n",
      "RangeIndex: 366 entries, 0 to 365\n",
      "Data columns (total 2 columns):\n",
      " #   Column  Non-Null Count  Dtype  \n",
      "---  ------  --------------  -----  \n",
      " 0   date    366 non-null    object \n",
      " 1   price   366 non-null    float64\n",
      "dtypes: float64(1), object(1)\n",
      "memory usage: 5.8+ KB\n"
     ]
    }
   ],
   "source": [
    "# Lets decribe the dataset\n",
    "snp_stock_df.info()"
   ]
  },
  {
   "cell_type": "code",
   "execution_count": 6,
   "metadata": {},
   "outputs": [
    {
     "data": {
      "text/plain": [
       "365    42401.27\n",
       "Name: price, dtype: float64"
      ]
     },
     "execution_count": 6,
     "metadata": {},
     "output_type": "execute_result"
    }
   ],
   "source": [
    "# The closing price for the most recent trading day\n",
    "snp_stock_df.tail(1)['price']"
   ]
  },
  {
   "cell_type": "code",
   "execution_count": 8,
   "metadata": {},
   "outputs": [
    {
     "data": {
      "text/html": [
       "<div>\n",
       "<style scoped>\n",
       "    .dataframe tbody tr th:only-of-type {\n",
       "        vertical-align: middle;\n",
       "    }\n",
       "\n",
       "    .dataframe tbody tr th {\n",
       "        vertical-align: top;\n",
       "    }\n",
       "\n",
       "    .dataframe thead th {\n",
       "        text-align: right;\n",
       "    }\n",
       "</style>\n",
       "<table border=\"1\" class=\"dataframe\">\n",
       "  <thead>\n",
       "    <tr style=\"text-align: right;\">\n",
       "      <th></th>\n",
       "      <th>date</th>\n",
       "    </tr>\n",
       "  </thead>\n",
       "  <tbody>\n",
       "    <tr>\n",
       "      <th>159</th>\n",
       "      <td>2021-07-21 00:00:00</td>\n",
       "    </tr>\n",
       "  </tbody>\n",
       "</table>\n",
       "</div>"
      ],
      "text/plain": [
       "                    date\n",
       "159  2021-07-21 00:00:00"
      ]
     },
     "execution_count": 8,
     "metadata": {},
     "output_type": "execute_result"
    }
   ],
   "source": [
    "# The lowest historical price, and the date of that price\n",
    "snp_stock_df.loc[(snp_stock_df['price'] == snp_stock_df['price'].min()), ['date']]"
   ]
  },
  {
   "cell_type": "code",
   "execution_count": 9,
   "metadata": {},
   "outputs": [
    {
     "data": {
      "text/html": [
       "<div>\n",
       "<style scoped>\n",
       "    .dataframe tbody tr th:only-of-type {\n",
       "        vertical-align: middle;\n",
       "    }\n",
       "\n",
       "    .dataframe tbody tr th {\n",
       "        vertical-align: top;\n",
       "    }\n",
       "\n",
       "    .dataframe thead th {\n",
       "        text-align: right;\n",
       "    }\n",
       "</style>\n",
       "<table border=\"1\" class=\"dataframe\">\n",
       "  <thead>\n",
       "    <tr style=\"text-align: right;\">\n",
       "      <th></th>\n",
       "      <th>date</th>\n",
       "    </tr>\n",
       "  </thead>\n",
       "  <tbody>\n",
       "    <tr>\n",
       "      <th>270</th>\n",
       "      <td>2021-11-09 00:00:00</td>\n",
       "    </tr>\n",
       "  </tbody>\n",
       "</table>\n",
       "</div>"
      ],
      "text/plain": [
       "                    date\n",
       "270  2021-11-09 00:00:00"
      ]
     },
     "execution_count": 9,
     "metadata": {},
     "output_type": "execute_result"
    }
   ],
   "source": [
    "# The highest historical price, and the date of that price\n",
    "snp_stock_df.loc[(snp_stock_df['price'] == snp_stock_df['price'].max()), ['date']]\n"
   ]
  }
 ],
 "metadata": {
  "interpreter": {
   "hash": "f86afb142bb23b6fd74d662308d82ebd3b7a4b66807793e5760ad098afc030e9"
  },
  "kernelspec": {
   "display_name": "Python 3.9.7 ('pandas_workout_env')",
   "language": "python",
   "name": "python3"
  },
  "language_info": {
   "codemirror_mode": {
    "name": "ipython",
    "version": 3
   },
   "file_extension": ".py",
   "mimetype": "text/x-python",
   "name": "python",
   "nbconvert_exporter": "python",
   "pygments_lexer": "ipython3",
   "version": "3.9.7"
  },
  "orig_nbformat": 4
 },
 "nbformat": 4,
 "nbformat_minor": 2
}
